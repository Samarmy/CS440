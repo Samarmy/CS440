{
 "cells": [
  {
   "cell_type": "markdown",
   "metadata": {},
   "source": [
    "<h1>Towers of Hanoi Puzzle Functions</h1>\n",
    "\n",
    "Description: The Towers of Hanoi Puzzle is a puzzle involving three stacks and three objects with the values 1, 2, and 3. The game starts with all objects stacked on the first stack in order from least to greatest (1, 2, 3) and the other two stacks are empty. You can then move the top of any stack to a different stack as long as the object being moved has a value less then the top of the stack it is being moved to (or the stack is empty). The goal of the game is to have the first two stacks empty and the third stack hold all of the objects in the order (1, 2, 3).\n",
    "\n",
    "Observations: It seems like a pretty straight-forward game to win for a human. The optimal path to win  only takes 7 moves and it's pretty easy to figure out. On the other hand its seemed more difficult for an algorithm to solve because in the beggining the only state it knows is a good move is the goal state and all the other states have the same weight of 1. So the algorithm has to run through the game multiple times to figure out which moves have the best weight so it can then find the optimal path.\n",
    "\n",
    "Difficulties: I had some trouble with copying the data structure of 3 lists inside one list until I looked up the copy.deepcopy method. I was a little confused why we implemented the makeMove as a two index list (from stack a, to stack b) and not as the future state (i.e. [[1, 2, 3], [] ,[]] &rightarrow; [[2, 3], [], [1]]). But overall the problem seemed simple and easy to implement."
   ]
  },
  {
   "cell_type": "markdown",
   "metadata": {},
   "source": [
    "<h3>printState Function</h3>\n",
    "\n",
    "Input: List of 3 lists which may be [], [1], [2], [3], [1, 2], [1, 3], [2, 3], or [1, 2, 3] where the integers 1, 2, 3 can only appear once throughout the main list.\n",
    "\n",
    "Output: 3 stacks next to each other which can contain the integers 1, 2, 3 or be empty. Each stack are in order from least to greatest.\n",
    "\n",
    "Description: A visualization of the Towers of Hanoi Puzzle."
   ]
  },
  {
   "cell_type": "code",
   "execution_count": 70,
   "metadata": {},
   "outputs": [
    {
     "name": "stdout",
     "output_type": "stream",
     "text": [
      "     \n",
      "    2\n",
      "  1 3\n",
      "------\n"
     ]
    }
   ],
   "source": [
    "import copy;\n",
    "import numpy as np;\n",
    "import random;\n",
    "\n",
    "def printState(state, stackSize = 3):                   \n",
    "    for x in state:                 #Loops though each sublist in the first list\n",
    "        while len(x) < stackSize:   #Loop though empty list of length stackSize \n",
    "            x.insert(0, \" \")        #Fills stack with empty string\n",
    "    \n",
    "    for x in range(0, stackSize):   #Loops through each level in stacks\n",
    "        for y in range(0,3):        #Loops though each sublist in list\n",
    "            if (y < 2):             #If the object is not in the last sublist print without linebreak\n",
    "                print(state[y][x] if x < len(state[y]) else \" \", end=\" \", flush=True)\n",
    "            else:                   #Else the object is in the last sublist print with linebreak\n",
    "                print(state[y][x] if x < len(state[y]) else \" \")\n",
    "    print(\"------\")\n",
    "\n",
    "state = [[ ], [1], [2, 3]]\n",
    "printState(state)"
   ]
  },
  {
   "cell_type": "markdown",
   "metadata": {},
   "source": [
    "<h3>validMoves Function</h3>\n",
    "\n",
    "Input: List of 3 lists which may be [], [1], [2], [3], [1, 2], [1, 3], [2, 3], or [1, 2, 3] where the integers 1, 2, 3 can only appear once throughout the main list.\n",
    "\n",
    "Output: List of lists with length two. Where the sublist can only be [1, 2], [1, 3], [2, 1], [2, 3], [3, 1], or [3, 2].\n",
    "\n",
    "Description: Returns a list of possible moves for the Tower of Hanoi Puzzle i.e. [[1, 2, 3], [], []] returns [1, 2] and [1, 3]. So you can move the top object in stack one to stack two [1, 2] or stack three [1, 3]."
   ]
  },
  {
   "cell_type": "code",
   "execution_count": 32,
   "metadata": {},
   "outputs": [
    {
     "name": "stdout",
     "output_type": "stream",
     "text": [
      "[[1, 2], [1, 3], [2, 3]]\n",
      "\n"
     ]
    }
   ],
   "source": [
    "def validMoves(state):\n",
    "    succ = []                                           #Initializes list of moves\n",
    "    \n",
    "    for x in range(0,3):                                #loops though each of the three stacks\n",
    "        if len(state[x]) > 0:                           #If the stack is not empty\n",
    "            rowA = state[x]                             #RowA is stack x\n",
    "            \n",
    "            if x == 0:                                  #If rowA is the first stack\n",
    "                rowB = state[1]                         #RowB is second stack\n",
    "                rowC = state[2]                         #RowC is thrid stack\n",
    "            elif (x == 1):                              #If rowA is the second stack\n",
    "                rowB = state[0]                         #RowB is first stack\n",
    "                rowC = state[2]                         #RowC is third stack\n",
    "            elif(x == 2):                               #If rowA is the third stack\n",
    "                rowB = state[0]                         #RowB is first stack\n",
    "                rowC = state[1]                         #RowC is second stack\n",
    "                \n",
    "                \n",
    "            if(len(rowB) == 0 or rowA[0] < rowB[0]):    #If rowB is empty or rowA's first element is less then rowB's first element\n",
    "                if x == 0: succ.append([1, 2])          #If rowA is first row add [1, 2] to list of moves\n",
    "                elif x == 1: succ.append([2, 1])        #If rowA is second row add [2, 1] to list of moves\n",
    "                else: succ.append([3, 1])               #If rowA is third row add [3, 1] to list of moves\n",
    "\n",
    "            if(len(rowC) == 0 or rowA[0] < rowC[0]):    #If rowC is empty or rowA's first element is less then rowC's first element\n",
    "                if x == 0: succ.append([1, 3])          #If rowA is first row add [1, 3] to list of moves\n",
    "                elif x == 1: succ.append([2, 3])        #If rowA is second row add [2, 3] to list of moves\n",
    "                else: succ.append([3, 2])               #If rowA is third row add [3, 2] to list of moves\n",
    "        \n",
    "    return succ                                         #Return list of possible moves\n",
    "\n",
    "state = [[1], [2], [3]]\n",
    "print(validMoves(state))\n",
    "print()"
   ]
  },
  {
   "cell_type": "markdown",
   "metadata": {},
   "source": [
    "<h3>makeMove Function</h3>\n",
    "\n",
    "Input: List of 3 lists which may be [], [1], [2], [3], [1, 2], [1, 3], [2, 3], or [1, 2, 3] where the integers 1, 2, 3 can only appear once throughout the main list. And list of length 2 which can can only be [1, 2], [1, 3], [2, 1], [2, 3], [3, 1], or [3, 2].\n",
    "\n",
    "Output: List of 3 lists which may be [], [1], [2], [3], [1, 2], [1, 3], [2, 3], or [1, 2, 3] where the integers 1, 2, 3 can only appear once throughout the main list.\n",
    "\n",
    "Description: Takes a state of the Towers of Hanoi Problem and then a move [a, b] which moves the top object of column a to the top of column b and applies that move to the state and returns a new state for the Towers of Hanoi Problem."
   ]
  },
  {
   "cell_type": "code",
   "execution_count": 33,
   "metadata": {},
   "outputs": [
    {
     "data": {
      "text/plain": [
       "[[2, 3], [1], []]"
      ]
     },
     "execution_count": 33,
     "metadata": {},
     "output_type": "execute_result"
    }
   ],
   "source": [
    "def makeMove(state, move):\n",
    "    temp = copy.deepcopy(state)                       #Copys original state\n",
    "    temp[move[1] - 1].insert(0, temp[move[0] - 1][0]) #Inserts top object of old stack to top object in new stack \n",
    "    temp[move[0] - 1].pop(0)                          #Deletes top object of old stack\n",
    "    \n",
    "    return temp                                       #Returns new state\n",
    "\n",
    "state = [[1, 2, 3], [], []]\n",
    "move = [1, 2]\n",
    "makeMove(state, move)"
   ]
  },
  {
   "cell_type": "markdown",
   "metadata": {},
   "source": [
    "<h1>Q Functions</h1>\n",
    "\n",
    "Description: Takes a problem that has a start state and goal state and intermediate (states, moves) and finds the cost of each (states, moves) to get to the goal state. It trains Q which is a list of all possible (states, moves) in the problem and assigns lower values to states that are closer to the goal state. So when having to decide which state to move to it looks up the possible states and picks the one with the least cost.\n",
    "\n",
    "Observations: The higher the epsilon rate the higher the costs values. The higher the learning rate the higher the cost values. Q seems to be a really efficient way to solve the Towers of Hanoi problem, mostly because there is a fairly small choice of (states, moves). If we were solving something much more complex I could see Q becoming too large as a problem. Implementing Q was simpler then I thought, and the whole training Q concept made a lot more sense after coding it.\n",
    "\n",
    "Difficulties: I was a little confused about the learningRate variable and why we use it. It does seem to more fairly distributes the cost values. I also wasn't sure about which trainQ algorithm we were suppose to base this algorithm on (the tic-tac-toe or the maze), I ended up using code from both of them. Initializing all (state, move) as 1 was also a little confusing in the beggining."
   ]
  },
  {
   "cell_type": "markdown",
   "metadata": {},
   "source": [
    "<h3>tupleFormat Function</h3>\n",
    "\n",
    "Input: state&rightarrow;List of three lists.<br/>\n",
    "move&rightarrow;List.\n",
    "\n",
    "Output: Returns tuple containing two tuples. The first sub-tuple contains three tuples and the second sub-tuple is just a single tuple.\n",
    "\n",
    "Description: Takes a state and move of the Towers of Hanoi Problem and changes them from lists to tuples so they can be used as key lookups in Q."
   ]
  },
  {
   "cell_type": "code",
   "execution_count": 34,
   "metadata": {},
   "outputs": [
    {
     "data": {
      "text/plain": [
       "(((1,), (2,), (1,)), (2, 3))"
      ]
     },
     "execution_count": 34,
     "metadata": {},
     "output_type": "execute_result"
    }
   ],
   "source": [
    "def tupleFormat(state, move):\n",
    "    return ((tuple(state[0]), tuple(state[1]), tuple(state[2])), tuple(move))\n",
    "\n",
    "tupleFormat([[1], [2], [1]], [2,3])"
   ]
  },
  {
   "cell_type": "markdown",
   "metadata": {},
   "source": [
    "<h3>epsilonGreedy Function</h3>\n",
    "\n",
    "Input: epsilon&rightarrow;A number between 1 and 0.<br/>\n",
    "Q&rightarrow;A list with a state and move as the key and a number as the value.<br/>\n",
    "state&rightarrow;A state which can be any data type.<br/>\n",
    "moves&rightarrow;Function that returns all possible moves for the state.\n",
    "\n",
    "Output: A move selected for the state input.\n",
    "\n",
    "Description: Takes a state input and decides its next move based on the input epsilon and Q. It takes the epsilon and compares it to a randomly generated number and if epsilon is greater it chooses a random move. If epsilon is less then the randomly generated number it looks up the state and all possible moves in Q and picks the one with the lowest cost and returns that least-cost move."
   ]
  },
  {
   "cell_type": "code",
   "execution_count": 35,
   "metadata": {},
   "outputs": [
    {
     "data": {
      "text/plain": [
       "[2, 3]"
      ]
     },
     "execution_count": 35,
     "metadata": {},
     "output_type": "execute_result"
    }
   ],
   "source": [
    "def epsilonGreedy(epsilon, Q, state, moves = validMoves):\n",
    "    valMov = moves(state)                                                 #Finds all possible moves for state\n",
    "    if np.random.uniform() < epsilon:                                     #If random number is less then epsilon\n",
    "        # Random Move\n",
    "        return random.choice(valMov)                                      #Returns random choice from possible moves\n",
    "    else:                                                                 #If random number is greater then epsilon\n",
    "        # Greedy Move\n",
    "        Qs = np.array([Q.get(tupleFormat(state, m), 0) for m in valMov])  #Looks up each move and state in Q\n",
    "        return valMov[ np.argmin(Qs) ]                                    #Returns lowest Q value move\n",
    "    \n",
    "Q, stepsToGoal = trainQ(100, 0.5, 0.7, validMoves, makeMove)    \n",
    "epsilonGreedy(0, Q, [[], [1], [2, 3]] )   "
   ]
  },
  {
   "cell_type": "markdown",
   "metadata": {},
   "source": [
    "<h3>trainQ Function</h3>\n",
    "\n",
    "Input: nRepetitions&rightarrow;The number of repetitions to train Q.<br/>\n",
    "learningRate&rightarrow;Number from 1 to 0 for learning rate which makes moves farther from goal cost less.<br/>\n",
    "epsilonDecayFactor&rightarrow;Number from 1 to 0 which decides how fast epsilon decreases and thus deciding whether epsilonGreedy picks randomly or using Q.<br/>\n",
    "validMovesF&rightarrow;Function that finds all possible moves for state<br/>\n",
    "makeMoveF&rightarrow;Function that takes state and move and provides new state<br/>\n",
    "startState&rightarrow;Start state for training Q.<br/>\n",
    "goalState&rightarrow;Goal state for training Q.\n",
    "\n",
    "\n",
    "Output: Q&rightarrow;A list of lists with the sublist containing a key which is comprised of a state and move and a value which is the cost to get to the goal state.<br/>\n",
    "Outcomes&rightarrow;Array of how many steps it took to get to the goal state.\n",
    "\n",
    "Description: Takes a problem with a start state and a goal state and assigns intermediate states and moves a Q value that describes their cost to get to the goal state. As nRepetitions increase so does the Q value assignment which causes Q to become more accurate. The higher the leaRning rate the higher the Q values for states farther away from the goal state. In the beggining when the epsilon rate is high it trains by picking random moves, but as epsilon decays it more often picks the most efficient move based on previously assigned Q values. "
   ]
  },
  {
   "cell_type": "code",
   "execution_count": 66,
   "metadata": {},
   "outputs": [
    {
     "data": {
      "text/plain": [
       "{(((), (1,), (2, 3)), (2, 1)): 1.7,\n",
       " (((), (1,), (2, 3)), (2, 3)): 1,\n",
       " (((), (1,), (2, 3)), (3, 1)): 3.8711473,\n",
       " (((), (1, 2), (3,)), (2, 1)): 5.37807253387407,\n",
       " (((), (1, 2), (3,)), (2, 3)): 3.7,\n",
       " (((), (1, 2), (3,)), (3, 1)): 5.699854505442319,\n",
       " (((), (1, 2, 3), ()), (2, 1)): 6.249019974099999,\n",
       " (((), (1, 2, 3), ()), (2, 3)): 6.61786620899,\n",
       " (((), (1, 3), (2,)), (2, 1)): 6.8857276002945,\n",
       " (((), (1, 3), (2,)), (2, 3)): 7.200690262056569,\n",
       " (((), (1, 3), (2,)), (3, 1)): 6.20865763427261,\n",
       " (((), (2,), (1, 3)), (2, 1)): 4.538517476199999,\n",
       " (((), (2,), (1, 3)), (3, 1)): 2.7,\n",
       " (((), (2,), (1, 3)), (3, 2)): 6.231095999569056,\n",
       " (((), (2, 3), (1,)), (2, 1)): 6.23081492829,\n",
       " (((), (2, 3), (1,)), (3, 1)): 6.4508528403679,\n",
       " (((), (2, 3), (1,)), (3, 2)): 6.6278927219899995,\n",
       " (((), (3,), (1, 2)), (2, 1)): 6.459010646384872,\n",
       " (((), (3,), (1, 2)), (3, 1)): 6.57591242412953,\n",
       " (((), (3,), (1, 2)), (3, 2)): 6.78230754145282,\n",
       " (((1,), (), (2, 3)), (1, 2)): 1.7,\n",
       " (((1,), (), (2, 3)), (1, 3)): 1,\n",
       " (((1,), (), (2, 3)), (3, 2)): 2.3369999999999997,\n",
       " (((1,), (2,), (3,)), (1, 2)): 4.964401205826332,\n",
       " (((1,), (2,), (3,)), (1, 3)): 4.6290309999999995,\n",
       " (((1,), (2,), (3,)), (2, 3)): 1.7,\n",
       " (((1,), (2, 3), ()), (1, 2)): 6.0308472088,\n",
       " (((1,), (2, 3), ()), (1, 3)): 6.571075812609999,\n",
       " (((1,), (2, 3), ()), (2, 3)): 6.5326735004051,\n",
       " (((1,), (3,), (2,)), (1, 2)): 6.506122012847399,\n",
       " (((1,), (3,), (2,)), (1, 3)): 6.6020991459552,\n",
       " (((1,), (3,), (2,)), (3, 2)): 6.734462146896,\n",
       " (((1, 2), (), (3,)), (1, 2)): 2.702373350139,\n",
       " (((1, 2), (), (3,)), (1, 3)): 4.26527999,\n",
       " (((1, 2), (), (3,)), (3, 2)): 4.725426235999999,\n",
       " (((1, 2), (3,), ()), (1, 2)): 5.2120827489999995,\n",
       " (((1, 2), (3,), ()), (1, 3)): 5.4510266773,\n",
       " (((1, 2), (3,), ()), (2, 3)): 3.7635995703610003,\n",
       " (((1, 2, 3), (), ()), (1, 2)): 8.899921213669323,\n",
       " (((1, 2, 3), (), ()), (1, 3)): 7.7,\n",
       " (((1, 3), (), (2,)), (1, 2)): 7.249721814437098,\n",
       " (((1, 3), (), (2,)), (1, 3)): 7.402776532558064,\n",
       " (((1, 3), (), (2,)), (3, 2)): 6.873485969607406,\n",
       " (((1, 3), (2,), ()), (1, 2)): 4.823591006722734,\n",
       " (((1, 3), (2,), ()), (1, 3)): 6.433978297798759,\n",
       " (((1, 3), (2,), ()), (2, 3)): 6.862998763819277,\n",
       " (((2,), (), (1, 3)), (1, 2)): 4.033492000000001,\n",
       " (((2,), (), (1, 3)), (3, 1)): 3.76361487997,\n",
       " (((2,), (), (1, 3)), (3, 2)): 3.9890641668999995,\n",
       " (((2,), (1,), (3,)), (1, 3)): 1.7,\n",
       " (((2,), (1,), (3,)), (2, 1)): 4.7814,\n",
       " (((2,), (1,), (3,)), (2, 3)): 3.5890537561,\n",
       " (((2,), (1, 3), ()), (1, 3)): 6.711153362190499,\n",
       " (((2,), (1, 3), ()), (2, 1)): 4.99122110807,\n",
       " (((2,), (1, 3), ()), (2, 3)): 5.84604962233,\n",
       " (((2,), (3,), (1,)), (1, 2)): 6.071654126,\n",
       " (((2,), (3,), (1,)), (3, 1)): 5.18850547157,\n",
       " (((2,), (3,), (1,)), (3, 2)): 5.6603660718299995,\n",
       " (((2, 3), (), (1,)), (1, 2)): 6.7,\n",
       " (((2, 3), (), (1,)), (3, 1)): 9.411989118005607,\n",
       " (((2, 3), (), (1,)), (3, 2)): 8.3696236488687,\n",
       " (((2, 3), (1,), ()), (1, 3)): 7.809782332510746,\n",
       " (((2, 3), (1,), ()), (2, 1)): 8.571097877722803,\n",
       " (((2, 3), (1,), ()), (2, 3)): 8.417565043419277,\n",
       " (((3,), (), (1, 2)), (1, 2)): 6.765336808109211,\n",
       " (((3,), (), (1, 2)), (3, 1)): 7.221744682928065,\n",
       " (((3,), (), (1, 2)), (3, 2)): 7.273750984839236,\n",
       " (((3,), (1,), (2,)), (2, 1)): 7.672870520723472,\n",
       " (((3,), (1,), (2,)), (2, 3)): 7.339457991136691,\n",
       " (((3,), (1,), (2,)), (3, 1)): 7.825141744485882,\n",
       " (((3,), (1, 2), ()), (1, 3)): 4.7,\n",
       " (((3,), (1, 2), ()), (2, 1)): 6.689473481078106,\n",
       " (((3,), (1, 2), ()), (2, 3)): 7.754496907590411,\n",
       " (((3,), (2,), (1,)), (2, 1)): 7.322456730967545,\n",
       " (((3,), (2,), (1,)), (3, 1)): 7.543678043563013,\n",
       " (((3,), (2,), (1,)), (3, 2)): 5.7}"
      ]
     },
     "execution_count": 66,
     "metadata": {},
     "output_type": "execute_result"
    }
   ],
   "source": [
    "def trainQ(nRepetitions, learningRate, epsilonDecayFactor, validMovesF, makeMoveF, startState = [[1, 2, 3], [], []], goalState = [[], [], [1, 2, 3]]):\n",
    "    \n",
    "    Q = {}                                                            #Initializes empty Q                                      \n",
    "    epsilon = 1.0                                                     #Initializes epsilon as 1\n",
    "    outcomes = np.zeros(nRepetitions)                                 #Initializes outcomes list to keep track of steps to reach goal\n",
    "    \n",
    "    for nGames in range(nRepetitions):                                #Loops nRepetitions times\n",
    "        epsilon *= epsilonDecayFactor                                 #Assigns new epsilon with epsilonDecayFactor\n",
    "        state = startState                                            #Assigns startState\n",
    "        step = 0                                                      #Initializes step counter\n",
    "        done = False                                                  #Initializes done which checks if goal is found\n",
    "        \n",
    "        while not done:                                               #While goal isn't found      \n",
    "            step += 1                                                 #Increment step\n",
    "            move = epsilonGreedy(epsilon, Q, state)                   #Find most efficient move with epsilonGreedy\n",
    "            newState = makeMoveF(state, move)                         #Gets new state from state and most efficient move\n",
    "            key = tupleFormat(state, move)                            #Formats key with state and move\n",
    "           \n",
    "            if key not in Q:                                          #If key isn't in Q\n",
    "                Q[key] = 1                                            #Initial Q value 1 for new state,move\n",
    "        \n",
    "            if newState == goalState:                                 #If newstate is goalState\n",
    "                Q[oldKey] = 1                                         #Assign oldKey Q as 1\n",
    "                outcomes[nGames] = step                               #Assign step count to goal to outcomes array\n",
    "                done = True                                           #Change done value to True ending loop\n",
    "        \n",
    "        \n",
    "            if step > 1:                                              #If not first iteration of while loop\n",
    "                Q[oldKey] += learningRate * (1 + Q[key] - Q[oldKey])  #Assign oldKey Q value              \n",
    "            \n",
    "            oldState, oldMove = state, move                           #Assign oldState and OldMove values as current state and move\n",
    "            oldKey = tupleFormat(oldState, oldMove)                   #Assign oldKey value from oldState and oldMove\n",
    "            state = newState                                          #Assign state from newState\n",
    "            \n",
    "    return Q, outcomes\n",
    "            \n",
    "Q, stepsToGoal = trainQ(10000, 0.7, 0.9, validMoves, makeMove)\n",
    "Q"
   ]
  },
  {
   "cell_type": "markdown",
   "metadata": {},
   "source": [
    "<h3>testQ Function</h3>\n",
    "\n",
    "Input: Q&rightarrow;List of lists with the sublist containing a move and state as the key and a cost value as the value.<br/>\n",
    "maxSteps&rightarrow;Integer that is max distance that the path returned can be.<br/>\n",
    "validMovesF&rightarrow;Function that finds all possible moves for state<br/>\n",
    "makeMoveF&rightarrow;Function that takes state and move and provides new state<br/>\n",
    "startState&rightarrow;Start state for path.<br/>\n",
    "goalState&rightarrow;Goal state for path.\n",
    "\n",
    "\n",
    "Output: List of states that are most efficient path from start state to goal state based on Q.<br/>\n",
    "\n",
    "Description: Takes Q and finds the most low-cost/efficient path from start state to goal state by iterating through Q's value for each move for the last state added to path that was't the goal state."
   ]
  },
  {
   "cell_type": "code",
   "execution_count": 60,
   "metadata": {},
   "outputs": [
    {
     "data": {
      "text/plain": [
       "[[[1, 2, 3], [], []],\n",
       " [[2, 3], [], [1]],\n",
       " [[3], [2], [1]],\n",
       " [[3], [1, 2], []],\n",
       " [[], [1, 2], [3]],\n",
       " [[1], [2], [3]],\n",
       " [[1], [], [2, 3]],\n",
       " [[], [], [1, 2, 3]]]"
      ]
     },
     "execution_count": 60,
     "metadata": {},
     "output_type": "execute_result"
    }
   ],
   "source": [
    "def testQ(Q, maxSteps, validMovesF, makeMoveF, startState = [[1, 2, 3], [], []], goalState = [[], [], [1, 2, 3]]):\n",
    "    \n",
    "    step = 0                                                             #Initializes step count\n",
    "    state = startState                                                   #Initializes start state\n",
    "    path = [state]                                                       #Initializes path with start state\n",
    "    while step < maxSteps and state != goalState:                        #Loops while maxsteps isn't exceeded and goalstate isn't found\n",
    "        step += 1                                                        #Increment step count\n",
    "        valMov = validMovesF(state)                                      #Finds all possible moves\n",
    "        Qs = np.array([Q.get(tupleFormat(state, m), 0) for m in valMov]) #Finds Q values for all possible moves\n",
    "        state = makeMove(state, valMov[np.argmin(Qs)])                   #Assigns state to new state which had the lowest Q value\n",
    "        path.append(state)                                               #Adds new state to path\n",
    "    \n",
    "    return path                                                          \n",
    "    \n",
    "path = testQ(Q, 20, validMoves, makeMove)\n",
    "path"
   ]
  },
  {
   "cell_type": "markdown",
   "metadata": {},
   "source": [
    "<h1>Extra Credit Functions</h1>\n",
    "\n",
    "Description: The Towers of Hanoi Puzzle with a 4th ring and the same 3 stacks.\n",
    "\n",
    "Observations: Not much more complex then the 3 ring problem but does require 15 steps to solve instead of 7 which is more then a 200% increase for only one added ring. \n",
    "\n",
    "Difficulties: Didn't have any issues implementing the 4th ring. I only had to change the print function a little the other two functions required no alterations to accomadate the extra ring."
   ]
  },
  {
   "cell_type": "markdown",
   "metadata": {},
   "source": [
    "<h3>printState_4disk Function</h3>\n",
    "\n",
    "Input: List of 3 lists which may be [], [1], [2], [3], [4], [1, 2], [1, 3], [1, 4], [2, 3], [2, 4], [3, 4], [1, 2, 3], [1, 2, 4], [1, 3, 4], [2, 3, 4], or [1, 2, 3, 4] where the integers 1, 2, 3, 4 can only appear once throughout the main list.\n",
    "\n",
    "Output: 3 stacks next to each other which can contain the integers 1, 2, 3, 4 or be empty. Each stack are in order from least to greatest\n",
    "\n",
    "Description: A visualization of the Towers of Hanoi Puzzle Functions with 4 rings."
   ]
  },
  {
   "cell_type": "code",
   "execution_count": 71,
   "metadata": {},
   "outputs": [
    {
     "name": "stdout",
     "output_type": "stream",
     "text": [
      "    1\n",
      "    2\n",
      "    3\n",
      "    4\n",
      "------\n"
     ]
    }
   ],
   "source": [
    "def printState_4disk(state):    #Same as 3 ring problem no changes needed\n",
    "    printState(state, 4)\n",
    "\n",
    "state = [[ ], [], [1, 2, 3, 4]]\n",
    "printState_4disk(state)"
   ]
  },
  {
   "cell_type": "markdown",
   "metadata": {},
   "source": [
    "<h3>validMoves Function</h3>\n",
    "\n",
    "Input: List of 3 lists which may be [], [1], [2], [3], [4], [1, 2], [1, 3], [1, 4], [2, 3], [2, 4], [3, 4], [1, 2, 3], [1, 2, 4], [1, 3, 4], [2, 3, 4], or [1, 2, 3, 4] where the integers 1, 2, 3, 4 can only appear once throughout the main list.\n",
    "\n",
    "Output: List of lists with length two. Where the sublist can only be [1, 2], [1, 3], [2, 1], [2, 3], [3, 1], or [3, 2].\n",
    "\n",
    "Description: Returns a list of possible moves for the Tower of Hanoi Puzzle with 4 rings."
   ]
  },
  {
   "cell_type": "code",
   "execution_count": 39,
   "metadata": {},
   "outputs": [
    {
     "name": "stdout",
     "output_type": "stream",
     "text": [
      "[[2, 1], [2, 3], [3, 1]]\n",
      "\n"
     ]
    }
   ],
   "source": [
    "def validMoves_4disk(state):    #Same as 3 ring problem no changes needed\n",
    "    return validMoves(state)\n",
    "\n",
    "state = [[], [1, 2, 3], [4]]\n",
    "print(validMoves_4disk(state))\n",
    "print()"
   ]
  },
  {
   "cell_type": "markdown",
   "metadata": {},
   "source": [
    "<h3>makeMove Function</h3>\n",
    "\n",
    "Input: List of 3 lists which may be [], [1], [2], [3], [4], [1, 2], [1, 3], [1, 4], [2, 3], [2, 4], [3, 4], [1, 2, 3], [1, 2, 4], [1, 3, 4], [2, 3, 4], or [1, 2, 3, 4] where the integers 1, 2, 3, 4 can only appear once throughout the main list. And list of length 2 which can can only be [1, 2], [1, 3], [2, 1], [2, 3], [3, 1], or [3, 2].\n",
    "\n",
    "Output: List of 3 lists which may be [], [1], [2], [3], [4], [1, 2], [1, 3], [1, 4], [2, 3], [2, 4], [3, 4], [1, 2, 3], [1, 2, 4], [1, 3, 4], [2, 3, 4], or [1, 2, 3, 4] where the integers 1, 2, 3, 4 can only appear once throughout the main list.\n",
    "\n",
    "Description: Takes a state of the Towers of Hanoi Problem with 4 rings and then a move [a, b] which moves the top object of column a to the top object of column b and applies that move to the state and returns a new state of the Towers of Hanoi Problem with 4 rings."
   ]
  },
  {
   "cell_type": "code",
   "execution_count": 72,
   "metadata": {},
   "outputs": [
    {
     "data": {
      "text/plain": [
       "[[], [1], [2, 3, 4]]"
      ]
     },
     "execution_count": 72,
     "metadata": {},
     "output_type": "execute_result"
    }
   ],
   "source": [
    "def makeMove_4disk(state, move):   #Same as 3 ring problem no changes needed\n",
    "    return makeMove(state, move)\n",
    "state = [[ ], [], [1, 2, 3, 4]]\n",
    "move = [3, 2]\n",
    "makeMove_4disk(state, move)"
   ]
  },
  {
   "cell_type": "markdown",
   "metadata": {},
   "source": [
    "<h3>Example of Towers of Hanoi Problem with 4 Rings</h3>"
   ]
  },
  {
   "cell_type": "code",
   "execution_count": 73,
   "metadata": {},
   "outputs": [
    {
     "data": {
      "text/plain": [
       "[[[1, 2, 3, 4], [], []],\n",
       " [[2, 3, 4], [1], []],\n",
       " [[3, 4], [1], [2]],\n",
       " [[3, 4], [], [1, 2]],\n",
       " [[4], [3], [1, 2]],\n",
       " [[1, 4], [3], [2]],\n",
       " [[1, 4], [2, 3], []],\n",
       " [[4], [1, 2, 3], []],\n",
       " [[], [1, 2, 3], [4]],\n",
       " [[], [2, 3], [1, 4]],\n",
       " [[2], [3], [1, 4]],\n",
       " [[1, 2], [3], [4]],\n",
       " [[1, 2], [], [3, 4]],\n",
       " [[2], [1], [3, 4]],\n",
       " [[], [1], [2, 3, 4]],\n",
       " [[], [], [1, 2, 3, 4]]]"
      ]
     },
     "execution_count": 73,
     "metadata": {},
     "output_type": "execute_result"
    }
   ],
   "source": [
    "Q, stepsToGoal = trainQ(10000, 0.5, 0.7, validMoves_4disk, makeMove_4disk, [[1, 2, 3, 4], [], []], [[], [], [1, 2, 3, 4]])\n",
    "Q\n",
    "path = testQ(Q, 20, validMoves_4disk, makeMove_4disk, [[1, 2, 3, 4], [], []], [[], [], [1, 2, 3, 4]])\n",
    "path"
   ]
  },
  {
   "cell_type": "code",
   "execution_count": 45,
   "metadata": {},
   "outputs": [
    {
     "name": "stdout",
     "output_type": "stream",
     "text": [
      "\n",
      "======================= Code Execution =======================\n",
      "\n",
      "Extracting python code from notebook named 'Armstrong-A4.ipynb' and storing in notebookcode.py\n",
      "Removing all statements that are not function or class defs or import statements.\n",
      "\n",
      "Testing validMoves([[1], [2], [3]])\n",
      "\n",
      "--- 10/10 points. Correctly returned [[1, 2], [1, 3], [2, 3]]\n",
      "\n",
      "Testing validMoves([[], [], [1, 2, 3]])\n",
      "\n",
      "--- 10/10 points. Correctly returned [[3, 1], [3, 2]]\n",
      "\n",
      "Testing makeMove([[], [], [1, 2, 3]], [3, 2])\n",
      "\n",
      "--- 10/10 points. Correctly returned [[], [1], [2, 3]]\n",
      "\n",
      "Testing makeMove([[2], [3], [1]], [1, 2])\n",
      "\n",
      "--- 10/10 points. Correctly returned [[], [2, 3], [1]]\n",
      "\n",
      "Testing   Q, steps = trainQ(1000, 0.5, 0.7, validMoves, makeMove).\n",
      "\n",
      "--- 10/10 points. Q dictionary has correct number of entries.\n",
      "\n",
      "--- 10/10 points. The mean of the number of steps of 7.342 is correctly < 10.\n",
      "\n",
      "Testing   path = testQ(Q, 20, validMoves, makeMove).\n",
      "\n",
      "--- 20/20 points. Correctly returns path of length 8, which is correctly less than 10.\n",
      "\n",
      "cs440 Execution Grade is 80 / 80\n",
      "\n",
      " Remaining 20 points will be based on your text describing the trainQ and testQ functions.\n",
      "\n",
      "cs440 FINAL GRADE is   / 100\n",
      "\n",
      "cs440 EXTRA CREDIT is   / 1\n"
     ]
    }
   ],
   "source": [
    "%run -i A4grader.py"
   ]
  },
  {
   "cell_type": "code",
   "execution_count": null,
   "metadata": {
    "collapsed": true
   },
   "outputs": [],
   "source": []
  }
 ],
 "metadata": {
  "kernelspec": {
   "display_name": "Python 3",
   "language": "python",
   "name": "python3"
  },
  "language_info": {
   "codemirror_mode": {
    "name": "ipython",
    "version": 3
   },
   "file_extension": ".py",
   "mimetype": "text/x-python",
   "name": "python",
   "nbconvert_exporter": "python",
   "pygments_lexer": "ipython3",
   "version": "3.6.3"
  }
 },
 "nbformat": 4,
 "nbformat_minor": 2
}
