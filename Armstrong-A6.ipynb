{
 "cells": [
  {
   "cell_type": "markdown",
   "metadata": {},
   "source": [
    "<h1>Scheduling Problem</h1><br/>\n",
    "The scheduling problem is assigning 23 classes to 3 rooms at 8 different times. The two rules for scheduling are \n",
    "<ul>\n",
    "    <li>Two classes cannot meet in the same room at the same time.</li>\n",
    "    <li>Classes with the same first digit cannot meet at the same time, because students might take a subset of these in one semester. There is one exception to this rule. CS163 and CS164 can meet at the same time.</li>\n",
    "</ul>"
   ]
  },
  {
   "cell_type": "code",
   "execution_count": 24,
   "metadata": {
    "collapsed": true
   },
   "outputs": [],
   "source": [
    "classes = ['CS160', 'CS163', 'CS164',\n",
    "           'CS220', 'CS270', 'CS253',\n",
    "           'CS320', 'CS314', 'CS356', 'CS370',\n",
    "           'CS410', 'CS414', 'CS420', 'CS430', 'CS440', 'CS445', 'CS453', 'CS464',\n",
    "           'CS510', 'CS514', 'CS535', 'CS540', 'CS545']\n",
    "\n",
    "times = [' 9 am',\n",
    "         '10 am',\n",
    "         '11 am',\n",
    "         '12 pm',\n",
    "         ' 1 pm',\n",
    "         ' 2 pm',\n",
    "         ' 3 pm',\n",
    "         ' 4 pm']\n",
    "\n",
    "rooms = ['CSB 130', 'CSB 325', 'CSB 425']"
   ]
  },
  {
   "cell_type": "markdown",
   "metadata": {},
   "source": [
    "Min conflicts functions given to us."
   ]
  },
  {
   "cell_type": "code",
   "execution_count": 25,
   "metadata": {
    "collapsed": true
   },
   "outputs": [],
   "source": [
    "import random\n",
    "\n",
    "def min_conflicts(vars, domains, constraints, neighbors, max_steps=1000): \n",
    "    \"\"\"Solve a CSP by stochastic hillclimbing on the number of conflicts.\"\"\"\n",
    "    # Generate a complete assignment for all vars (probably with conflicts)\n",
    "    current = {}\n",
    "    for var in vars:\n",
    "        val = min_conflicts_value(var, current, domains, constraints, neighbors)\n",
    "        current[var] = val\n",
    "    # Now repeatedly choose a random conflicted variable and change it\n",
    "    for i in range(max_steps):\n",
    "        conflicted = conflicted_vars(current,vars,constraints,neighbors)\n",
    "        if not conflicted:\n",
    "            return (current,i)\n",
    "        var = random.choice(conflicted)\n",
    "        val = min_conflicts_value(var, current, domains, constraints, neighbors)\n",
    "        current[var] = val\n",
    "    return (None,None)\n",
    "\n",
    "def min_conflicts_value(var, current, domains, constraints, neighbors):\n",
    "    \"\"\"Return the value that will give var the least number of conflicts.\n",
    "    If there is a tie, choose at random.\"\"\"\n",
    "    return argmin_random_tie(domains[var],\n",
    "                             lambda val: nconflicts(var, val, current, constraints, neighbors)) \n",
    "\n",
    "def conflicted_vars(current,vars,constraints,neighbors):\n",
    "    \"Return a list of variables in current assignment that are in conflict\"\n",
    "    return [var for var in vars\n",
    "            if nconflicts(var, current[var], current, constraints, neighbors) > 0]\n",
    "\n",
    "def nconflicts(var, val, assignment, constraints, neighbors):\n",
    "    \"Return the number of conflicts var=val has with other variables.\"\n",
    "    # Subclasses may implement this more efficiently\n",
    "    def conflict(var2):\n",
    "        val2 = assignment.get(var2, None)\n",
    "        return val2 != None and not constraints(var, val, var2, val2)\n",
    "    return len(list(filter(conflict, neighbors[var])))\n",
    "\n",
    "def argmin_random_tie(seq, fn):\n",
    "    \"\"\"Return an element with lowest fn(seq[i]) score; break ties at random.\n",
    "    Thus, for all s,f: argmin_random_tie(s, f) in argmin_list(s, f)\"\"\"\n",
    "    best_score = fn(seq[0]); n = 0\n",
    "    for x in seq:\n",
    "        x_score = fn(x)\n",
    "        if x_score < best_score:\n",
    "            best, best_score = x, x_score; n = 1\n",
    "        elif x_score == best_score:\n",
    "            n += 1\n",
    "            if random.randrange(n) == 0:\n",
    "                    best = x\n",
    "    return best"
   ]
  },
  {
   "cell_type": "markdown",
   "metadata": {},
   "source": [
    "<h3>constraints_ok function</h3><br/>\n",
    "Input:<br/>\n",
    "class_name_1&rightarrow;string for 1st class name<br/>\n",
    "value_1&rightarrow;tuple first value string for 1st room and second value string for 1st time<br/>\n",
    "class_name_2&rightarrow;string for 2nd class name<br/>\n",
    "value_2&rightarrow;tuple first value string for 2nd room and second value string for 2nd time<br/>\n",
    "\n",
    "Output&rightarrow;boolean"
   ]
  },
  {
   "cell_type": "code",
   "execution_count": 26,
   "metadata": {
    "collapsed": true
   },
   "outputs": [],
   "source": [
    "def constraints_ok(class_name_1, value_1, class_name_2, value_2):\n",
    "    if (value_1[1] == value_2[1] and value_1[0] == value_2[0]):\n",
    "    #checks if time slots are the same and checks if classes are the same\n",
    "        return False \n",
    "    if (value_1[1] == value_2[1] and ((class_name_1 == 'cs163' and class_name_2 == 'cs164') or (class_name_1 == 'cs164' and class_name_2 == 'cs163'))):\n",
    "    #checks if time slots are the same and checks if class names are cs163 and cs164\n",
    "        return True\n",
    "    if (class_name_1[2] == class_name_2[2] and value_1[1] == value_2[1]):\n",
    "    #checks if third character in class name are the same and if time slots are the same\n",
    "        return False\n",
    "    return True"
   ]
  },
  {
   "cell_type": "markdown",
   "metadata": {},
   "source": [
    "<h3>display function</h3><br/>\n",
    "Input:<br/>\n",
    "assignments&rightarrow;dictionary with key as string for classes and value as tuple with string for room and string for time e.g. 'CS160': ('CSB 325', '12 pm')<br/>\n",
    "rooms&rightarrow;list of strings for rooms<br/>\n",
    "times&rightarrow;list of strings for times<br/>\n",
    "\n",
    "Output&rightarrow;void"
   ]
  },
  {
   "cell_type": "code",
   "execution_count": 27,
   "metadata": {
    "collapsed": true
   },
   "outputs": [],
   "source": [
    "def display(assignments, rooms, times):\n",
    "    swap = dict((v,k) for k,v in assignments.items())           #swaps key and value in assignments\n",
    "    print(\"\", end =\"       \")                                   #tab space for column header\n",
    "    for room in rooms:                                          #loops through rooms\n",
    "        print(room, end =\"  \")                                  #print rooms as column headers\n",
    "    print()                                                     #ends print line\n",
    "    print(\"-------------------------------\")                    #prints line\n",
    "    for time in times:                                          #loops through time slots for each row header\n",
    "        print(time, end =\"    \")                                #prints row header\n",
    "        for room in rooms:                                      #loops through rooms at the current time (first loop)\n",
    "            print(swap.get((room, time), \"     \"), end =\"    \") #prints class at time slot: time and room: room\n",
    "        print()                                                 #ends print line"
   ]
  },
  {
   "cell_type": "markdown",
   "metadata": {},
   "source": [
    "<h3>schedule function</h3><br/>\n",
    "Input:<br/>\n",
    "classes&rightarrow;list of strings for classes<br/>\n",
    "times&rightarrow;list of strings for time slots<br/>\n",
    "rooms&rightarrow;list of strings for rooms<br/>\n",
    "max_steps&rightarrow;integer for max number of steps in min_conflicts<br/>\n",
    "\n",
    "Output:<br/>\n",
    "solution&rightarrow;dictionary with key as string for classes and value as tuple with string for room and string for time e.g. 'CS160': ('CSB 325', '12 pm')<br/>\n",
    "steps&rightarrow;integer for number of steps to find solution "
   ]
  },
  {
   "cell_type": "code",
   "execution_count": 28,
   "metadata": {},
   "outputs": [
    {
     "name": "stdout",
     "output_type": "stream",
     "text": [
      "Took 0 steps\n",
      "{'CS160': ('CSB 130', '12 pm'), 'CS163': ('CSB 130', ' 3 pm'), 'CS164': ('CSB 130', ' 4 pm'), 'CS220': ('CSB 425', '11 am'), 'CS270': ('CSB 325', '12 pm'), 'CS253': ('CSB 425', ' 9 am'), 'CS320': ('CSB 325', '11 am'), 'CS314': ('CSB 425', ' 2 pm'), 'CS356': ('CSB 325', ' 1 pm'), 'CS370': ('CSB 130', ' 9 am'), 'CS410': ('CSB 130', '11 am'), 'CS414': ('CSB 325', ' 4 pm'), 'CS420': ('CSB 130', ' 2 pm'), 'CS430': ('CSB 325', ' 9 am'), 'CS440': ('CSB 425', '12 pm'), 'CS445': ('CSB 325', ' 3 pm'), 'CS453': ('CSB 130', '10 am'), 'CS464': ('CSB 130', ' 1 pm'), 'CS510': ('CSB 425', ' 3 pm'), 'CS514': ('CSB 325', ' 2 pm'), 'CS535': ('CSB 425', '10 am'), 'CS540': ('CSB 425', ' 1 pm'), 'CS545': ('CSB 425', ' 4 pm')}\n",
      "       CSB 130  CSB 325  CSB 425  \n",
      "-------------------------------\n",
      " 9 am    CS370    CS430    CS253    \n",
      "10 am    CS453             CS535    \n",
      "11 am    CS410    CS320    CS220    \n",
      "12 pm    CS160    CS270    CS440    \n",
      " 1 pm    CS464    CS356    CS540    \n",
      " 2 pm    CS420    CS514    CS314    \n",
      " 3 pm    CS163    CS445    CS510    \n",
      " 4 pm    CS164    CS414    CS545    \n"
     ]
    }
   ],
   "source": [
    "def schedule(classes, times, rooms, max_steps):\n",
    "    domains = {key: [(a,b) for a in rooms for b in times] for key in classes}\n",
    "    #creates dictionary where key is each class and value is list of possible combination of other classes and times\n",
    "    neighbors = {var: [v for v in classes if v != var] for var in classes}\n",
    "    #creates dictionary where key is each class and value is list of all other classes\n",
    "    solution, steps = min_conflicts(classes, domains, constraints_ok, neighbors, max_steps=max_steps)\n",
    "    #runs min conflict algorithm\n",
    "    return solution, steps\n",
    "\n",
    "assignments, steps = schedule(classes, times, rooms, 100)\n",
    "print('Took', steps, 'steps')\n",
    "print(assignments)\n",
    "display(assignments, rooms, times)"
   ]
  },
  {
   "cell_type": "markdown",
   "metadata": {},
   "source": [
    "<h1>Extra Credit</h1>"
   ]
  },
  {
   "cell_type": "markdown",
   "metadata": {},
   "source": [
    "<h3>prefer_schedule_ok function</h3><br/>\n",
    "Input:<br/>\n",
    "classes&rightarrow;list of strings for classes<br/>\n",
    "times&rightarrow;list of strings for time slots<br/>\n",
    "rooms&rightarrow;list of strings for rooms<br/>\n",
    "max_steps&rightarrow;integer for max number of steps in min_conflicts<br/>\n",
    "iterations&rightarrow;integer for number of iterations to find optimal solution for preference\n",
    "\n",
    "Output:<br/>\n",
    "solutionf&rightarrow;dictionary with key as string for classes and value as tuple with string for room and string for time e.g. 'CS160': ('CSB 325', '12 pm')<br/>\n",
    "stepfs&rightarrow;integer for number of steps to find solution "
   ]
  },
  {
   "cell_type": "code",
   "execution_count": 29,
   "metadata": {},
   "outputs": [
    {
     "name": "stdout",
     "output_type": "stream",
     "text": [
      "Took 0 steps\n",
      "{'CS160': ('CSB 325', '10 am'), 'CS163': ('CSB 130', ' 1 pm'), 'CS164': ('CSB 130', ' 2 pm'), 'CS220': ('CSB 425', ' 1 pm'), 'CS270': ('CSB 425', ' 3 pm'), 'CS253': ('CSB 325', '11 am'), 'CS320': ('CSB 325', '12 pm'), 'CS314': ('CSB 425', ' 9 am'), 'CS356': ('CSB 130', ' 3 pm'), 'CS370': ('CSB 325', ' 4 pm'), 'CS410': ('CSB 325', ' 3 pm'), 'CS414': ('CSB 425', '10 am'), 'CS420': ('CSB 130', ' 4 pm'), 'CS430': ('CSB 325', ' 2 pm'), 'CS440': ('CSB 130', '11 am'), 'CS445': ('CSB 425', '12 pm'), 'CS453': ('CSB 325', ' 9 am'), 'CS464': ('CSB 325', ' 1 pm'), 'CS510': ('CSB 130', ' 9 am'), 'CS514': ('CSB 130', '12 pm'), 'CS535': ('CSB 425', ' 2 pm'), 'CS540': ('CSB 425', '11 am'), 'CS545': ('CSB 130', '10 am')}\n",
      "       CSB 130  CSB 325  CSB 425  \n",
      "-------------------------------\n",
      " 9 am    CS510    CS453    CS314    \n",
      "10 am    CS545    CS160    CS414    \n",
      "11 am    CS440    CS253    CS540    \n",
      "12 pm    CS514    CS320    CS445    \n",
      " 1 pm    CS163    CS464    CS220    \n",
      " 2 pm    CS164    CS430    CS535    \n",
      " 3 pm    CS356    CS410    CS270    \n",
      " 4 pm    CS420    CS370             \n"
     ]
    }
   ],
   "source": [
    "def prefer_schedule(classes, times, rooms, max_steps, iterations = 100):\n",
    "    domains = {key: [(a,b) for a in rooms for b in times] for key in classes}\n",
    "    #creates dictionary where key is each class and value is list of possible combination of other classes and times\n",
    "    neighbors = {var: [v for v in classes if v != var] for var in classes}\n",
    "    #creates dictionary where key is each class and value is list of all other classes\n",
    "    min_preference_count = 11\n",
    "    #min count for preference count set to 11 becuase max preference is 10 so must update in first iteration\n",
    "    schedCheck = [('CSB 130', ' 9 am'), ('CSB 325', ' 9 am'), ('CSB 425', ' 9 am'), ('CSB 130', '12 pm'), ('CSB 325', '12 pm'), ('CSB 425', '12 pm'), ('CSB 130', ' 4 pm'), ('CSB 325', ' 4 pm'), ('CSB 425', ' 4 pm') ]\n",
    "    #harcoded list of all rooms at all of the preferred times 9pm, 12pm, and 4pm\n",
    "    for x in range(iterations):                                    #loops through iterations\n",
    "        preference_count = 0                                       #initializes preference count as zero\n",
    "        solution, steps = min_conflicts(classes, domains, constraints_ok, neighbors, max_steps=max_steps)\n",
    "        #runs min conflict algorithm\n",
    "        swap = dict((v,k) for k,v in solution.items())             #swaps key and values for solution from min conflicts           \n",
    "        for y in schedCheck:                                       #loops through hardcoded list of preferred room and times\n",
    "            if swap.get(y, 0) != 0:                                #if class occurs during preferred room and time\n",
    "                preference_count += 1                              #add 1 to preference count\n",
    "        if not (((solution.get('CS163', (0,0))[1] == ' 1 pm') or (solution.get('CS163', (0,0))[1] == ' 2 pm')) and ((solution.get('CS164', (0,0))[1] == ' 1 pm') or (solution.get('CS164', (0,0))[1] == ' 2 pm'))):\n",
    "        #check if CS163 is at 1pm or 2pm and if CS164 is at 1pm or 2pm isn't true\n",
    "            preference_count += 1                                   #add 1 to preference count\n",
    "        if(preference_count < min_preference_count):                #if current preference count is less then min_preference count\n",
    "            solutionf = solution                                    #update solutionf to current solution\n",
    "            stepsf = steps                                          #update stepsf to current steps\n",
    "            min_preference_count = preference_count                 #update min preference count to current preference count\n",
    "    return solutionf, stepsf                                        #return solutionf and stepsf\n",
    "\n",
    "assignments, steps = prefer_schedule(classes, times, rooms, 100)\n",
    "print('Took', steps, 'steps')\n",
    "print(assignments)\n",
    "display(assignments, rooms, times)"
   ]
  },
  {
   "cell_type": "code",
   "execution_count": 30,
   "metadata": {},
   "outputs": [
    {
     "name": "stdout",
     "output_type": "stream",
     "text": [
      "\n",
      "======================= Code Execution =======================\n",
      "\n",
      "Extracting python code from notebook named 'Armstrong-A6.ipynb' and storing in notebookcode.py\n",
      "Removing all statements that are not function or class defs or import statements.\n",
      "\n",
      "Testing constraints_ok('CS410', ('CSB 130', ' 9 am'), 'CS510', ('CSB 130', ' 9 am'))\n",
      "\n",
      "--- 10/10 points. Your constraints_ok function correctly returned False\n",
      "\n",
      "Testing constraints_ok('CS410', ('CSB 130', ' 9 am'), 'CS510', ('CSB 130', '10 am'))\n",
      "\n",
      "--- 10/10 points. Your constraints_ok function correctly returned True\n",
      "\n",
      "Testing constraints_ok('CS410', ('CSB 130', '10 am'), 'CS430', ('CSB 425', '10 am')\n",
      "\n",
      "--- 10/10 points. Your constraints_ok function correctly returned False\n",
      "\n",
      "Testing  result, nsteps = schedule(classes, times, rooms, 100)\n",
      "\n",
      "--- 30/30 points. Your schedule function returned a valid schedule.\n",
      "\n",
      "Testing  call to schedule again with two more classes.\n",
      "\n",
      "--- 30/30 points. Your schedule function correctly returned None.\n",
      "\n",
      "cs440 Execution grade is 90 / 90\n",
      "\n",
      "---   / 10 points for result of your display function.\n",
      "\n",
      "cs440 FINAL GRADE is   / 100\n",
      "\n",
      "cs440 EXTRA CREDIT grade is  / 1\n"
     ]
    }
   ],
   "source": [
    "%run -i A6grader.py"
   ]
  }
 ],
 "metadata": {
  "kernelspec": {
   "display_name": "Python 3",
   "language": "python",
   "name": "python3"
  },
  "language_info": {
   "codemirror_mode": {
    "name": "ipython",
    "version": 3
   },
   "file_extension": ".py",
   "mimetype": "text/x-python",
   "name": "python",
   "nbconvert_exporter": "python",
   "pygments_lexer": "ipython3",
   "version": "3.6.3"
  }
 },
 "nbformat": 4,
 "nbformat_minor": 2
}
