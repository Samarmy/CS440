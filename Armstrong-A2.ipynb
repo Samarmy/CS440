{
 "cells": [
  {
   "cell_type": "markdown",
   "metadata": {},
   "source": [
    "<h1>First Search Problem: 8 Tile Puzzle</h1>\n",
    "\n",
    "Description: A 3 x 3 puzzle with 9 tiles each labeled 0-8 and one blank tile. You can only move a tile piece if the tile is left, right, above, or below the blank tile. You must find a list of moves that will lead from the start state to the goal state.\n",
    "\n",
    "Observations: I liked the problem and the solution path were fairly short.\n",
    "\n",
    "Difficulties: Having an input that was a list instead of a 3 x 3 matrix made visualizing the problem more difficult. Being new to python, I didn't know some of the shorter syntaxes so the code isn't as concise as it could be."
   ]
  },
  {
   "cell_type": "markdown",
   "metadata": {},
   "source": [
    "<h3>printState_8p function</h3>\n",
    "\n",
    "input: list of length 9 containing 0-8 integers\n",
    "\n",
    "output: 3 x 3 print of list with 0 replaced by -\n",
    "\n",
    "description: a visualization of the 8 puzzle problem"
   ]
  },
  {
   "cell_type": "code",
   "execution_count": 112,
   "metadata": {},
   "outputs": [
    {
     "name": "stdout",
     "output_type": "stream",
     "text": [
      "1 - 3\n",
      "4 2 5\n",
      "6 7 8\n"
     ]
    }
   ],
   "source": [
    "import copy\n",
    "\n",
    "def printState_8p(state):                                           \n",
    "    temp = copy.copy(state)                                         #Creates temp copy of array\n",
    "    for ind, val in enumerate(temp):                               #Loops through array\n",
    "        if val == 0:                                                #If val is 0 replaces with '-'\n",
    "            temp[ind] = \"-\"\n",
    "    print(str(temp[0]) + \" \" + str(temp[1]) + \" \" + str(temp[2]))   #Print first 3 values of array\n",
    "    print(str(temp[3]) + \" \" + str(temp[4]) + \" \" + str(temp[5]))   #Print second 3 values of array\n",
    "    print(str(temp[6]) + \" \" + str(temp[7]) + \" \" + str(temp[8]))   #Print thrird 3 values of array\n",
    "    \n",
    "startState = [1, 0, 3, 4, 2, 5, 6, 7, 8]                            #Example problem\n",
    "printState_8p(startState)                 "
   ]
  },
  {
   "cell_type": "markdown",
   "metadata": {},
   "source": [
    "<h3>printPath_8p function</h3>\n",
    "\n",
    "input: startState-> list of length 9 containing 0-8 integers<br>\n",
    "goalState-> list of length 9 containing 0-8 integers<br>\n",
    "path->list containing lists of length 9 containing 0-8 integers\n",
    "\n",
    "ouput: prints out 3 x 3 list of start state and goal state and prints out each 3 x 3 list in path with 0 replaced by  -\n",
    "\n",
    "description: prints out startState and goalState and then each step taken to get from one to other"
   ]
  },
  {
   "cell_type": "code",
   "execution_count": 113,
   "metadata": {},
   "outputs": [
    {
     "name": "stdout",
     "output_type": "stream",
     "text": [
      "Path from\n",
      "- 1 2\n",
      "3 4 5\n",
      "6 7 8\n",
      "to\n",
      "1 2 -\n",
      "3 4 5\n",
      "6 7 8\n",
      "is 3 nodes long\n",
      "- 1 2\n",
      "3 4 5\n",
      "6 7 8\n",
      "\n",
      "1 - 2\n",
      "3 4 5\n",
      "6 7 8\n",
      "\n",
      "1 2 -\n",
      "3 4 5\n",
      "6 7 8\n",
      "\n"
     ]
    }
   ],
   "source": [
    "def printPath_8p(startState, goalState, path):\n",
    "    print(\"Path from\")\n",
    "    printState_8p(startState)                                    #Prints startState\n",
    "    print(\"to\")\n",
    "    printState_8p(goalState)                                     #Prints goalState\n",
    "    print(\"is \" + str(len(path)) + \" nodes long\")                #Prints number of steps in path\n",
    "    for p in path:                                               #Loops through path\n",
    "        printState_8p(p)                                         #Prints each 3 x 3 step in path\n",
    "        print()\n",
    "        \n",
    "startState = [0, 1, 2, 3, 4, 5, 6, 7, 8]                         #Example problem\n",
    "goalState = [1, 2, 0, 3, 4, 5, 6, 7, 8]\n",
    "path = [startState, [1, 0, 2, 3, 4, 5, 6, 7, 8], goalState]\n",
    "printPath_8p(startState, goalState, path)"
   ]
  },
  {
   "cell_type": "markdown",
   "metadata": {
    "collapsed": true
   },
   "source": [
    "<h3>findBlank_8p function</h3>\n",
    "\n",
    "input: list of length 9 containing 0-8 integers\n",
    "\n",
    "output: (x, y) coordinates of 0 when list is converted to 3x3\n",
    "\n",
    "description: outputs where the blank tile is in 8 puzzle problem"
   ]
  },
  {
   "cell_type": "code",
   "execution_count": 114,
   "metadata": {},
   "outputs": [
    {
     "name": "stdout",
     "output_type": "stream",
     "text": [
      "1 2 3\n",
      "4 5 -\n",
      "6 7 8\n"
     ]
    },
    {
     "data": {
      "text/plain": [
       "(1, 2)"
      ]
     },
     "execution_count": 114,
     "metadata": {},
     "output_type": "execute_result"
    }
   ],
   "source": [
    "def findBlank_8p(state):\n",
    "    for ind, val in enumerate(state):  #Loops through array\n",
    "        if val == 0:                   #When blank tile is found\n",
    "            x = int(ind/3)             #Set x-coordinate to row of 3x3 \n",
    "            y = ind%3                  #Set y-coordinate to column of 3x3\n",
    "        \n",
    "    return (x, y)                      #Returns (x, y) coordinates\n",
    "\n",
    "startState = [1, 2, 3, 4, 5, 0, 6, 7, 8]\n",
    "printState_8p(startState)              #Example problem\n",
    "findBlank_8p(startState)"
   ]
  },
  {
   "cell_type": "markdown",
   "metadata": {
    "collapsed": true
   },
   "source": [
    "<h3>actionsF_8p function</h3>\n",
    "\n",
    "input: list of length 9 containing 0-8 integers\n",
    "\n",
    "output: list containing possible moves for blank tile which can contain left, right, up, or down\n",
    "\n",
    "description: if blank tile isn't in left most column return list containing left, if blank tile isn't in right most column return list containing right, if blank tile isn't in the top row return list containing up, and if blank tile isn't in the bottom row return list containing down. "
   ]
  },
  {
   "cell_type": "code",
   "execution_count": 115,
   "metadata": {},
   "outputs": [
    {
     "name": "stdout",
     "output_type": "stream",
     "text": [
      "1 2 3\n",
      "4 5 -\n",
      "6 7 8\n"
     ]
    },
    {
     "data": {
      "text/plain": [
       "['left', 'up', 'down']"
      ]
     },
     "execution_count": 115,
     "metadata": {},
     "output_type": "execute_result"
    }
   ],
   "source": [
    "def actionsF_8p(state):\n",
    "    actions = []                            #Initialize list of possible actions\n",
    "    x, y = findBlank_8p(state)              #Finds coordinates of blank tile\n",
    "    \n",
    "    if(y != 0): actions.append(\"left\")      #Checks if tile can move left, right, up, or down based on coordinates\n",
    "    if(y != 2): actions.append(\"right\")     #if it can move it then adds it to possible actions list\n",
    "    if(x != 0): actions.append(\"up\")\n",
    "    if(x != 2): actions.append(\"down\")\n",
    "        \n",
    "    return actions                          #Returns possible actions list\n",
    "\n",
    "startState = [1, 2, 3, 4, 5, 0, 6, 7, 8]    #Example problem\n",
    "printState_8p(startState) \n",
    "actionsF_8p(startState)"
   ]
  },
  {
   "cell_type": "markdown",
   "metadata": {
    "collapsed": true
   },
   "source": [
    "<h3>takeActionF_8p function</h3>\n",
    "\n",
    "input: state->list of length 9 containing 0-8 integers<br>\n",
    "move-> string that could be either left, right, up, or down\n",
    "\n",
    "output: list of length 9 containing 0-8 integers where the blank tile is swapped with the tile that was specified by the move input\n",
    "\n",
    "description: creates a new state from the original state with blank tile swapped with the tile specified by the move"
   ]
  },
  {
   "cell_type": "code",
   "execution_count": 116,
   "metadata": {},
   "outputs": [
    {
     "name": "stdout",
     "output_type": "stream",
     "text": [
      "1 2 3\n",
      "4 5 -\n",
      "6 7 8\n",
      "move = up\n",
      "1 2 -\n",
      "4 5 3\n",
      "6 7 8\n"
     ]
    }
   ],
   "source": [
    "def takeActionF_8p(state, move):\n",
    "    succ = copy.copy(state);                                   #Copies original state   \n",
    "    ind = succ.index(0)                                        #Gets index of blank tile\n",
    "    if(move == \"left\" and \"left\" in actionsF_8p(succ)):        #If move is left\n",
    "        succ[ind], succ[ind - 1] = succ[ind - 1], succ[ind]    #Swaps blank tile and tile to the left\n",
    "    if(move == \"right\" and \"right\" in actionsF_8p(succ)):      #If move is right\n",
    "        succ[ind ], succ[ind + 1] = succ[ind + 1], succ[ind]   #Swaps blank tile and tile to the right\n",
    "    if(move == \"up\" and \"up\" in actionsF_8p(succ)):            #If move is up\n",
    "        succ[ind], succ[ind - 3] = succ[ind - 3], succ[ind]    #Swaps blank tile and above tile\n",
    "    if(move == \"down\" and \"down\" in actionsF_8p(succ)):        #If move is down\n",
    "        succ[ind], succ[ind + 3] = succ[ind + 3], succ[ind]    #Swaps blank tile and lower tile\n",
    "        \n",
    "    return copy.copy(succ)                                     #Returns modified state\n",
    "\n",
    "startState = [1, 2, 3, 4, 5, 0, 6, 7, 8]                       #Example Problem\n",
    "printState_8p(startState)\n",
    "print(\"move = up\")\n",
    "printState_8p(takeActionF_8p(startState, \"up\"))"
   ]
  },
  {
   "cell_type": "markdown",
   "metadata": {},
   "source": [
    "<h1>Second Search Problem: Safe Crack</h1>\n",
    "\n",
    "Description: The problem is to find the 3-digit code of a safe where each digit can be 0-9. I thought if you were actually trying to crack a safe you wouldn't know the goal state so the goal state is [-1, -1, -1] which will be returned by the takeAction function when the code inputted is [1, 2, 8].\n",
    "\n",
    "Observations: Solving the safe crack with iterative deepening search was much faster then I thought it would be. Implementating a brute force algorithm with iterative deeping search was pretty easy with the 3 digit 0-9 code. \n",
    "\n",
    "Difficulties: I forgot to copy.copy the state when writing the code. "
   ]
  },
  {
   "cell_type": "markdown",
   "metadata": {},
   "source": [
    "<h3>actionsF_SafeCrack function</h3>\n",
    "\n",
    "input: list containing three integers ranging from 0-9\n",
    "\n",
    "output: list containg three lists each containing three integers ranging from 0-9\n",
    "\n",
    "description: takes a list of three integers and increments the first integer then adds it to the list then unincrements that same integer and repeats the process for the next two integers"
   ]
  },
  {
   "cell_type": "code",
   "execution_count": 117,
   "metadata": {},
   "outputs": [
    {
     "data": {
      "text/plain": [
       "[[1, 0, 0], [0, 1, 0], [0, 0, 1]]"
      ]
     },
     "execution_count": 117,
     "metadata": {},
     "output_type": "execute_result"
    }
   ],
   "source": [
    "def actionsF_SafeCrack(state):\n",
    "    actions = []                                   #Initializes list of possible actions for safe crack problem\n",
    "    for ind, val in enumerate(state):              #Loops through each integer in input list\n",
    "        if(val < 9):                               #Checks if integer is below 10\n",
    "            state[ind] = val+1                     #Increments each of the integers by one\n",
    "            actions.append(copy.copy(state))       #Adds incremented state to list of possible actions\n",
    "            state[ind] = val                       #Un-increments the integer\n",
    "        \n",
    "    return actions                                 #Returns list of possible actions\n",
    "\n",
    "safeCrackStartState = [0, 0, 0]                    #Example problem\n",
    "safeCrackGoalState = [-1, -1, -1]\n",
    "actionsF_SafeCrack(safeCrackStartState)"
   ]
  },
  {
   "cell_type": "markdown",
   "metadata": {},
   "source": [
    "<h3>takeActionF_SafeCrack function</h3>\n",
    "\n",
    "input: state->list containing three integers ranging from 0-9<br>\n",
    "move->list containing three integers ranging from 0-9\n",
    "\n",
    "output: list containing three integers ranging from 0-9 or list [-1, -1, -1]\n",
    "\n",
    "description: checks if move input is safe crack code [1, 2, 8] if it is return| [-1, -1, -1] else returns move"
   ]
  },
  {
   "cell_type": "code",
   "execution_count": 118,
   "metadata": {},
   "outputs": [
    {
     "data": {
      "text/plain": [
       "[1, 2, 4]"
      ]
     },
     "execution_count": 118,
     "metadata": {},
     "output_type": "execute_result"
    }
   ],
   "source": [
    "def takeActionF_SafeCrack(state, move):\n",
    "    if(move == [1, 2, 8]): return([-1, -1, -1])         #Checks if move is safe crack code. If true return [-1,-1,-1]\n",
    "    else: return move                                   #Else reurns move           \n",
    "    \n",
    "safeCrackStartState = [1, 2, 3]                         #Example problem\n",
    "safeCrackActionState = [1, 2, 4]\n",
    "takeActionF_SafeCrack(safeCrackStartState, safeCrackActionState)"
   ]
  },
  {
   "cell_type": "markdown",
   "metadata": {},
   "source": [
    "Copied from assignment 2 jupyter notebook"
   ]
  },
  {
   "cell_type": "code",
   "execution_count": 119,
   "metadata": {},
   "outputs": [
    {
     "data": {
      "text/plain": [
       "[2, 3, 5, 6, 1, 4, 0, 7, 8]"
      ]
     },
     "execution_count": 119,
     "metadata": {},
     "output_type": "execute_result"
    }
   ],
   "source": [
    "import random\n",
    "\n",
    "def randomStartState(goalState, actionsF, takeActionF, nSteps):\n",
    "    state = goalState\n",
    "    for i in range(nSteps):\n",
    "        state = takeActionF(state, random.choice(actionsF(state)))\n",
    "    return state\n",
    "\n",
    "\n",
    "\n",
    "goalState = [1, 2, 3, 4, 0, 5, 6, 7, 8]\n",
    "randomStartState(goalState, actionsF_8p, takeActionF_8p, 10)\n",
    "\n",
    "startState = randomStartState(goalState, actionsF_8p, takeActionF_8p, 50)\n",
    "startState"
   ]
  },
  {
   "cell_type": "markdown",
   "metadata": {},
   "source": [
    "<h1>Depth Limited Search and Iterative Deepening Search</h1>\n",
    "\n",
    "Description: Depth limited search searches using depth first search only at depth d. Iterative deepening search recursively calls depth limited search incrementing depth each time until goalState is found.\n",
    "\n",
    "Observations: Seems like there is some redundancies in search, I was wondering if you could speed up the algorithm by updating minimum cutoff limit (always set to zero, line 3 of depthFirstSearch function) in each iterataion of depth limit search in iterative deepeing search? Seems very fast for simple problems but when depthLimit is set very high and there are a lot of possible actions from each state the performance is noticably slower. \n",
    "\n",
    "Difficulties: The recursion is a little difficult to understand. I didn't have a lot of problems implementing, the algorithm was more straightforward than I thought.\n"
   ]
  },
  {
   "cell_type": "markdown",
   "metadata": {},
   "source": [
    "<h3>depthLimitedSearch function</h3>\n",
    "\n",
    "input: startState->any state<br>\n",
    "goalState->any state that can be found from path from startState<br>\n",
    "actionF->return list of actions that will move startState to new state<br>\n",
    "takeActionF->returns new state taken from startState and actionF<br>\n",
    "depthLimit->number of steps allowed to search for goalState\n",
    "\n",
    "output: returns path from startState to goalState or \"cutoff\" if goalState is not found or \"failure\" if error occured\n",
    "\n",
    "description: depth first search which can only search at depth (distance from startState) depthLimit, recursively searches lower and lower depths untill depth = 0;"
   ]
  },
  {
   "cell_type": "code",
   "execution_count": 120,
   "metadata": {},
   "outputs": [
    {
     "name": "stdout",
     "output_type": "stream",
     "text": [
      "Path from\n",
      "2 3 5\n",
      "6 1 4\n",
      "- 7 8\n",
      "to\n",
      "1 2 3\n",
      "4 - 5\n",
      "6 7 8\n",
      "is 10 nodes long\n",
      "2 3 5\n",
      "6 1 4\n",
      "7 - 8\n",
      "\n",
      "2 3 5\n",
      "6 1 4\n",
      "- 7 8\n",
      "\n",
      "2 3 5\n",
      "- 1 4\n",
      "6 7 8\n",
      "\n",
      "2 3 5\n",
      "1 - 4\n",
      "6 7 8\n",
      "\n",
      "2 3 5\n",
      "1 4 -\n",
      "6 7 8\n",
      "\n",
      "2 3 -\n",
      "1 4 5\n",
      "6 7 8\n",
      "\n",
      "2 - 3\n",
      "1 4 5\n",
      "6 7 8\n",
      "\n",
      "- 2 3\n",
      "1 4 5\n",
      "6 7 8\n",
      "\n",
      "1 2 3\n",
      "- 4 5\n",
      "6 7 8\n",
      "\n",
      "1 2 3\n",
      "4 - 5\n",
      "6 7 8\n",
      "\n"
     ]
    }
   ],
   "source": [
    "def depthLimitedSearch(startState, goalState, actionsF, takeActionF, depthLimit):\n",
    "    if(startState == goalState): return []                  #Checks if startState equals goalState        \n",
    "    if(depthLimit == 0): return \"cutoff\"                    #Checks if depth is zero\n",
    "    cutoffOccurred = False                                  #If cutoff or goalState are not found set boolean to false\n",
    "    for action in actionsF(startState):                     #Loops through each possible move\n",
    "        childState = takeActionF(startState, action)        #Creates childState from each possible move from startStata\n",
    "        result = depthLimitedSearch(childState, goalState, actionsF, takeActionF, depthLimit-1) #Recusrion of search with decremented depthLimit\n",
    "        if(result == \"cutoff\"): cutoffOccurred = True       #Checks if cutoff occured\n",
    "        elif(result != \"failure\"):                          #Checks if error occured\n",
    "            result.insert(0, childState)                    #Adds childState to path\n",
    "            return result                                   #Return path\n",
    "    if cutoffOccurred: return \"cutoff\"                      #Checks if cutoff occured\n",
    "    else: return \"falure\"                                   #Checks if error occured\n",
    "    \n",
    "\n",
    "\n",
    "path = depthLimitedSearch(startState, goalState, actionsF_8p, takeActionF_8p, 10) #Example problem\n",
    "path\n",
    "\n",
    "printPath_8p(startState, goalState, path)"
   ]
  },
  {
   "cell_type": "markdown",
   "metadata": {},
   "source": [
    "<h3>iterativeDeepeningSearch function</h3>\n",
    "\n",
    "input: startState->any state<br>\n",
    "goalState->any state that can be found from path from startState<br>\n",
    "actionF->return list of actions that will move startState to new state<br>\n",
    "takeActionF->returns new state taken from startState and actionF<br>\n",
    "maxDepth->number of iterations of depth lmited search with maxDepth = depthLimit\n",
    "\n",
    "output: returns path from startState to goalState or \"cutoff\" if goalState is not found or \"failure\" if error occured\n",
    "\n",
    "description: recursively calls depth limit search where input is the same except the depthLimit is the range 1->maxDepth"
   ]
  },
  {
   "cell_type": "code",
   "execution_count": 127,
   "metadata": {},
   "outputs": [
    {
     "name": "stdout",
     "output_type": "stream",
     "text": [
      "Path from\n",
      "2 3 5\n",
      "6 1 4\n",
      "- 7 8\n",
      "to\n",
      "1 2 3\n",
      "4 - 5\n",
      "6 7 8\n",
      "is 9 nodes long\n",
      "2 3 5\n",
      "6 1 4\n",
      "- 7 8\n",
      "\n",
      "2 3 5\n",
      "- 1 4\n",
      "6 7 8\n",
      "\n",
      "2 3 5\n",
      "1 - 4\n",
      "6 7 8\n",
      "\n",
      "2 3 5\n",
      "1 4 -\n",
      "6 7 8\n",
      "\n",
      "2 3 -\n",
      "1 4 5\n",
      "6 7 8\n",
      "\n",
      "2 - 3\n",
      "1 4 5\n",
      "6 7 8\n",
      "\n",
      "- 2 3\n",
      "1 4 5\n",
      "6 7 8\n",
      "\n",
      "1 2 3\n",
      "- 4 5\n",
      "6 7 8\n",
      "\n",
      "1 2 3\n",
      "4 - 5\n",
      "6 7 8\n",
      "\n"
     ]
    },
    {
     "data": {
      "text/plain": [
       "[[0, 0, 0],\n",
       " [1, 0, 0],\n",
       " [1, 1, 0],\n",
       " [1, 2, 0],\n",
       " [1, 2, 1],\n",
       " [1, 2, 2],\n",
       " [1, 2, 3],\n",
       " [1, 2, 4],\n",
       " [1, 2, 5],\n",
       " [1, 2, 6],\n",
       " [1, 2, 7],\n",
       " [-1, -1, -1]]"
      ]
     },
     "execution_count": 127,
     "metadata": {},
     "output_type": "execute_result"
    }
   ],
   "source": [
    "def iterativeDeepeningSearch(startState, goalState, actionsF, takeActionF, maxDepth):\n",
    "    for depth in range(maxDepth):                                                        #Loops through 1 -> maxDepth\n",
    "        result = depthLimitedSearch(startState, goalState, actionsF, takeActionF, depth) #Recursively calls depthLimitedSearch\n",
    "        if result is \"failure\": return 'failure'                                         #Checks for errors\n",
    "        elif result != \"cutoff\":                                                         #Checks for no cutoff\n",
    "            result.insert(0, startState)                                                 #Adds state to path\n",
    "            return result                                                                #Returns path\n",
    "    return 'cutoff'                                                                      #Checks for cutoff\n",
    "\n",
    "path = iterativeDeepeningSearch(startState, goalState, actionsF_8p, takeActionF_8p, 9) #Example problem\n",
    "path\n",
    "\n",
    "printPath_8p(startState, goalState, path)\n",
    "\n",
    "path = iterativeDeepeningSearch([0, 0, 0], [-1, -1, -1], actionsF_SafeCrack, takeActionF_SafeCrack, 12) #Example problem\n",
    "path\n",
    "\n",
    "path = iterativeDeepeningSearch([0, 0, 0], safeCrackGoalState, actionsF_SafeCrack, takeActionF_SafeCrack, 12) #Example problem\n",
    "path"
   ]
  },
  {
   "cell_type": "markdown",
   "metadata": {},
   "source": [
    "<h1>Extra Credit</h1>\n",
    "\n",
    "Description: Same as code from assignment one but some path not availble if barrier in the way.<br>\n",
    "0 0 0 0 0 0 0 0 0 0<br>\n",
    "0 0 0 0 0 0 0 0 0 0<br>\n",
    "0 0 0 0 x x x 0 0 0<br>\n",
    "0 0 0 0 x x x 0 0 0<br>\n",
    "0 0 0 0 0 0 0 0 0 0<br>\n",
    "0 0 0 0 0 0 0 0 0 0<br>\n",
    "0 0 0 0 0 0 0 0 0 0<br>\n",
    "0 x|x 0 0 0 0 0 0 0<br>\n",
    "0 x|x 0 0 0 0 0 0 0<br>\n",
    "0 x|x 0 0 0 0 0 0 0<br>\n",
    "\n",
    "The length 3 barriers are inbetween the x's so<br> \n",
    "x|x<br>\n",
    "x|x<br>\n",
    "x|x<br>\n",
    "\n",
    "Observations: The barriers seemed most impeding if they were placed on the edge right at the beggining and ending place ((0,0) and (9,9).<br>\n",
    "0 0 0 0 0 0 0 x x x<br>\n",
    "0 0 0 0 0 0 0 x x x<br>\n",
    "0 0 0 0 0 0 0 0 0 0<br>\n",
    "0 0 0 0 0 0 0 0 0 0<br>\n",
    "0 0 0 0 0 0 0 0 0 0<br>\n",
    "0 0 0 0 0 0 0 0 0 0<br>\n",
    "0 0 0 0 0 0 0 0 0 0<br>\n",
    "x|x 0 0 0 0 0 0 0 0<br>\n",
    "x|x 0 0 0 0 0 0 0 0<br>\n",
    "x|x 0 0 0 0 0 0 0 0<br>\n",
    "\n",
    "Difficulties: Finding the path on the grid problem could take awhile to run with iterative deepeing search."
   ]
  },
  {
   "cell_type": "code",
   "execution_count": 139,
   "metadata": {},
   "outputs": [
    {
     "data": {
      "text/plain": [
       "[(0, 1), (1, 0), (2, 0), (3, 1), (2, 2), (1, 2), (0, 2)]"
      ]
     },
     "execution_count": 139,
     "metadata": {},
     "output_type": "execute_result"
    }
   ],
   "source": [
    "def barrier_Check(state, newr, newc):\n",
    "    if((state == (0, 1) and ((newr, newc) == (0, 2) or (newr, newc) == (1, 2)))): return False\n",
    "    elif((state == (1, 1) and ((newr, newc) == (0, 2) or (newr, newc) == (1, 2) or (newr, newc) == (2, 2)))): return False\n",
    "    elif((state == (2, 1) and ((newr, newc) == (1, 2) or (newr, newc) == (2, 2)))): return False\n",
    "    elif((state == (0, 2) and ((newr, newc) == (0, 1) or (newr, newc) == (1, 1)))): return False\n",
    "    elif((state == (1, 2) and ((newr, newc) == (0, 1) or (newr, newc) == (1, 1) or (newr, newc) == (2, 1)))): return False\n",
    "    elif((state == (2, 2) and ((newr, newc) == (1, 1) or (newr, newc) == (2, 1)))): return False\n",
    "    elif((state == (5, 4) and ((newr, newc) == (6, 4) or (newr, newc) == (6, 5)))): return False\n",
    "    elif((state == (5, 5) and ((newr, newc) == (6, 4) or (newr, newc) == (6, 5) or (newr, newc) == (6, 6)))): return False\n",
    "    elif((state == (5, 6) and ((newr, newc) == (6, 5) or (newr, newc) == (6, 6)))): return False\n",
    "    elif((state == (6, 4) and ((newr, newc) == (5, 4) or (newr, newc) == (5, 5)))): return False\n",
    "    elif((state == (6, 5) and ((newr, newc) == (5, 4) or (newr, newc) == (5, 5) or (newr, newc) == (5, 6)))): return False\n",
    "    elif((state == (6, 6) and ((newr, newc) == (5, 5) or (newr, newc) == (5, 6)))): return False\n",
    "    else: return True\n",
    "    \n",
    "def actionsF_GridSuccessors(state):\n",
    "    row, col = state\n",
    "    # succs will be list of tuples () rather than list of lists [] because state must\n",
    "    # be an immutable type to serve as a key in dictionary of expanded nodes\n",
    "    succs = []\n",
    "    for r in [-1, 0, 1]:   #check each row\n",
    "        for c in [-1, 0, 1]:  # check in each col\n",
    "            newr = row + r\n",
    "            newc = col + c\n",
    "            if 0 <= newr <= 9 and 0 <= newc <= 9:\n",
    "                if(barrier_Check(state, newr, newc)):\n",
    "                    succs.append( (newr, newc) )\n",
    "    return succs\n",
    "\n",
    "actionsF_GridSuccessors([0,0])\n",
    "\n",
    "def takeAction_GridSuccessors(state, move):\n",
    "    return copy.copy(move)\n",
    "\n",
    "path1 = iterativeDeepeningSearch((0,1), (0,2), actionsF_GridSuccessors, takeAction_GridSuccessors, 7) #Example problem\n",
    "path1"
   ]
  },
  {
   "cell_type": "code",
   "execution_count": 140,
   "metadata": {},
   "outputs": [
    {
     "data": {
      "text/plain": [
       "[(0, 0), (1, 0), (2, 1), (3, 2), (2, 3), (1, 4), (0, 5), (0, 6), (0, 7)]"
      ]
     },
     "execution_count": 140,
     "metadata": {},
     "output_type": "execute_result"
    }
   ],
   "source": [
    "path2 = iterativeDeepeningSearch((0,0), (0,7), actionsF_GridSuccessors, takeAction_GridSuccessors, 9) #Example problem\n",
    "path2"
   ]
  },
  {
   "cell_type": "code",
   "execution_count": 143,
   "metadata": {},
   "outputs": [
    {
     "data": {
      "text/plain": [
       "[(5, 5), (4, 4), (5, 3), (6, 4), (6, 5)]"
      ]
     },
     "execution_count": 143,
     "metadata": {},
     "output_type": "execute_result"
    }
   ],
   "source": [
    "path3 = iterativeDeepeningSearch((5,5), (6,5), actionsF_GridSuccessors, takeAction_GridSuccessors, 5) #Example problem\n",
    "path3"
   ]
  },
  {
   "cell_type": "code",
   "execution_count": 145,
   "metadata": {},
   "outputs": [
    {
     "data": {
      "text/plain": [
       "[(0, 9),\n",
       " (1, 8),\n",
       " (2, 7),\n",
       " (3, 6),\n",
       " (4, 5),\n",
       " (5, 4),\n",
       " (6, 3),\n",
       " (7, 2),\n",
       " (8, 1),\n",
       " (9, 0)]"
      ]
     },
     "execution_count": 145,
     "metadata": {},
     "output_type": "execute_result"
    }
   ],
   "source": [
    "path4 = iterativeDeepeningSearch((0,9), (9,0), actionsF_GridSuccessors, takeAction_GridSuccessors, 10) #Example problem\n",
    "path4"
   ]
  },
  {
   "cell_type": "code",
   "execution_count": 146,
   "metadata": {},
   "outputs": [
    {
     "name": "stdout",
     "output_type": "stream",
     "text": [
      "\n",
      "======================= Code Execution =======================\n",
      "\n",
      "Extracting python code from notebook named 'Armstrong-A2.ipynb' and storing in notebookcode.py\n",
      "Removing all statements that are not function or class defs or import statements.\n",
      "\n",
      "Searching this graph:\n",
      " {'a': ['b', 'z', 'd'], 'b': ['a'], 'e': ['z'], 'd': ['y'], 'y': ['z']}\n",
      "\n",
      "Looking for path from a to y with max depth of 1.\n",
      " 5/ 5 points. Your search correctly returned cutoff\n",
      "\n",
      "Looking for path from a to z with max depth of 5.\n",
      "10/10 points. Your search correctly returned ['a', 'z']\n",
      "\n",
      "Testing findBlank_8p([1, 2, 3, 4, 5, 6, 7, 0, 8])\n",
      " 5/ 5 points. Your findBlank_8p correctly returned 2 1\n",
      "\n",
      "Testing actionsF_8p([1, 2, 3, 4, 5, 6, 7, 0, 8])\n",
      "10/10 points. Your actionsF_8p correctly returned ['left', 'right', 'up']\n",
      "\n",
      "Testing takeActionF_8p([1, 2, 3, 4, 5, 6, 7, 0, 8],up)\n",
      "10/10 points. Your takeActionsF_8p correctly returned [1, 2, 3, 4, 0, 6, 7, 5, 8]\n",
      "\n",
      "Testing iterativeDeepeningSearch([1, 2, 3, 4, 5, 6, 7, 0, 8],[0, 2, 3, 1, 4,  6, 7, 5, 8], actionsF_8p, takeActionF_8p, 5)\n",
      "20/20 points. Your search correctly returned [[1, 2, 3, 4, 5, 6, 7, 0, 8], [1, 2, 3, 4, 0, 6, 7, 5, 8], [1, 2, 3, 0, 4, 6, 7, 5, 8], [0, 2, 3, 1, 4, 6, 7, 5, 8]]\n",
      "\n",
      "Testing iterativeDeepeningSearch([5, 2, 8, 0, 1, 4, 3, 7, 6], [0, 2, 3, 1, 4,  6, 7, 5, 8], actionsF_8p, takeActionF_8p, 10)\n",
      "20/20 points. Your search correctly returned cutoff\n",
      "\n",
      "cs440 Grade is 80/80\n",
      "\n",
      "Up to 20 more points will be given based on the quality of your descriptions of the method and the results.\n"
     ]
    }
   ],
   "source": [
    "%run -i A2grader.py"
   ]
  },
  {
   "cell_type": "code",
   "execution_count": null,
   "metadata": {
    "collapsed": true
   },
   "outputs": [],
   "source": []
  }
 ],
 "metadata": {
  "kernelspec": {
   "display_name": "Python 3",
   "language": "python",
   "name": "python3"
  },
  "language_info": {
   "codemirror_mode": {
    "name": "ipython",
    "version": 3
   },
   "file_extension": ".py",
   "mimetype": "text/x-python",
   "name": "python",
   "nbconvert_exporter": "python",
   "pygments_lexer": "ipython3",
   "version": "3.6.3"
  }
 },
 "nbformat": 4,
 "nbformat_minor": 2
}
