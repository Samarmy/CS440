{
 "cells": [
  {
   "cell_type": "markdown",
   "metadata": {},
   "source": [
    "<h1>Hueristic Functions</h1>\n",
    "\n",
    "Description: The first two heuristic functions are the ones that were given. h1 always returns 0 and therefore never overestimates the heuristic cost. h2 finds the manhattan distance for 8 puzzle problem which is the sum of the vertical and horizontal distance from the blank tiles in the startState and goalState. The third heuiristic function finds the pythagorean distance from each same numbered tile in the startState and goalState and sums them all together.\n",
    "\n",
    "Observations: The h1 doesn't seem like a very effective heuristic function. h2 is definitly more effective then h1 and had a similar performance to IDS. h3 seems very effective and improves the A* searches drastically compared to h1, h2 , and ids especially in nodes searched. But the computation for h3 is much more complex then the other heuristic functions.\n",
    "\n",
    "Difficulties: It didn't seem like their were very many options for making a heuristic function for the 8 puzzle problem because its such a simple problem and doesn't have a lot of info to base descisions on."
   ]
  },
  {
   "cell_type": "markdown",
   "metadata": {},
   "source": [
    "<h3>h1_8p function</h3>\n",
    "\n",
    "input: state&rightarrow;any state<br>\n",
    "goal&rightarrow;any goal state\n",
    "\n",
    "output: always returns 0\n",
    "\n",
    "description: a very basic hueristic function that always returns 0 and therefore never overestimates"
   ]
  },
  {
   "cell_type": "code",
   "execution_count": 1,
   "metadata": {},
   "outputs": [
    {
     "ename": "NameError",
     "evalue": "name 'printState_8p' is not defined",
     "output_type": "error",
     "traceback": [
      "\u001b[0;31m---------------------------------------------------------------------------\u001b[0m",
      "\u001b[0;31mNameError\u001b[0m                                 Traceback (most recent call last)",
      "\u001b[0;32m<ipython-input-1-96fe4ee8aec2>\u001b[0m in \u001b[0;36m<module>\u001b[0;34m()\u001b[0m\n\u001b[1;32m      6\u001b[0m \u001b[0mstartState\u001b[0m \u001b[0;34m=\u001b[0m \u001b[0;34m[\u001b[0m\u001b[0;36m0\u001b[0m\u001b[0;34m,\u001b[0m \u001b[0;36m1\u001b[0m\u001b[0;34m,\u001b[0m \u001b[0;36m2\u001b[0m\u001b[0;34m,\u001b[0m \u001b[0;36m3\u001b[0m\u001b[0;34m,\u001b[0m \u001b[0;36m4\u001b[0m\u001b[0;34m,\u001b[0m \u001b[0;36m5\u001b[0m\u001b[0;34m,\u001b[0m \u001b[0;36m6\u001b[0m\u001b[0;34m,\u001b[0m \u001b[0;36m7\u001b[0m\u001b[0;34m,\u001b[0m \u001b[0;36m8\u001b[0m\u001b[0;34m]\u001b[0m                         \u001b[0;31m#Example problem\u001b[0m\u001b[0;34m\u001b[0m\u001b[0m\n\u001b[1;32m      7\u001b[0m \u001b[0mgoalState\u001b[0m \u001b[0;34m=\u001b[0m \u001b[0;34m[\u001b[0m\u001b[0;36m1\u001b[0m\u001b[0;34m,\u001b[0m \u001b[0;36m2\u001b[0m\u001b[0;34m,\u001b[0m \u001b[0;36m3\u001b[0m\u001b[0;34m,\u001b[0m \u001b[0;36m4\u001b[0m\u001b[0;34m,\u001b[0m \u001b[0;36m5\u001b[0m\u001b[0;34m,\u001b[0m \u001b[0;36m6\u001b[0m\u001b[0;34m,\u001b[0m \u001b[0;36m7\u001b[0m\u001b[0;34m,\u001b[0m \u001b[0;36m8\u001b[0m\u001b[0;34m,\u001b[0m \u001b[0;36m0\u001b[0m\u001b[0;34m]\u001b[0m\u001b[0;34m\u001b[0m\u001b[0m\n\u001b[0;32m----> 8\u001b[0;31m \u001b[0mprintState_8p\u001b[0m\u001b[0;34m(\u001b[0m\u001b[0mstartState\u001b[0m\u001b[0;34m)\u001b[0m\u001b[0;34m\u001b[0m\u001b[0m\n\u001b[0m\u001b[1;32m      9\u001b[0m \u001b[0mprint\u001b[0m\u001b[0;34m(\u001b[0m\u001b[0;34m)\u001b[0m\u001b[0;34m\u001b[0m\u001b[0m\n\u001b[1;32m     10\u001b[0m \u001b[0mprintState_8p\u001b[0m\u001b[0;34m(\u001b[0m\u001b[0mgoalState\u001b[0m\u001b[0;34m)\u001b[0m\u001b[0;34m\u001b[0m\u001b[0m\n",
      "\u001b[0;31mNameError\u001b[0m: name 'printState_8p' is not defined"
     ]
    }
   ],
   "source": [
    "import pandas as pd \n",
    "\n",
    "def h1_8p(state, goal):\n",
    "    return 0                                                     #Always returns zero\n",
    "\n",
    "startState = [0, 1, 2, 3, 4, 5, 6, 7, 8]                         #Example problem\n",
    "goalState = [1, 2, 3, 4, 5, 6, 7, 8, 0]\n",
    "printState_8p(startState)\n",
    "print()\n",
    "printState_8p(goalState)\n",
    "print(\"h1_8p = \" + str(h1_8p(startState, goalState)))"
   ]
  },
  {
   "cell_type": "markdown",
   "metadata": {},
   "source": [
    "<h3>h2_8p function</h3>\n",
    "\n",
    "input: state&rightarrow;list of length 9 containing 0-8 integers<br>\n",
    "goal&rightarrow;list of length 9 containing 0-8 integers\n",
    "\n",
    "output: returns the manhattan distance between the state and goal in the 8 puzzle problem\n",
    "\n",
    "description: finds the manhattan distance between the state and goal by adding the horizontal and vertical distance between the blank tiles"
   ]
  },
  {
   "cell_type": "code",
   "execution_count": 2,
   "metadata": {},
   "outputs": [
    {
     "ename": "NameError",
     "evalue": "name 'printState_8p' is not defined",
     "output_type": "error",
     "traceback": [
      "\u001b[0;31m---------------------------------------------------------------------------\u001b[0m",
      "\u001b[0;31mNameError\u001b[0m                                 Traceback (most recent call last)",
      "\u001b[0;32m<ipython-input-2-185b83e2ca73>\u001b[0m in \u001b[0;36m<module>\u001b[0;34m()\u001b[0m\n\u001b[1;32m      6\u001b[0m \u001b[0mstartState\u001b[0m \u001b[0;34m=\u001b[0m \u001b[0;34m[\u001b[0m\u001b[0;36m0\u001b[0m\u001b[0;34m,\u001b[0m \u001b[0;36m1\u001b[0m\u001b[0;34m,\u001b[0m \u001b[0;36m2\u001b[0m\u001b[0;34m,\u001b[0m \u001b[0;36m3\u001b[0m\u001b[0;34m,\u001b[0m \u001b[0;36m4\u001b[0m\u001b[0;34m,\u001b[0m \u001b[0;36m5\u001b[0m\u001b[0;34m,\u001b[0m \u001b[0;36m6\u001b[0m\u001b[0;34m,\u001b[0m \u001b[0;36m7\u001b[0m\u001b[0;34m,\u001b[0m \u001b[0;36m8\u001b[0m\u001b[0;34m]\u001b[0m                         \u001b[0;31m#Example problem\u001b[0m\u001b[0;34m\u001b[0m\u001b[0m\n\u001b[1;32m      7\u001b[0m \u001b[0mgoalState\u001b[0m \u001b[0;34m=\u001b[0m \u001b[0;34m[\u001b[0m\u001b[0;36m1\u001b[0m\u001b[0;34m,\u001b[0m \u001b[0;36m2\u001b[0m\u001b[0;34m,\u001b[0m \u001b[0;36m3\u001b[0m\u001b[0;34m,\u001b[0m \u001b[0;36m4\u001b[0m\u001b[0;34m,\u001b[0m \u001b[0;36m5\u001b[0m\u001b[0;34m,\u001b[0m \u001b[0;36m6\u001b[0m\u001b[0;34m,\u001b[0m \u001b[0;36m7\u001b[0m\u001b[0;34m,\u001b[0m \u001b[0;36m8\u001b[0m\u001b[0;34m,\u001b[0m \u001b[0;36m0\u001b[0m\u001b[0;34m]\u001b[0m\u001b[0;34m\u001b[0m\u001b[0m\n\u001b[0;32m----> 8\u001b[0;31m \u001b[0mprintState_8p\u001b[0m\u001b[0;34m(\u001b[0m\u001b[0mstartState\u001b[0m\u001b[0;34m)\u001b[0m\u001b[0;34m\u001b[0m\u001b[0m\n\u001b[0m\u001b[1;32m      9\u001b[0m \u001b[0mprint\u001b[0m\u001b[0;34m(\u001b[0m\u001b[0;34m)\u001b[0m\u001b[0;34m\u001b[0m\u001b[0m\n\u001b[1;32m     10\u001b[0m \u001b[0mprintState_8p\u001b[0m\u001b[0;34m(\u001b[0m\u001b[0mgoalState\u001b[0m\u001b[0;34m)\u001b[0m\u001b[0;34m\u001b[0m\u001b[0m\n",
      "\u001b[0;31mNameError\u001b[0m: name 'printState_8p' is not defined"
     ]
    }
   ],
   "source": [
    "def h2_8p(state, goal):\n",
    "    x1, y1 = findBlank_8p(state)                                 #Gets x, y coordinates of blank tile in state\n",
    "    x2, y2 = findBlank_8p(goal)                                  #Gets x, y coordinates of blank tile in goal\n",
    "    return abs(x1-x2) + abs(y1-y2)                               #Adds the blank tiles vertical and horizontal \n",
    "                                                                 #distances together\n",
    "startState = [0, 1, 2, 3, 4, 5, 6, 7, 8]                         #Example problem\n",
    "goalState = [1, 2, 3, 4, 5, 6, 7, 8, 0]\n",
    "printState_8p(startState)\n",
    "print()\n",
    "printState_8p(goalState)\n",
    "print(\"h2_8p = \" + str(h2_8p(startState, goalState)))"
   ]
  },
  {
   "cell_type": "markdown",
   "metadata": {},
   "source": [
    "<h3>h3_8p function</h3>\n",
    "\n",
    "input: state&rightarrow;list of length 9 containing 0-8 integers<br>\n",
    "goal&rightarrow;list of length 9 containing 0-8 integers\n",
    "\n",
    "output: returns the sum of the pythagorean distances between every same numbered tile in the state and goal in the 8 puzzle problem\n",
    "\n",
    "description: takes the coordinates of every tile with the same number in the state and goal, runs them through the pythagorean theorem to get their distance and then adds all of them up"
   ]
  },
  {
   "cell_type": "code",
   "execution_count": 28,
   "metadata": {},
   "outputs": [
    {
     "name": "stdout",
     "output_type": "stream",
     "text": [
      "- 2 3\n",
      "4 5 6\n",
      "7 8 1\n",
      "\n",
      "1 2 3\n",
      "4 5 6\n",
      "7 8 -\n",
      "h3_8p = 2.8284271247461903\n"
     ]
    }
   ],
   "source": [
    "def h3_8p(state, goal):\n",
    "    sum = 0                                                      #Initializes total distance\n",
    "    for i in range(0,9):                                         #Loop through every tile \n",
    "        x1, y1 = findTile_8p(state, i)                           #Finds x, y coordinates of tile in state\n",
    "        x2, y2 = findTile_8p(goal, i)                            #Finds x, y coordinates of tile in goal\n",
    "        sum += ((((x1-x2)**2) + ((y1-y2)**2))**0.5)              #Adds pythagorean distance between the two tiles to\n",
    "    return sum/2                                                   #sum\n",
    "\n",
    "startState = [0, 2, 3, 4, 5, 6, 7, 8, 1]                         #Example problem\n",
    "goalState = [1, 2, 3, 4, 5, 6, 7, 8, 0]\n",
    "printState_8p(startState)\n",
    "print()\n",
    "printState_8p(goalState)\n",
    "print(\"h3_8p = \" + str(h3_8p(startState, goalState)))            #(Square root of 8) times 2"
   ]
  },
  {
   "cell_type": "markdown",
   "metadata": {},
   "source": [
    "<h1>8 Puzzle Functions</h1>\n",
    "\n",
    "Description: A 3 x 3 puzzle with 9 tiles each labeled 0-8 and one blank tile. You can only move a tile piece if the tile is left, right, above, or below the blank tile. You must find a list of moves that will lead from the start state to the goal state.\n",
    "\n",
    "Observations: I liked the problem and the solution paths were fairly short.\n",
    "\n",
    "Difficulties: Having an input that was a list instead of a 3 x 3 matrix made visualizing the problem more difficult. Being new to python, I didn't know some of the shorter syntaxes so the code isn't as concise as it could be."
   ]
  },
  {
   "cell_type": "markdown",
   "metadata": {},
   "source": [
    "<h3>printState_8p function</h3>\n",
    "\n",
    "input: list of length 9 containing 0-8 integers\n",
    "\n",
    "output: 3 x 3 print of list with 0 replaced by -\n",
    "\n",
    "description: a visualization of the 8 puzzle problem"
   ]
  },
  {
   "cell_type": "code",
   "execution_count": 4,
   "metadata": {},
   "outputs": [
    {
     "name": "stdout",
     "output_type": "stream",
     "text": [
      "1 - 3\n",
      "4 2 5\n",
      "6 7 8\n"
     ]
    }
   ],
   "source": [
    "import copy\n",
    "\n",
    "def printState_8p(state):\n",
    "    temp = copy.copy(state)                                         #Creates temp copy of array\n",
    "    for ind, val in enumerate(temp):                                #Loops through array\n",
    "        if val == 0:                                                #If val is 0 replaces with '-'\n",
    "            temp[ind] = \"-\"\n",
    "    print(str(temp[0]) + \" \" + str(temp[1]) + \" \" + str(temp[2]))   #Print first 3 values of array\n",
    "    print(str(temp[3]) + \" \" + str(temp[4]) + \" \" + str(temp[5]))   #Print second 3 values of array\n",
    "    print(str(temp[6]) + \" \" + str(temp[7]) + \" \" + str(temp[8]))   #Print thrird 3 values of array\n",
    "    \n",
    "startState = [1, 0, 3, 4, 2, 5, 6, 7, 8]                            #Example problem\n",
    "printState_8p(startState)                 "
   ]
  },
  {
   "cell_type": "markdown",
   "metadata": {},
   "source": [
    "<h3>printPath_8p function</h3>\n",
    "\n",
    "input: startState&rightarrow;list of length 9 containing 0-8 integers<br>\n",
    "goalState&rightarrow;list of length 9 containing 0-8 integers<br>\n",
    "path&rightarrow;list containing lists of length 9 containing 0-8 integers\n",
    "\n",
    "ouput: prints out 3 x 3 list of start state and goal state and prints out each 3 x 3 list in path with 0 replaced by  -\n",
    "\n",
    "description: prints out startState and goalState and then each step taken to get from one to other"
   ]
  },
  {
   "cell_type": "code",
   "execution_count": 5,
   "metadata": {},
   "outputs": [
    {
     "name": "stdout",
     "output_type": "stream",
     "text": [
      "Path from\n",
      "- 1 2\n",
      "3 4 5\n",
      "6 7 8\n",
      "to\n",
      "1 2 -\n",
      "3 4 5\n",
      "6 7 8\n",
      "is 3 nodes long\n",
      "- 1 2\n",
      "3 4 5\n",
      "6 7 8\n",
      "\n",
      "1 - 2\n",
      "3 4 5\n",
      "6 7 8\n",
      "\n",
      "1 2 -\n",
      "3 4 5\n",
      "6 7 8\n",
      "\n"
     ]
    }
   ],
   "source": [
    "def printPath_8p(startState, goalState, path):\n",
    "    print(\"Path from\")\n",
    "    printState_8p(startState)                                    #Prints startState\n",
    "    print(\"to\")\n",
    "    printState_8p(goalState)                                     #Prints goalState\n",
    "    print(\"is \" + str(len(path)) + \" nodes long\")                #Prints number of steps in path\n",
    "    for p in path:                                               #Loops through path\n",
    "        printState_8p(p)                                         #Prints each 3 x 3 step in path\n",
    "        print()\n",
    "        \n",
    "startState = [0, 1, 2, 3, 4, 5, 6, 7, 8]                         #Example problem\n",
    "goalState = [1, 2, 0, 3, 4, 5, 6, 7, 8]\n",
    "path = [startState, [1, 0, 2, 3, 4, 5, 6, 7, 8], goalState]\n",
    "printPath_8p(startState, goalState, path)"
   ]
  },
  {
   "cell_type": "markdown",
   "metadata": {},
   "source": [
    "<h3>findTile_8p function</h3>\n",
    "\n",
    "input: state&rightarrow;list of length 9 containing 0-8 integers<br>\n",
    "tile&rightarrow;0-8 integer\n",
    "\n",
    "output: (x, y) coordinates of tile when list is converted to 3x3 matrix\n",
    "\n",
    "description: outputs where the tile is in 8 puzzle problem"
   ]
  },
  {
   "cell_type": "code",
   "execution_count": 6,
   "metadata": {},
   "outputs": [
    {
     "name": "stdout",
     "output_type": "stream",
     "text": [
      "1 2 3\n",
      "4 5 -\n",
      "6 7 8\n"
     ]
    },
    {
     "data": {
      "text/plain": [
       "(1, 0)"
      ]
     },
     "execution_count": 6,
     "metadata": {},
     "output_type": "execute_result"
    }
   ],
   "source": [
    "def findTile_8p(state, tile):\n",
    "    for ind, val in enumerate(state):    #Loops through array\n",
    "        if val == tile:                  #When tile is found\n",
    "            x = int(ind/3)               #Set x-coordinate to row of 3x3 \n",
    "            y = ind%3                    #Set y-coordinate to column of 3x3\n",
    "        \n",
    "    return (x, y)                        #Returns (x, y) coordinates\n",
    "\n",
    "\n",
    "startState = [1, 2, 3, 4, 5, 0, 6, 7, 8] #Example problem\n",
    "printState_8p(startState)              \n",
    "findTile_8p(startState, 4)"
   ]
  },
  {
   "cell_type": "markdown",
   "metadata": {},
   "source": [
    "<h3>findBlank_8p function</h3>\n",
    "\n",
    "input: list of length 9 containing 0-8 integers\n",
    "\n",
    "output: (x, y) coordinates of 0 when list is converted to 3x3 matrix\n",
    "\n",
    "description: outputs where the blank tile is in 8 puzzle problem"
   ]
  },
  {
   "cell_type": "code",
   "execution_count": 7,
   "metadata": {},
   "outputs": [
    {
     "name": "stdout",
     "output_type": "stream",
     "text": [
      "1 2 3\n",
      "4 5 -\n",
      "6 7 8\n"
     ]
    },
    {
     "data": {
      "text/plain": [
       "(1, 2)"
      ]
     },
     "execution_count": 7,
     "metadata": {},
     "output_type": "execute_result"
    }
   ],
   "source": [
    "def findBlank_8p(state):\n",
    "    return findTile_8p(state, 0)         #Calls find tile function with input of state and 0 which is blank tile\n",
    "\n",
    "startState = [1, 2, 3, 4, 5, 0, 6, 7, 8] #Example problem\n",
    "printState_8p(startState)              \n",
    "findBlank_8p(startState)"
   ]
  },
  {
   "cell_type": "markdown",
   "metadata": {},
   "source": [
    "<h3>actionsF_8p function</h3>\n",
    "\n",
    "input: list of length 9 containing 0-8 integers\n",
    "\n",
    "output: list containing possible moves for blank tile which can contain left, right, up, and/or down and a stepcost which is always 1 because you are only moving one tile\n",
    "\n",
    "description: if blank tile isn't in left most column return list containing (left, 1), if blank tile isn't in right most column return list containing (right, 1), if blank tile isn't in the top row return list containing (up, 1), and if blank tile isn't in the bottom row return list containing (down, 1). "
   ]
  },
  {
   "cell_type": "code",
   "execution_count": 8,
   "metadata": {},
   "outputs": [
    {
     "name": "stdout",
     "output_type": "stream",
     "text": [
      "1 2 3\n",
      "4 5 -\n",
      "6 7 8\n"
     ]
    },
    {
     "data": {
      "text/plain": [
       "[('left', 1), ('up', 1), ('down', 1)]"
      ]
     },
     "execution_count": 8,
     "metadata": {},
     "output_type": "execute_result"
    }
   ],
   "source": [
    "def actionsF_8p(state):\n",
    "    actions = []                                 #Initialize list of possible actions\n",
    "    x, y = findBlank_8p(state)                   #Finds x, y coordinates of blank tile\n",
    "    \n",
    "    if(y != 0): actions.append((\"left\", 1))      #Checks if tile can move left, right, up, or down based on \n",
    "    if(y != 2): actions.append((\"right\", 1))     #coordinates and if so it then adds it to possible actions list\n",
    "    if(x != 0): actions.append((\"up\", 1))\n",
    "    if(x != 2): actions.append((\"down\", 1))\n",
    "        \n",
    "    return actions                               #Returns possible actions list\n",
    "\n",
    "startState = [1, 2, 3, 4, 5, 0, 6, 7, 8]         #Example problem\n",
    "printState_8p(startState) \n",
    "actionsF_8p(startState)"
   ]
  },
  {
   "cell_type": "markdown",
   "metadata": {},
   "source": [
    "<h3>takeActionF_8p function</h3>\n",
    "\n",
    "input: state&rightarrow;list of length 9 containing 0-8 integers<br>\n",
    "step&rightarrow;tuple containing string that could be either left, right, up, or down and stepCost equal to 1\n",
    "\n",
    "output: tuple containing list of length 9 containing 0-8 integers where the blank tile is swapped with the tile that was specified by the step input and cost of move which is always 1\n",
    "\n",
    "description: creates a new state from the original state with blank tile swapped with the tile specified by the move and the stepcost of that move"
   ]
  },
  {
   "cell_type": "code",
   "execution_count": 9,
   "metadata": {},
   "outputs": [
    {
     "name": "stdout",
     "output_type": "stream",
     "text": [
      "1 2 3\n",
      "4 5 -\n",
      "6 7 8\n",
      "([1, 2, 0, 4, 5, 3, 6, 7, 8], 1)\n",
      "1 2 -\n",
      "4 5 3\n",
      "6 7 8\n"
     ]
    }
   ],
   "source": [
    "def takeActionF_8p(state, step):\n",
    "    (move, stepCost) = step\n",
    "    succ = copy.copy(state)                                    #Copies original state   \n",
    "    ind = succ.index(0)                                        #Gets index of blank tile\n",
    "    if(move == \"left\" and (\"left\",1) in actionsF_8p(state)):        #If move is left\n",
    "        succ[ind], succ[ind - 1] = succ[ind - 1], succ[ind]    #Swaps blank tile and tile to the left\n",
    "    if(move == \"right\" and (\"right\",1) in actionsF_8p(state)):      #If move is right\n",
    "        succ[ind ], succ[ind + 1] = succ[ind + 1], succ[ind]   #Swaps blank tile and tile to the right\n",
    "    if(move == \"up\" and (\"up\",1) in actionsF_8p(state)):            #If move is up\n",
    "        succ[ind], succ[ind - 3] = succ[ind - 3], succ[ind]    #Swaps blank tile and above tile\n",
    "    if(move == \"down\" and (\"down\",1) in actionsF_8p(state)):        #If move is down\n",
    "        succ[ind], succ[ind + 3] = succ[ind + 3], succ[ind]    #Swaps blank tile and lower tile\n",
    "\n",
    "    return (succ, 1)                                      #Returns modified state\n",
    "\n",
    "startState = [1, 2, 3, 4, 5, 0, 6, 7, 8]                       #Example Problem\n",
    "printState_8p(startState)\n",
    "print(takeActionF_8p(startState, (\"up\", 1)))\n",
    "printState_8p(takeActionF_8p(startState, (\"up\", 1))[0])"
   ]
  },
  {
   "cell_type": "markdown",
   "metadata": {},
   "source": [
    "<h3>goalTestF_8p function</h3>\n",
    "\n",
    "input: state&rightarrow;any state<br>\n",
    "goal&rightarrow;any goal state\n",
    "\n",
    "output: compares state and goal state to see if they're the same and returns boolean\n",
    "\n",
    "description: basic test to see if state is equal to goal"
   ]
  },
  {
   "cell_type": "code",
   "execution_count": 10,
   "metadata": {},
   "outputs": [
    {
     "name": "stdout",
     "output_type": "stream",
     "text": [
      "1 2 3\n",
      "4 5 -\n",
      "6 7 8\n",
      "\n",
      "2 1 3\n",
      "4 5 -\n",
      "6 7 8\n"
     ]
    },
    {
     "data": {
      "text/plain": [
       "False"
      ]
     },
     "execution_count": 10,
     "metadata": {},
     "output_type": "execute_result"
    }
   ],
   "source": [
    "def goalTestF_8p(state, goal):\n",
    "    return state == goal\n",
    "\n",
    "startState = [1, 2, 3, 4, 5, 0, 6, 7, 8]    #Example problem\n",
    "goalState = [2, 1, 3, 4, 5, 0, 6, 7, 8]    #Example problem\n",
    "printState_8p(startState) \n",
    "print()\n",
    "printState_8p(goalState) \n",
    "goalTestF_8p(startState, goalState)"
   ]
  },
  {
   "cell_type": "markdown",
   "metadata": {},
   "source": [
    "<h1>Simple Problem Functions</h1>"
   ]
  },
  {
   "cell_type": "markdown",
   "metadata": {},
   "source": [
    "Given in notes"
   ]
  },
  {
   "cell_type": "code",
   "execution_count": 11,
   "metadata": {
    "collapsed": true
   },
   "outputs": [],
   "source": [
    "def actionsF_simple(state):\n",
    "    succs = {'a': ['b', 'c'], 'b':['a'], 'c':['h'], 'h':['i'], 'i':['j', 'k', 'l'], 'k':['z']}\n",
    "    return [(s, 1) for s in succs.get(state, [])]\n",
    "\n",
    "def takeActionF_simple(state, action):\n",
    "    return action\n",
    "\n",
    "def goalTestF_simple(state, goal):\n",
    "    return state == goal\n",
    "\n",
    "def h_simple(state, goal):\n",
    "    return 1\n"
   ]
  },
  {
   "cell_type": "markdown",
   "metadata": {},
   "source": [
    "<h1>NodeCounter Class</h1>"
   ]
  },
  {
   "cell_type": "markdown",
   "metadata": {},
   "source": [
    "Description: a simple counter class that is initilized at the beggining of a search algorithm. When initialized the counter is at 0. The increment function is called whenever a child node is created in the search algorithm. The getCount function is called after the search has been complete.\n",
    "\n",
    "Observations: The counter works well when the increment is placed right before the creation of children nodes. I wrote the nodeCounter class because creating a global variable to count the nodes seemed like bad coding.\n",
    "\n",
    "Difficulties: When you call the counter multiple times there were some issues in overwriting the original count. You have to pass the nodeCounter into the params of the recursive functions so doing that meant modifying the search functions more than I would have liked."
   ]
  },
  {
   "cell_type": "code",
   "execution_count": 12,
   "metadata": {
    "collapsed": true
   },
   "outputs": [],
   "source": [
    "class nodeCounter:\n",
    "    count = 0                                        #Makes sure count is always initialized at 0\n",
    "    def __init__(self):                              #Initialize counter\n",
    "        nodeCounter.count = 0                       \n",
    "    \n",
    "    def increment(self):                             #Increments count by 1\n",
    "        nodeCounter.count = nodeCounter.count + 1\n",
    "        \n",
    "    def getCount(self):                              #Returns count\n",
    "        return copy.copy(nodeCounter.count)"
   ]
  },
  {
   "cell_type": "markdown",
   "metadata": {},
   "source": [
    "<h1>Depth Limited Search and Iterative Deepening Search Functions</h1>\n",
    "\n",
    "Description: Depth limited search searches using depth first search only at depth d. Iterative deepening search recursively calls depth limited search incrementing depth each time until goalState is found or depth limit is reached.\n",
    "\n",
    "Observations: IDS seems to perform better then A* Search with h1 but is about the same performance level as the A* search with h2 (manhattan distance heuristic).\n",
    "\n",
    "Difficulties: I had some trouble implementing a node counter while implementing the function in a way that still passed in the A3grader.py script."
   ]
  },
  {
   "cell_type": "markdown",
   "metadata": {},
   "source": [
    "<h3>depthLimitedSearch function</h3>\n",
    "\n",
    "input: startState&rightarrow;any state<br>\n",
    "goalState&rightarrow;any state that can be found in path from startState<br>\n",
    "actionF&rightarrow;return list of actions that will move startState to new state<br>\n",
    "takeActionF&rightarrow;returns new state taken from startState and actionF<br>\n",
    "depthLimit&rightarrow;number of steps allowed to search for goalState<br>\n",
    "idsCount&rightarrow;nodeCounter instance\n",
    "\n",
    "output: returns tuple with path from startState to goalState or \"cutoff\" if goalState is not found or \"failure\" if error occured and the nodeCounter instance idsCount\n",
    "\n",
    "description: depth first search which can only search at depth (distance from startState) depthLimit, recursively searches lower and lower depths untill depth = 0 or goalState is found;"
   ]
  },
  {
   "cell_type": "code",
   "execution_count": 13,
   "metadata": {},
   "outputs": [
    {
     "name": "stdout",
     "output_type": "stream",
     "text": [
      "Path from\n",
      "- 1 2\n",
      "3 4 5\n",
      "6 7 8\n",
      "to\n",
      "1 2 -\n",
      "3 4 5\n",
      "6 7 8\n",
      "is 2 nodes long\n",
      "1 - 2\n",
      "3 4 5\n",
      "6 7 8\n",
      "\n",
      "1 2 -\n",
      "3 4 5\n",
      "6 7 8\n",
      "\n"
     ]
    }
   ],
   "source": [
    "def depthLimitedSearch(startState, goalState, actionsF, takeActionF, depthLimit, idsCount):\n",
    "    if(startState == goalState): return ([], idsCount)      #Checks if startState equals goalState        \n",
    "    if(depthLimit == 0): return (\"cutoff\", idsCount)        #Checks if depth is zero\n",
    "    cutoffOccurred = False                                  #If cutoff or goalState are not found set boolean to false\n",
    "    for action in actionsF(startState):                     #Loops through each possible move\n",
    "        idsCount.increment()                                #Increments node count\n",
    "        (childState, stepValue) = takeActionF(startState, action)#Creates childState from each possible move from startState\n",
    "        (result, idsCount) = depthLimitedSearch(childState, goalState, actionsF, takeActionF, depthLimit-1, idsCount) #Recursion of search with decremented depthLimit\n",
    "        if(result == \"cutoff\"): cutoffOccurred = True       #Checks if cutoff occured\n",
    "        elif(result != \"failure\"):                          #Checks if error occured\n",
    "            result.insert(0, childState)                    #Adds childState to path\n",
    "            return (result, idsCount)                       #Return path and nodeCounter\n",
    "    if cutoffOccurred: return (\"cutoff\", idsCount)          #Checks if cutoff occured\n",
    "    else: return (\"failure\", idsCount)                      #Checks if error occured\n",
    "\n",
    "startState = [0, 1, 2, 3, 4, 5, 6, 7, 8]                    #Example problem will have one node less in path then\n",
    "goalState = [1, 2, 0, 3, 4, 5, 6, 7, 8]                     #ids because ids includes start node in path\n",
    "\n",
    "path = depthLimitedSearch(startState, goalState, actionsF_8p, takeActionF_8p, 3, nodeCounter())[0]\n",
    "printPath_8p(startState, goalState, path)"
   ]
  },
  {
   "cell_type": "markdown",
   "metadata": {},
   "source": [
    "<h3>iterativeDeepeningSearch function</h3>\n",
    "\n",
    "input: startState&rightarrow;any state<br>\n",
    "goalState&rightarrow;any state that can be found from path from startState<br>\n",
    "actionF&rightarrow;return list of actions that will move startState to new state<br>\n",
    "takeActionF&rightarrow;returns new state taken from startState and actionF<br>\n",
    "maxDepth&rightarrow;number of iterations of depth lmited search with maxDepth = depthLimit<br>\n",
    "countNodes&rightarrow;boolean which will dictate whether function returns path or tuple (path, nodeCounter)\n",
    "\n",
    "output: if countNodes is False returns path from startState to goalState or \"cutoff\" if goalState is not found or \"failure\" if error occured. If countNodes is True returns the same thing except with nodeCounter instance added on the end.\n",
    "\n",
    "description: recursively calls depth limit search where input is the same except the depthLimit is the range 1&rightarrow;maxDepth"
   ]
  },
  {
   "cell_type": "code",
   "execution_count": 14,
   "metadata": {},
   "outputs": [
    {
     "name": "stdout",
     "output_type": "stream",
     "text": [
      "Path from\n",
      "- 1 2\n",
      "3 4 5\n",
      "6 7 8\n",
      "to\n",
      "1 2 -\n",
      "3 4 5\n",
      "6 7 8\n",
      "is 3 nodes long\n",
      "- 1 2\n",
      "3 4 5\n",
      "6 7 8\n",
      "\n",
      "1 - 2\n",
      "3 4 5\n",
      "6 7 8\n",
      "\n",
      "1 2 -\n",
      "3 4 5\n",
      "6 7 8\n",
      "\n"
     ]
    }
   ],
   "source": [
    "def iterativeDeepeningSearch(startState, goalState, actionsF, takeActionF, maxDepth, countNodes = False):\n",
    "    idsCount = nodeCounter()                 #Initializes nodeCounter\n",
    "    for depth in range(maxDepth):            #Loops through 1 -> maxDepth\n",
    "        (result, idsCount) = depthLimitedSearch(startState, goalState, actionsF, takeActionF, depth, idsCount) #Recursively calls depthLimitedSearch\n",
    "        if result is \"failure\":              #Checks for error\n",
    "            if(countNodes == False):         #Checks if nodeCounter is wanted in return statement\n",
    "                return 'failure'             #Returns failure without nodeCounter\n",
    "            else:\n",
    "                return ('failure', idsCount) #Returns failure with nodeCounter\n",
    "        elif result != \"cutoff\":             #Checks for no cutoff\n",
    "            result.insert(0, startState)     #Adds state to path\n",
    "            if(countNodes == False):         #Checks if nodeCounter is wanted in return statement\n",
    "                return result                #Returns path without nodeCounter\n",
    "            else:\n",
    "                return (result, idsCount)    #Returns path with nodeCounter\n",
    "    if(countNodes == False):                 #Checks if nodeCounter is wanted in return statement\n",
    "        return 'cutoff'                      #Returns cutoff without nodeCounter\n",
    "    else:\n",
    "        return ('cutoff' , idsCount)         #Returns cutoff with nodeCounter\n",
    "\n",
    "startState = [0, 1, 2, 3, 4, 5, 6, 7, 8]     #Example problem will have one more node than depth limited search\n",
    "goalState = [1, 2, 0, 3, 4, 5, 6, 7, 8]      #because start node is included in path\n",
    "\n",
    "path = iterativeDeepeningSearch(startState, goalState, actionsF_8p, takeActionF_8p, 3)\n",
    "printPath_8p(startState, goalState, path)"
   ]
  },
  {
   "cell_type": "markdown",
   "metadata": {},
   "source": [
    "<h1>Node Class</h1>"
   ]
  },
  {
   "cell_type": "markdown",
   "metadata": {},
   "source": [
    "Description: a node class that has 3 variables f, g, and h."
   ]
  },
  {
   "cell_type": "code",
   "execution_count": 15,
   "metadata": {
    "collapsed": true
   },
   "outputs": [],
   "source": [
    "class Node:\n",
    "    def __init__(self, state, f=0, g=0 ,h=0):\n",
    "        self.state = state\n",
    "        self.f = f\n",
    "        self.g = g\n",
    "        self.h = h\n",
    "    def __repr__(self):\n",
    "        return \"Node(\" + repr(self.state) + \", f=\" + repr(self.f) + \\\n",
    "               \", g=\" + repr(self.g) + \", h=\" + repr(self.h) + \")\""
   ]
  },
  {
   "cell_type": "markdown",
   "metadata": {},
   "source": [
    "<h1>A* Search Functions</h1>\n",
    "\n",
    "Description: The A* function searches for a path from the startstate to the goalstate using the action function and the take action function and some heuristic function. It implements a depth first search algorithm that chooses its next node searched by looking at the stepcost and the cost given by the heuristic function.\n",
    "\n",
    "Observations: The accuracy of th heuristic function made a big difference performance wise. The A* search with the h1 heuristic function performed the worst of all the algorithms while the A* search with the h3 hueristic function performed the best of all the algorithms.\n",
    "\n",
    "Difficulties: I wasn't sure why this function was suppose to return a path and the stepcost in the A3grader script while the IDS function only wanted a path and no stepcost."
   ]
  },
  {
   "cell_type": "markdown",
   "metadata": {},
   "source": [
    "<h3>aStarSearchHelper function</h3>\n",
    "\n",
    "input: parentNode&rightarrow;any state<br>\n",
    "actionF&rightarrow;return list of actions that will move state to new state<br>\n",
    "takeActionF&rightarrow;returns new state taken from state and actionF<br>\n",
    "goalTestF&rightarrow;return boolean if state equals goalState<br>\n",
    "hF&rightarrow;returns integer of hueristic function that finds predicted cost of moving from state to goalState<br>\n",
    "fmax&rightarrow;the max cost at which A* search will search<br>\n",
    "aStarCount&rightarrow;nodeCounter instance\n",
    "\n",
    "output: returns tuple of path, stepCost, nodeCounter from startState to goalState or \"failure\", nodeCounter if error  or cutoff occured \n",
    "\n",
    "description: Recursive call for A* search"
   ]
  },
  {
   "cell_type": "code",
   "execution_count": 16,
   "metadata": {
    "collapsed": true
   },
   "outputs": [],
   "source": [
    "def aStarSearchHelper(parentNode, actionsF, takeActionF, goalTestF, hF, fmax, aStarCount):\n",
    "    if goalTestF(parentNode.state):                                          #Checks if parentNode is goalState\n",
    "        return ([parentNode.state], parentNode.g, aStarCount)                #Returns parentState, parentCost, and nodeCounter\n",
    "    ## Construct list of children nodes with f, g, and h values\n",
    "    actions = actionsF(parentNode.state)                                     #Creates list of possible actions\n",
    "    if not actions:                                                          #Checks if there are no actions\n",
    "        return (\"failure\", float('inf'), aStarCount)                         #Returns failure with infinite step cost and nodeCounter\n",
    "    children = []                                                            #Initializes list of children nodes\n",
    "    for action in actions:                                                   #Loops through list of actions\n",
    "        (childState,stepCost) = takeActionF(parentNode.state, action)        #Gets childState and stepCost from action\n",
    "        h = hF(childState)                                                   #Gets heuristic cost of childState\n",
    "        g = parentNode.g + stepCost                                          #Gets parentNode stepCost + childNode stepCost \n",
    "        f = max(h+g, parentNode.f)                                           #Finds the higher cost of heuristic cost + total stepCost for child or parent node\n",
    "        aStarCount.increment()                                               #Increment nodeCounter\n",
    "        childNode = Node(state=childState, f=f, g=g, h=h)                    #Creates childNode\n",
    "        children.append(childNode)\n",
    "    while True:                                                              #Loop\n",
    "        # find best child\n",
    "        children.sort(key = lambda n: n.f)                                   #Sort by f value\n",
    "        bestChild = children[0]                                              #Picks best child\n",
    "        if bestChild.f > fmax:                                               #Checks if childNode has higher cost then fmax\n",
    "            return (\"failure\",bestChild.f,aStarCount)                        #Returns failure and nodeCounter\n",
    "        # next lowest f value\n",
    "        alternativef = children[1].f if len(children) > 1 else float('inf') \n",
    "        # expand best child, reassign its f value to be returned value\n",
    "        result,bestChild.f,aStarCount= aStarSearchHelper(bestChild, actionsF, takeActionF, goalTestF, hF, min(fmax,alternativef), aStarCount) #Recursively calls A* helper function\n",
    "        if result is not \"failure\":                                          #Checks for error        \n",
    "            result.insert(0,parentNode.state)                                #Adds parentState to path\n",
    "            return (result, bestChild.f, aStarCount)      "
   ]
  },
  {
   "cell_type": "markdown",
   "metadata": {},
   "source": [
    "<h3>aStarSearch function</h3>\n",
    "\n",
    "input: startState&rightarrow;any state<br>\n",
    "actionF&rightarrow;return list of actions that will move startState to new state<br>\n",
    "takeActionF&rightarrow;returns new state taken from startState and actionF<br>\n",
    "goalTestF&rightarrow;return boolean if startState equals goalState<br>\n",
    "hF&rightarrow;returns integer of hueristic function that finds predicted cost of moving from startState to goalState<br>\n",
    "countNodes&rightarrow;boolean which will dictate whether function returns tuple (path, stepCost) or (path, stepCost, nodeCounter)\n",
    "\n",
    "output: if nodeCounter is False returns tuple of path, stepCost from startState to goalState or \"cutoff\" if goalState is not found or \"failure\" if error occured. If nodeCounter is True will return same thing with nodeCounter instance added on end.\n",
    "\n",
    "description: A* search that will use a guided depth first search that picks its next node to explore based on the heuristic function and step cost and picks the node with the least total cost."
   ]
  },
  {
   "cell_type": "code",
   "execution_count": 17,
   "metadata": {},
   "outputs": [
    {
     "name": "stdout",
     "output_type": "stream",
     "text": [
      "Path from\n",
      "- 1 2\n",
      "3 4 5\n",
      "6 7 8\n",
      "to\n",
      "1 2 -\n",
      "3 4 5\n",
      "6 7 8\n",
      "is 3 nodes long\n",
      "- 1 2\n",
      "3 4 5\n",
      "6 7 8\n",
      "\n",
      "1 - 2\n",
      "3 4 5\n",
      "6 7 8\n",
      "\n",
      "1 2 -\n",
      "3 4 5\n",
      "6 7 8\n",
      "\n"
     ]
    }
   ],
   "source": [
    "def aStarSearch(startState, actionsF, takeActionF, goalTestF, hF, countNodes = False):\n",
    "    h = hF(startState)                                    #Initializes h for heuristic function cost to goalState\n",
    "    aStarCount = nodeCounter()                            #Initializes nodeCounter\n",
    "    startNode = Node(state=startState, f=0+h, g=0, h=h)   #Initializes startNode\n",
    "    if(countNodes == False):                          \n",
    "        return aStarSearchHelper(startNode, actionsF, takeActionF, goalTestF, hF, 100, aStarCount)[0:2] #Returns path, stepCost\n",
    "    else:\n",
    "        return aStarSearchHelper(startNode, actionsF, takeActionF, goalTestF, hF, 100, aStarCount) #Returns path, stepCost, nodeCounter\n",
    "  \n",
    "startState = [0, 1, 2, 3, 4, 5, 6, 7, 8]    \n",
    "goalState = [1, 2, 0, 3, 4, 5, 6, 7, 8]      \n",
    "path = aStarSearch(startState, actionsF_8p, takeActionF_8p, lambda s: goalTestF_8p(s, goalState), lambda s: h1_8p(s, goalState))[0]\n",
    "printPath_8p(startState, goalState, path)"
   ]
  },
  {
   "cell_type": "markdown",
   "metadata": {},
   "source": [
    "<h1>Effective Branching Factor Function</h1>\n",
    "\n",
    "Description: Uses a binary search to look for B where (1-B^(depth-1))/(1-B)=nNodes. I used nNodes\\**(1/depth) as the initial uppermost bound.\n",
    "\n",
    "Observations: The binary search made finding the answer much easier. Using nNodes\\*\\*(1/depth) as the upperbound also seemed to improve the search. I found when you plug in nNodes\\*\\*(1/depth) to (1-B^(depth-1))/(1-B)=nNodes it will always be greater so it is a valid upperbound.\n",
    "\n",
    "Difficulties: I was a little confused about how to implement this function and had to do some research on binary search in order to figure it out."
   ]
  },
  {
   "cell_type": "markdown",
   "metadata": {},
   "source": [
    "<h3>ebf function</h3>\n",
    "\n",
    "input: nNodes&rightarrow;integer greater then 0<br>\n",
    "depth&rightarrow;integer greater then 0<br>\n",
    "precision&rightarrow;float greater then 0.0\n",
    "\n",
    "output: float greater then 0.0\n",
    "\n",
    "description: uses a binary search to solve for B where (1-B^(depth-1))/(1-B)=nNodes which is the average number of children nodes per parent node"
   ]
  },
  {
   "cell_type": "code",
   "execution_count": 18,
   "metadata": {},
   "outputs": [
    {
     "name": "stdout",
     "output_type": "stream",
     "text": [
      "1.9921875\n"
     ]
    }
   ],
   "source": [
    "import numpy as np\n",
    "\n",
    "def ebf(nNodes, depth, precision=0.01):\n",
    "    if nNodes == 0: return 0.0;                             #Checks for 0 nodes and if true returns 0\n",
    "    if depth == 0: return nNodes                            #Checks for 0 depth and if true returns nNodes\n",
    "    first = 0                                               #Initializes lower bound in binary search\n",
    "    last = nNodes**(1/depth)                                #Initializes upper bound in binary search\n",
    "    midpoint = (first + last)/2                             #Averages lower and upper bound for midpoint guess\n",
    "\n",
    "    while not nNodes - precision < (1-(midpoint**(depth+1)))/(1-midpoint) < nNodes + precision: #Loops while midpoint is not within nNodes +/- precision\n",
    "        midpoint = (first + last)/2                         #Averages lower and upper bound for midpoint guess\n",
    "        if nNodes < (1-(midpoint**(depth+1)))/(1-midpoint): #Checks if midpoint is lower or higher then nNodes\n",
    "            last = midpoint                                 #Changes upperbound to midpoint\n",
    "        else:\n",
    "            first = midpoint                                #Changes lowerbound to midpoint\n",
    "    \n",
    "    return midpoint\n",
    "    \n",
    "\n",
    "print(ebf(3,1))"
   ]
  },
  {
   "cell_type": "markdown",
   "metadata": {},
   "source": [
    "<h1>Run Experiment Function</h1>\n",
    "\n",
    "Description: Prints a graph comparing the algorithms ids, A\\* with h1, A\\* with h2, and A\\* with h3 on three different goalStates. It compares nNOdes, depth, ebf, and time.\n",
    "\n",
    "Observation: All of the algorithms found the optimal path and therfore had the same depth. The number of nodes varied with each algorithm as did the ebf and time. The A\\* with h3 outperformed every other algorithm by a lot.\n",
    "\n",
    "Difficulties: I had trouble creating a complex graph using pandas. I was wondering if there was a better way to graph the results because my implementation manually goes through each value and inserts into the ordered dictionary that is the graph structure. I also had trouble using a dictionarys and had much better luck using the ordered dictionary class."
   ]
  },
  {
   "cell_type": "markdown",
   "metadata": {},
   "source": [
    "<h3>runExperiment function</h3>\n",
    "\n",
    "input: goalState1&rightarrow;list of length 9 containing 0-8 integers<br>\n",
    "goalState2&rightarrow;list of length 9 containing 0-8 integers<br>\n",
    "goalState3&rightarrow;list of length 9 containing 0-8 integers<br>\n",
    "\\*args&rightarrow;list of huristic function with length less then 4, heuristic functions return float\n",
    "\n",
    "output: prints graph\n",
    "\n",
    "description: compares algorithms IDS, A\\* with h1, A\\* with h2, and A\\* with h3. Comparing depth, nodes, ebf, and time of each algorithm with the same startState and goalState1, goalState2, and goalState3"
   ]
  },
  {
   "cell_type": "code",
   "execution_count": 26,
   "metadata": {},
   "outputs": [
    {
     "ename": "KeyboardInterrupt",
     "evalue": "",
     "output_type": "error",
     "traceback": [
      "\u001b[0;31m---------------------------------------------------------------------------\u001b[0m",
      "\u001b[0;31mKeyboardInterrupt\u001b[0m                         Traceback (most recent call last)",
      "\u001b[0;32m<ipython-input-26-013c66ea2c74>\u001b[0m in \u001b[0;36m<module>\u001b[0;34m()\u001b[0m\n\u001b[1;32m     88\u001b[0m \u001b[0mgoalState2\u001b[0m \u001b[0;34m=\u001b[0m \u001b[0;34m[\u001b[0m\u001b[0;36m1\u001b[0m\u001b[0;34m,\u001b[0m \u001b[0;36m2\u001b[0m\u001b[0;34m,\u001b[0m \u001b[0;36m3\u001b[0m\u001b[0;34m,\u001b[0m \u001b[0;36m4\u001b[0m\u001b[0;34m,\u001b[0m \u001b[0;36m5\u001b[0m\u001b[0;34m,\u001b[0m \u001b[0;36m8\u001b[0m\u001b[0;34m,\u001b[0m \u001b[0;36m6\u001b[0m\u001b[0;34m,\u001b[0m \u001b[0;36m0\u001b[0m\u001b[0;34m,\u001b[0m \u001b[0;36m7\u001b[0m\u001b[0;34m]\u001b[0m\u001b[0;34m\u001b[0m\u001b[0m\n\u001b[1;32m     89\u001b[0m \u001b[0mgoalState3\u001b[0m \u001b[0;34m=\u001b[0m \u001b[0;34m[\u001b[0m\u001b[0;36m1\u001b[0m\u001b[0;34m,\u001b[0m \u001b[0;36m0\u001b[0m\u001b[0;34m,\u001b[0m \u001b[0;36m3\u001b[0m\u001b[0;34m,\u001b[0m \u001b[0;36m4\u001b[0m\u001b[0;34m,\u001b[0m \u001b[0;36m5\u001b[0m\u001b[0;34m,\u001b[0m \u001b[0;36m8\u001b[0m\u001b[0;34m,\u001b[0m \u001b[0;36m2\u001b[0m\u001b[0;34m,\u001b[0m \u001b[0;36m7\u001b[0m\u001b[0;34m,\u001b[0m \u001b[0;36m6\u001b[0m\u001b[0;34m]\u001b[0m\u001b[0;34m\u001b[0m\u001b[0m\n\u001b[0;32m---> 90\u001b[0;31m \u001b[0mrunExperiment\u001b[0m\u001b[0;34m(\u001b[0m\u001b[0mgoalState1\u001b[0m\u001b[0;34m,\u001b[0m \u001b[0mgoalState2\u001b[0m\u001b[0;34m,\u001b[0m \u001b[0mgoalState3\u001b[0m\u001b[0;34m,\u001b[0m \u001b[0;34m[\u001b[0m\u001b[0mh1_8p\u001b[0m\u001b[0;34m,\u001b[0m \u001b[0mh2_8p\u001b[0m\u001b[0;34m,\u001b[0m \u001b[0mh3_8p\u001b[0m\u001b[0;34m]\u001b[0m\u001b[0;34m)\u001b[0m\u001b[0;34m\u001b[0m\u001b[0m\n\u001b[0m",
      "\u001b[0;32m<ipython-input-26-013c66ea2c74>\u001b[0m in \u001b[0;36mrunExperiment\u001b[0;34m(goalState1, goalState2, goalState3, *args)\u001b[0m\n\u001b[1;32m     13\u001b[0m         \u001b[0;32mif\u001b[0m\u001b[0;34m(\u001b[0m\u001b[0mlen\u001b[0m\u001b[0;34m(\u001b[0m\u001b[0margs\u001b[0m\u001b[0;34m[\u001b[0m\u001b[0;36m0\u001b[0m\u001b[0;34m]\u001b[0m\u001b[0;34m)\u001b[0m \u001b[0;34m>\u001b[0m \u001b[0;36m0\u001b[0m\u001b[0;34m)\u001b[0m\u001b[0;34m:\u001b[0m\u001b[0;34m\u001b[0m\u001b[0m\n\u001b[1;32m     14\u001b[0m             \u001b[0mstartTime\u001b[0m \u001b[0;34m=\u001b[0m \u001b[0mtime\u001b[0m\u001b[0;34m.\u001b[0m\u001b[0mclock\u001b[0m\u001b[0;34m(\u001b[0m\u001b[0;34m)\u001b[0m\u001b[0;34m\u001b[0m\u001b[0m\n\u001b[0;32m---> 15\u001b[0;31m             \u001b[0maStarPathH1\u001b[0m \u001b[0;34m=\u001b[0m \u001b[0maStarSearch\u001b[0m\u001b[0;34m(\u001b[0m\u001b[0mstartState\u001b[0m\u001b[0;34m,\u001b[0m \u001b[0mactionsF_8p\u001b[0m\u001b[0;34m,\u001b[0m \u001b[0mtakeActionF_8p\u001b[0m\u001b[0;34m,\u001b[0m \u001b[0;32mlambda\u001b[0m \u001b[0ms\u001b[0m\u001b[0;34m:\u001b[0m \u001b[0mgoalTestF_8p\u001b[0m\u001b[0;34m(\u001b[0m\u001b[0ms\u001b[0m\u001b[0;34m,\u001b[0m \u001b[0mgoalState\u001b[0m\u001b[0;34m)\u001b[0m\u001b[0;34m,\u001b[0m \u001b[0;32mlambda\u001b[0m \u001b[0ms\u001b[0m\u001b[0;34m:\u001b[0m \u001b[0margs\u001b[0m\u001b[0;34m[\u001b[0m\u001b[0;36m0\u001b[0m\u001b[0;34m]\u001b[0m\u001b[0;34m[\u001b[0m\u001b[0;36m0\u001b[0m\u001b[0;34m]\u001b[0m\u001b[0;34m(\u001b[0m\u001b[0ms\u001b[0m\u001b[0;34m,\u001b[0m \u001b[0mgoalState\u001b[0m\u001b[0;34m)\u001b[0m\u001b[0;34m,\u001b[0m \u001b[0;32mTrue\u001b[0m\u001b[0;34m)\u001b[0m\u001b[0;34m\u001b[0m\u001b[0m\n\u001b[0m\u001b[1;32m     16\u001b[0m             \u001b[0maStarPathH1Time\u001b[0m \u001b[0;34m=\u001b[0m \u001b[0mtime\u001b[0m\u001b[0;34m.\u001b[0m\u001b[0mclock\u001b[0m\u001b[0;34m(\u001b[0m\u001b[0;34m)\u001b[0m \u001b[0;34m-\u001b[0m \u001b[0mstartTime\u001b[0m\u001b[0;34m\u001b[0m\u001b[0m\n\u001b[1;32m     17\u001b[0m             \u001b[0maStarPathH1Count\u001b[0m \u001b[0;34m=\u001b[0m \u001b[0mcopy\u001b[0m\u001b[0;34m.\u001b[0m\u001b[0mcopy\u001b[0m\u001b[0;34m(\u001b[0m\u001b[0maStarPathH1\u001b[0m\u001b[0;34m[\u001b[0m\u001b[0;36m2\u001b[0m\u001b[0;34m]\u001b[0m\u001b[0;34m.\u001b[0m\u001b[0mgetCount\u001b[0m\u001b[0;34m(\u001b[0m\u001b[0;34m)\u001b[0m\u001b[0;34m)\u001b[0m\u001b[0;34m\u001b[0m\u001b[0m\n",
      "\u001b[0;32m<ipython-input-17-7263445ccde4>\u001b[0m in \u001b[0;36maStarSearch\u001b[0;34m(startState, actionsF, takeActionF, goalTestF, hF, countNodes)\u001b[0m\n\u001b[1;32m      6\u001b[0m         \u001b[0;32mreturn\u001b[0m \u001b[0maStarSearchHelper\u001b[0m\u001b[0;34m(\u001b[0m\u001b[0mstartNode\u001b[0m\u001b[0;34m,\u001b[0m \u001b[0mactionsF\u001b[0m\u001b[0;34m,\u001b[0m \u001b[0mtakeActionF\u001b[0m\u001b[0;34m,\u001b[0m \u001b[0mgoalTestF\u001b[0m\u001b[0;34m,\u001b[0m \u001b[0mhF\u001b[0m\u001b[0;34m,\u001b[0m \u001b[0;36m100\u001b[0m\u001b[0;34m,\u001b[0m \u001b[0maStarCount\u001b[0m\u001b[0;34m)\u001b[0m\u001b[0;34m[\u001b[0m\u001b[0;36m0\u001b[0m\u001b[0;34m:\u001b[0m\u001b[0;36m2\u001b[0m\u001b[0;34m]\u001b[0m \u001b[0;31m#Returns path, stepCost\u001b[0m\u001b[0;34m\u001b[0m\u001b[0m\n\u001b[1;32m      7\u001b[0m     \u001b[0;32melse\u001b[0m\u001b[0;34m:\u001b[0m\u001b[0;34m\u001b[0m\u001b[0m\n\u001b[0;32m----> 8\u001b[0;31m         \u001b[0;32mreturn\u001b[0m \u001b[0maStarSearchHelper\u001b[0m\u001b[0;34m(\u001b[0m\u001b[0mstartNode\u001b[0m\u001b[0;34m,\u001b[0m \u001b[0mactionsF\u001b[0m\u001b[0;34m,\u001b[0m \u001b[0mtakeActionF\u001b[0m\u001b[0;34m,\u001b[0m \u001b[0mgoalTestF\u001b[0m\u001b[0;34m,\u001b[0m \u001b[0mhF\u001b[0m\u001b[0;34m,\u001b[0m \u001b[0;36m100\u001b[0m\u001b[0;34m,\u001b[0m \u001b[0maStarCount\u001b[0m\u001b[0;34m)\u001b[0m \u001b[0;31m#Returns path, stepCost, nodeCounter\u001b[0m\u001b[0;34m\u001b[0m\u001b[0m\n\u001b[0m\u001b[1;32m      9\u001b[0m \u001b[0;34m\u001b[0m\u001b[0m\n\u001b[1;32m     10\u001b[0m \u001b[0mstartState\u001b[0m \u001b[0;34m=\u001b[0m \u001b[0;34m[\u001b[0m\u001b[0;36m0\u001b[0m\u001b[0;34m,\u001b[0m \u001b[0;36m1\u001b[0m\u001b[0;34m,\u001b[0m \u001b[0;36m2\u001b[0m\u001b[0;34m,\u001b[0m \u001b[0;36m3\u001b[0m\u001b[0;34m,\u001b[0m \u001b[0;36m4\u001b[0m\u001b[0;34m,\u001b[0m \u001b[0;36m5\u001b[0m\u001b[0;34m,\u001b[0m \u001b[0;36m6\u001b[0m\u001b[0;34m,\u001b[0m \u001b[0;36m7\u001b[0m\u001b[0;34m,\u001b[0m \u001b[0;36m8\u001b[0m\u001b[0;34m]\u001b[0m\u001b[0;34m\u001b[0m\u001b[0m\n",
      "\u001b[0;32m<ipython-input-16-ee7ce5f74630>\u001b[0m in \u001b[0;36maStarSearchHelper\u001b[0;34m(parentNode, actionsF, takeActionF, goalTestF, hF, fmax, aStarCount)\u001b[0m\n\u001b[1;32m     24\u001b[0m         \u001b[0malternativef\u001b[0m \u001b[0;34m=\u001b[0m \u001b[0mchildren\u001b[0m\u001b[0;34m[\u001b[0m\u001b[0;36m1\u001b[0m\u001b[0;34m]\u001b[0m\u001b[0;34m.\u001b[0m\u001b[0mf\u001b[0m \u001b[0;32mif\u001b[0m \u001b[0mlen\u001b[0m\u001b[0;34m(\u001b[0m\u001b[0mchildren\u001b[0m\u001b[0;34m)\u001b[0m \u001b[0;34m>\u001b[0m \u001b[0;36m1\u001b[0m \u001b[0;32melse\u001b[0m \u001b[0mfloat\u001b[0m\u001b[0;34m(\u001b[0m\u001b[0;34m'inf'\u001b[0m\u001b[0;34m)\u001b[0m\u001b[0;34m\u001b[0m\u001b[0m\n\u001b[1;32m     25\u001b[0m         \u001b[0;31m# expand best child, reassign its f value to be returned value\u001b[0m\u001b[0;34m\u001b[0m\u001b[0;34m\u001b[0m\u001b[0m\n\u001b[0;32m---> 26\u001b[0;31m         \u001b[0mresult\u001b[0m\u001b[0;34m,\u001b[0m\u001b[0mbestChild\u001b[0m\u001b[0;34m.\u001b[0m\u001b[0mf\u001b[0m\u001b[0;34m,\u001b[0m\u001b[0maStarCount\u001b[0m\u001b[0;34m=\u001b[0m \u001b[0maStarSearchHelper\u001b[0m\u001b[0;34m(\u001b[0m\u001b[0mbestChild\u001b[0m\u001b[0;34m,\u001b[0m \u001b[0mactionsF\u001b[0m\u001b[0;34m,\u001b[0m \u001b[0mtakeActionF\u001b[0m\u001b[0;34m,\u001b[0m \u001b[0mgoalTestF\u001b[0m\u001b[0;34m,\u001b[0m \u001b[0mhF\u001b[0m\u001b[0;34m,\u001b[0m \u001b[0mmin\u001b[0m\u001b[0;34m(\u001b[0m\u001b[0mfmax\u001b[0m\u001b[0;34m,\u001b[0m\u001b[0malternativef\u001b[0m\u001b[0;34m)\u001b[0m\u001b[0;34m,\u001b[0m \u001b[0maStarCount\u001b[0m\u001b[0;34m)\u001b[0m \u001b[0;31m#Recursively calls A* helper function\u001b[0m\u001b[0;34m\u001b[0m\u001b[0m\n\u001b[0m\u001b[1;32m     27\u001b[0m         \u001b[0;32mif\u001b[0m \u001b[0mresult\u001b[0m \u001b[0;32mis\u001b[0m \u001b[0;32mnot\u001b[0m \u001b[0;34m\"failure\"\u001b[0m\u001b[0;34m:\u001b[0m                                          \u001b[0;31m#Checks for error\u001b[0m\u001b[0;34m\u001b[0m\u001b[0m\n\u001b[1;32m     28\u001b[0m             \u001b[0mresult\u001b[0m\u001b[0;34m.\u001b[0m\u001b[0minsert\u001b[0m\u001b[0;34m(\u001b[0m\u001b[0;36m0\u001b[0m\u001b[0;34m,\u001b[0m\u001b[0mparentNode\u001b[0m\u001b[0;34m.\u001b[0m\u001b[0mstate\u001b[0m\u001b[0;34m)\u001b[0m                                \u001b[0;31m#Adds parentState to path\u001b[0m\u001b[0;34m\u001b[0m\u001b[0m\n",
      "\u001b[0;32m<ipython-input-16-ee7ce5f74630>\u001b[0m in \u001b[0;36maStarSearchHelper\u001b[0;34m(parentNode, actionsF, takeActionF, goalTestF, hF, fmax, aStarCount)\u001b[0m\n\u001b[1;32m     24\u001b[0m         \u001b[0malternativef\u001b[0m \u001b[0;34m=\u001b[0m \u001b[0mchildren\u001b[0m\u001b[0;34m[\u001b[0m\u001b[0;36m1\u001b[0m\u001b[0;34m]\u001b[0m\u001b[0;34m.\u001b[0m\u001b[0mf\u001b[0m \u001b[0;32mif\u001b[0m \u001b[0mlen\u001b[0m\u001b[0;34m(\u001b[0m\u001b[0mchildren\u001b[0m\u001b[0;34m)\u001b[0m \u001b[0;34m>\u001b[0m \u001b[0;36m1\u001b[0m \u001b[0;32melse\u001b[0m \u001b[0mfloat\u001b[0m\u001b[0;34m(\u001b[0m\u001b[0;34m'inf'\u001b[0m\u001b[0;34m)\u001b[0m\u001b[0;34m\u001b[0m\u001b[0m\n\u001b[1;32m     25\u001b[0m         \u001b[0;31m# expand best child, reassign its f value to be returned value\u001b[0m\u001b[0;34m\u001b[0m\u001b[0;34m\u001b[0m\u001b[0m\n\u001b[0;32m---> 26\u001b[0;31m         \u001b[0mresult\u001b[0m\u001b[0;34m,\u001b[0m\u001b[0mbestChild\u001b[0m\u001b[0;34m.\u001b[0m\u001b[0mf\u001b[0m\u001b[0;34m,\u001b[0m\u001b[0maStarCount\u001b[0m\u001b[0;34m=\u001b[0m \u001b[0maStarSearchHelper\u001b[0m\u001b[0;34m(\u001b[0m\u001b[0mbestChild\u001b[0m\u001b[0;34m,\u001b[0m \u001b[0mactionsF\u001b[0m\u001b[0;34m,\u001b[0m \u001b[0mtakeActionF\u001b[0m\u001b[0;34m,\u001b[0m \u001b[0mgoalTestF\u001b[0m\u001b[0;34m,\u001b[0m \u001b[0mhF\u001b[0m\u001b[0;34m,\u001b[0m \u001b[0mmin\u001b[0m\u001b[0;34m(\u001b[0m\u001b[0mfmax\u001b[0m\u001b[0;34m,\u001b[0m\u001b[0malternativef\u001b[0m\u001b[0;34m)\u001b[0m\u001b[0;34m,\u001b[0m \u001b[0maStarCount\u001b[0m\u001b[0;34m)\u001b[0m \u001b[0;31m#Recursively calls A* helper function\u001b[0m\u001b[0;34m\u001b[0m\u001b[0m\n\u001b[0m\u001b[1;32m     27\u001b[0m         \u001b[0;32mif\u001b[0m \u001b[0mresult\u001b[0m \u001b[0;32mis\u001b[0m \u001b[0;32mnot\u001b[0m \u001b[0;34m\"failure\"\u001b[0m\u001b[0;34m:\u001b[0m                                          \u001b[0;31m#Checks for error\u001b[0m\u001b[0;34m\u001b[0m\u001b[0m\n\u001b[1;32m     28\u001b[0m             \u001b[0mresult\u001b[0m\u001b[0;34m.\u001b[0m\u001b[0minsert\u001b[0m\u001b[0;34m(\u001b[0m\u001b[0;36m0\u001b[0m\u001b[0;34m,\u001b[0m\u001b[0mparentNode\u001b[0m\u001b[0;34m.\u001b[0m\u001b[0mstate\u001b[0m\u001b[0;34m)\u001b[0m                                \u001b[0;31m#Adds parentState to path\u001b[0m\u001b[0;34m\u001b[0m\u001b[0m\n",
      "\u001b[0;32m<ipython-input-16-ee7ce5f74630>\u001b[0m in \u001b[0;36maStarSearchHelper\u001b[0;34m(parentNode, actionsF, takeActionF, goalTestF, hF, fmax, aStarCount)\u001b[0m\n\u001b[1;32m     24\u001b[0m         \u001b[0malternativef\u001b[0m \u001b[0;34m=\u001b[0m \u001b[0mchildren\u001b[0m\u001b[0;34m[\u001b[0m\u001b[0;36m1\u001b[0m\u001b[0;34m]\u001b[0m\u001b[0;34m.\u001b[0m\u001b[0mf\u001b[0m \u001b[0;32mif\u001b[0m \u001b[0mlen\u001b[0m\u001b[0;34m(\u001b[0m\u001b[0mchildren\u001b[0m\u001b[0;34m)\u001b[0m \u001b[0;34m>\u001b[0m \u001b[0;36m1\u001b[0m \u001b[0;32melse\u001b[0m \u001b[0mfloat\u001b[0m\u001b[0;34m(\u001b[0m\u001b[0;34m'inf'\u001b[0m\u001b[0;34m)\u001b[0m\u001b[0;34m\u001b[0m\u001b[0m\n\u001b[1;32m     25\u001b[0m         \u001b[0;31m# expand best child, reassign its f value to be returned value\u001b[0m\u001b[0;34m\u001b[0m\u001b[0;34m\u001b[0m\u001b[0m\n\u001b[0;32m---> 26\u001b[0;31m         \u001b[0mresult\u001b[0m\u001b[0;34m,\u001b[0m\u001b[0mbestChild\u001b[0m\u001b[0;34m.\u001b[0m\u001b[0mf\u001b[0m\u001b[0;34m,\u001b[0m\u001b[0maStarCount\u001b[0m\u001b[0;34m=\u001b[0m \u001b[0maStarSearchHelper\u001b[0m\u001b[0;34m(\u001b[0m\u001b[0mbestChild\u001b[0m\u001b[0;34m,\u001b[0m \u001b[0mactionsF\u001b[0m\u001b[0;34m,\u001b[0m \u001b[0mtakeActionF\u001b[0m\u001b[0;34m,\u001b[0m \u001b[0mgoalTestF\u001b[0m\u001b[0;34m,\u001b[0m \u001b[0mhF\u001b[0m\u001b[0;34m,\u001b[0m \u001b[0mmin\u001b[0m\u001b[0;34m(\u001b[0m\u001b[0mfmax\u001b[0m\u001b[0;34m,\u001b[0m\u001b[0malternativef\u001b[0m\u001b[0;34m)\u001b[0m\u001b[0;34m,\u001b[0m \u001b[0maStarCount\u001b[0m\u001b[0;34m)\u001b[0m \u001b[0;31m#Recursively calls A* helper function\u001b[0m\u001b[0;34m\u001b[0m\u001b[0m\n\u001b[0m\u001b[1;32m     27\u001b[0m         \u001b[0;32mif\u001b[0m \u001b[0mresult\u001b[0m \u001b[0;32mis\u001b[0m \u001b[0;32mnot\u001b[0m \u001b[0;34m\"failure\"\u001b[0m\u001b[0;34m:\u001b[0m                                          \u001b[0;31m#Checks for error\u001b[0m\u001b[0;34m\u001b[0m\u001b[0m\n\u001b[1;32m     28\u001b[0m             \u001b[0mresult\u001b[0m\u001b[0;34m.\u001b[0m\u001b[0minsert\u001b[0m\u001b[0;34m(\u001b[0m\u001b[0;36m0\u001b[0m\u001b[0;34m,\u001b[0m\u001b[0mparentNode\u001b[0m\u001b[0;34m.\u001b[0m\u001b[0mstate\u001b[0m\u001b[0;34m)\u001b[0m                                \u001b[0;31m#Adds parentState to path\u001b[0m\u001b[0;34m\u001b[0m\u001b[0m\n",
      "\u001b[0;32m<ipython-input-16-ee7ce5f74630>\u001b[0m in \u001b[0;36maStarSearchHelper\u001b[0;34m(parentNode, actionsF, takeActionF, goalTestF, hF, fmax, aStarCount)\u001b[0m\n\u001b[1;32m     24\u001b[0m         \u001b[0malternativef\u001b[0m \u001b[0;34m=\u001b[0m \u001b[0mchildren\u001b[0m\u001b[0;34m[\u001b[0m\u001b[0;36m1\u001b[0m\u001b[0;34m]\u001b[0m\u001b[0;34m.\u001b[0m\u001b[0mf\u001b[0m \u001b[0;32mif\u001b[0m \u001b[0mlen\u001b[0m\u001b[0;34m(\u001b[0m\u001b[0mchildren\u001b[0m\u001b[0;34m)\u001b[0m \u001b[0;34m>\u001b[0m \u001b[0;36m1\u001b[0m \u001b[0;32melse\u001b[0m \u001b[0mfloat\u001b[0m\u001b[0;34m(\u001b[0m\u001b[0;34m'inf'\u001b[0m\u001b[0;34m)\u001b[0m\u001b[0;34m\u001b[0m\u001b[0m\n\u001b[1;32m     25\u001b[0m         \u001b[0;31m# expand best child, reassign its f value to be returned value\u001b[0m\u001b[0;34m\u001b[0m\u001b[0;34m\u001b[0m\u001b[0m\n\u001b[0;32m---> 26\u001b[0;31m         \u001b[0mresult\u001b[0m\u001b[0;34m,\u001b[0m\u001b[0mbestChild\u001b[0m\u001b[0;34m.\u001b[0m\u001b[0mf\u001b[0m\u001b[0;34m,\u001b[0m\u001b[0maStarCount\u001b[0m\u001b[0;34m=\u001b[0m \u001b[0maStarSearchHelper\u001b[0m\u001b[0;34m(\u001b[0m\u001b[0mbestChild\u001b[0m\u001b[0;34m,\u001b[0m \u001b[0mactionsF\u001b[0m\u001b[0;34m,\u001b[0m \u001b[0mtakeActionF\u001b[0m\u001b[0;34m,\u001b[0m \u001b[0mgoalTestF\u001b[0m\u001b[0;34m,\u001b[0m \u001b[0mhF\u001b[0m\u001b[0;34m,\u001b[0m \u001b[0mmin\u001b[0m\u001b[0;34m(\u001b[0m\u001b[0mfmax\u001b[0m\u001b[0;34m,\u001b[0m\u001b[0malternativef\u001b[0m\u001b[0;34m)\u001b[0m\u001b[0;34m,\u001b[0m \u001b[0maStarCount\u001b[0m\u001b[0;34m)\u001b[0m \u001b[0;31m#Recursively calls A* helper function\u001b[0m\u001b[0;34m\u001b[0m\u001b[0m\n\u001b[0m\u001b[1;32m     27\u001b[0m         \u001b[0;32mif\u001b[0m \u001b[0mresult\u001b[0m \u001b[0;32mis\u001b[0m \u001b[0;32mnot\u001b[0m \u001b[0;34m\"failure\"\u001b[0m\u001b[0;34m:\u001b[0m                                          \u001b[0;31m#Checks for error\u001b[0m\u001b[0;34m\u001b[0m\u001b[0m\n\u001b[1;32m     28\u001b[0m             \u001b[0mresult\u001b[0m\u001b[0;34m.\u001b[0m\u001b[0minsert\u001b[0m\u001b[0;34m(\u001b[0m\u001b[0;36m0\u001b[0m\u001b[0;34m,\u001b[0m\u001b[0mparentNode\u001b[0m\u001b[0;34m.\u001b[0m\u001b[0mstate\u001b[0m\u001b[0;34m)\u001b[0m                                \u001b[0;31m#Adds parentState to path\u001b[0m\u001b[0;34m\u001b[0m\u001b[0m\n",
      "\u001b[0;32m<ipython-input-16-ee7ce5f74630>\u001b[0m in \u001b[0;36maStarSearchHelper\u001b[0;34m(parentNode, actionsF, takeActionF, goalTestF, hF, fmax, aStarCount)\u001b[0m\n\u001b[1;32m     24\u001b[0m         \u001b[0malternativef\u001b[0m \u001b[0;34m=\u001b[0m \u001b[0mchildren\u001b[0m\u001b[0;34m[\u001b[0m\u001b[0;36m1\u001b[0m\u001b[0;34m]\u001b[0m\u001b[0;34m.\u001b[0m\u001b[0mf\u001b[0m \u001b[0;32mif\u001b[0m \u001b[0mlen\u001b[0m\u001b[0;34m(\u001b[0m\u001b[0mchildren\u001b[0m\u001b[0;34m)\u001b[0m \u001b[0;34m>\u001b[0m \u001b[0;36m1\u001b[0m \u001b[0;32melse\u001b[0m \u001b[0mfloat\u001b[0m\u001b[0;34m(\u001b[0m\u001b[0;34m'inf'\u001b[0m\u001b[0;34m)\u001b[0m\u001b[0;34m\u001b[0m\u001b[0m\n\u001b[1;32m     25\u001b[0m         \u001b[0;31m# expand best child, reassign its f value to be returned value\u001b[0m\u001b[0;34m\u001b[0m\u001b[0;34m\u001b[0m\u001b[0m\n\u001b[0;32m---> 26\u001b[0;31m         \u001b[0mresult\u001b[0m\u001b[0;34m,\u001b[0m\u001b[0mbestChild\u001b[0m\u001b[0;34m.\u001b[0m\u001b[0mf\u001b[0m\u001b[0;34m,\u001b[0m\u001b[0maStarCount\u001b[0m\u001b[0;34m=\u001b[0m \u001b[0maStarSearchHelper\u001b[0m\u001b[0;34m(\u001b[0m\u001b[0mbestChild\u001b[0m\u001b[0;34m,\u001b[0m \u001b[0mactionsF\u001b[0m\u001b[0;34m,\u001b[0m \u001b[0mtakeActionF\u001b[0m\u001b[0;34m,\u001b[0m \u001b[0mgoalTestF\u001b[0m\u001b[0;34m,\u001b[0m \u001b[0mhF\u001b[0m\u001b[0;34m,\u001b[0m \u001b[0mmin\u001b[0m\u001b[0;34m(\u001b[0m\u001b[0mfmax\u001b[0m\u001b[0;34m,\u001b[0m\u001b[0malternativef\u001b[0m\u001b[0;34m)\u001b[0m\u001b[0;34m,\u001b[0m \u001b[0maStarCount\u001b[0m\u001b[0;34m)\u001b[0m \u001b[0;31m#Recursively calls A* helper function\u001b[0m\u001b[0;34m\u001b[0m\u001b[0m\n\u001b[0m\u001b[1;32m     27\u001b[0m         \u001b[0;32mif\u001b[0m \u001b[0mresult\u001b[0m \u001b[0;32mis\u001b[0m \u001b[0;32mnot\u001b[0m \u001b[0;34m\"failure\"\u001b[0m\u001b[0;34m:\u001b[0m                                          \u001b[0;31m#Checks for error\u001b[0m\u001b[0;34m\u001b[0m\u001b[0m\n\u001b[1;32m     28\u001b[0m             \u001b[0mresult\u001b[0m\u001b[0;34m.\u001b[0m\u001b[0minsert\u001b[0m\u001b[0;34m(\u001b[0m\u001b[0;36m0\u001b[0m\u001b[0;34m,\u001b[0m\u001b[0mparentNode\u001b[0m\u001b[0;34m.\u001b[0m\u001b[0mstate\u001b[0m\u001b[0;34m)\u001b[0m                                \u001b[0;31m#Adds parentState to path\u001b[0m\u001b[0;34m\u001b[0m\u001b[0m\n",
      "\u001b[0;32m<ipython-input-16-ee7ce5f74630>\u001b[0m in \u001b[0;36maStarSearchHelper\u001b[0;34m(parentNode, actionsF, takeActionF, goalTestF, hF, fmax, aStarCount)\u001b[0m\n\u001b[1;32m     24\u001b[0m         \u001b[0malternativef\u001b[0m \u001b[0;34m=\u001b[0m \u001b[0mchildren\u001b[0m\u001b[0;34m[\u001b[0m\u001b[0;36m1\u001b[0m\u001b[0;34m]\u001b[0m\u001b[0;34m.\u001b[0m\u001b[0mf\u001b[0m \u001b[0;32mif\u001b[0m \u001b[0mlen\u001b[0m\u001b[0;34m(\u001b[0m\u001b[0mchildren\u001b[0m\u001b[0;34m)\u001b[0m \u001b[0;34m>\u001b[0m \u001b[0;36m1\u001b[0m \u001b[0;32melse\u001b[0m \u001b[0mfloat\u001b[0m\u001b[0;34m(\u001b[0m\u001b[0;34m'inf'\u001b[0m\u001b[0;34m)\u001b[0m\u001b[0;34m\u001b[0m\u001b[0m\n\u001b[1;32m     25\u001b[0m         \u001b[0;31m# expand best child, reassign its f value to be returned value\u001b[0m\u001b[0;34m\u001b[0m\u001b[0;34m\u001b[0m\u001b[0m\n\u001b[0;32m---> 26\u001b[0;31m         \u001b[0mresult\u001b[0m\u001b[0;34m,\u001b[0m\u001b[0mbestChild\u001b[0m\u001b[0;34m.\u001b[0m\u001b[0mf\u001b[0m\u001b[0;34m,\u001b[0m\u001b[0maStarCount\u001b[0m\u001b[0;34m=\u001b[0m \u001b[0maStarSearchHelper\u001b[0m\u001b[0;34m(\u001b[0m\u001b[0mbestChild\u001b[0m\u001b[0;34m,\u001b[0m \u001b[0mactionsF\u001b[0m\u001b[0;34m,\u001b[0m \u001b[0mtakeActionF\u001b[0m\u001b[0;34m,\u001b[0m \u001b[0mgoalTestF\u001b[0m\u001b[0;34m,\u001b[0m \u001b[0mhF\u001b[0m\u001b[0;34m,\u001b[0m \u001b[0mmin\u001b[0m\u001b[0;34m(\u001b[0m\u001b[0mfmax\u001b[0m\u001b[0;34m,\u001b[0m\u001b[0malternativef\u001b[0m\u001b[0;34m)\u001b[0m\u001b[0;34m,\u001b[0m \u001b[0maStarCount\u001b[0m\u001b[0;34m)\u001b[0m \u001b[0;31m#Recursively calls A* helper function\u001b[0m\u001b[0;34m\u001b[0m\u001b[0m\n\u001b[0m\u001b[1;32m     27\u001b[0m         \u001b[0;32mif\u001b[0m \u001b[0mresult\u001b[0m \u001b[0;32mis\u001b[0m \u001b[0;32mnot\u001b[0m \u001b[0;34m\"failure\"\u001b[0m\u001b[0;34m:\u001b[0m                                          \u001b[0;31m#Checks for error\u001b[0m\u001b[0;34m\u001b[0m\u001b[0m\n\u001b[1;32m     28\u001b[0m             \u001b[0mresult\u001b[0m\u001b[0;34m.\u001b[0m\u001b[0minsert\u001b[0m\u001b[0;34m(\u001b[0m\u001b[0;36m0\u001b[0m\u001b[0;34m,\u001b[0m\u001b[0mparentNode\u001b[0m\u001b[0;34m.\u001b[0m\u001b[0mstate\u001b[0m\u001b[0;34m)\u001b[0m                                \u001b[0;31m#Adds parentState to path\u001b[0m\u001b[0;34m\u001b[0m\u001b[0m\n",
      "\u001b[0;32m<ipython-input-16-ee7ce5f74630>\u001b[0m in \u001b[0;36maStarSearchHelper\u001b[0;34m(parentNode, actionsF, takeActionF, goalTestF, hF, fmax, aStarCount)\u001b[0m\n\u001b[1;32m     24\u001b[0m         \u001b[0malternativef\u001b[0m \u001b[0;34m=\u001b[0m \u001b[0mchildren\u001b[0m\u001b[0;34m[\u001b[0m\u001b[0;36m1\u001b[0m\u001b[0;34m]\u001b[0m\u001b[0;34m.\u001b[0m\u001b[0mf\u001b[0m \u001b[0;32mif\u001b[0m \u001b[0mlen\u001b[0m\u001b[0;34m(\u001b[0m\u001b[0mchildren\u001b[0m\u001b[0;34m)\u001b[0m \u001b[0;34m>\u001b[0m \u001b[0;36m1\u001b[0m \u001b[0;32melse\u001b[0m \u001b[0mfloat\u001b[0m\u001b[0;34m(\u001b[0m\u001b[0;34m'inf'\u001b[0m\u001b[0;34m)\u001b[0m\u001b[0;34m\u001b[0m\u001b[0m\n\u001b[1;32m     25\u001b[0m         \u001b[0;31m# expand best child, reassign its f value to be returned value\u001b[0m\u001b[0;34m\u001b[0m\u001b[0;34m\u001b[0m\u001b[0m\n\u001b[0;32m---> 26\u001b[0;31m         \u001b[0mresult\u001b[0m\u001b[0;34m,\u001b[0m\u001b[0mbestChild\u001b[0m\u001b[0;34m.\u001b[0m\u001b[0mf\u001b[0m\u001b[0;34m,\u001b[0m\u001b[0maStarCount\u001b[0m\u001b[0;34m=\u001b[0m \u001b[0maStarSearchHelper\u001b[0m\u001b[0;34m(\u001b[0m\u001b[0mbestChild\u001b[0m\u001b[0;34m,\u001b[0m \u001b[0mactionsF\u001b[0m\u001b[0;34m,\u001b[0m \u001b[0mtakeActionF\u001b[0m\u001b[0;34m,\u001b[0m \u001b[0mgoalTestF\u001b[0m\u001b[0;34m,\u001b[0m \u001b[0mhF\u001b[0m\u001b[0;34m,\u001b[0m \u001b[0mmin\u001b[0m\u001b[0;34m(\u001b[0m\u001b[0mfmax\u001b[0m\u001b[0;34m,\u001b[0m\u001b[0malternativef\u001b[0m\u001b[0;34m)\u001b[0m\u001b[0;34m,\u001b[0m \u001b[0maStarCount\u001b[0m\u001b[0;34m)\u001b[0m \u001b[0;31m#Recursively calls A* helper function\u001b[0m\u001b[0;34m\u001b[0m\u001b[0m\n\u001b[0m\u001b[1;32m     27\u001b[0m         \u001b[0;32mif\u001b[0m \u001b[0mresult\u001b[0m \u001b[0;32mis\u001b[0m \u001b[0;32mnot\u001b[0m \u001b[0;34m\"failure\"\u001b[0m\u001b[0;34m:\u001b[0m                                          \u001b[0;31m#Checks for error\u001b[0m\u001b[0;34m\u001b[0m\u001b[0m\n\u001b[1;32m     28\u001b[0m             \u001b[0mresult\u001b[0m\u001b[0;34m.\u001b[0m\u001b[0minsert\u001b[0m\u001b[0;34m(\u001b[0m\u001b[0;36m0\u001b[0m\u001b[0;34m,\u001b[0m\u001b[0mparentNode\u001b[0m\u001b[0;34m.\u001b[0m\u001b[0mstate\u001b[0m\u001b[0;34m)\u001b[0m                                \u001b[0;31m#Adds parentState to path\u001b[0m\u001b[0;34m\u001b[0m\u001b[0m\n",
      "\u001b[0;32m<ipython-input-16-ee7ce5f74630>\u001b[0m in \u001b[0;36maStarSearchHelper\u001b[0;34m(parentNode, actionsF, takeActionF, goalTestF, hF, fmax, aStarCount)\u001b[0m\n\u001b[1;32m     24\u001b[0m         \u001b[0malternativef\u001b[0m \u001b[0;34m=\u001b[0m \u001b[0mchildren\u001b[0m\u001b[0;34m[\u001b[0m\u001b[0;36m1\u001b[0m\u001b[0;34m]\u001b[0m\u001b[0;34m.\u001b[0m\u001b[0mf\u001b[0m \u001b[0;32mif\u001b[0m \u001b[0mlen\u001b[0m\u001b[0;34m(\u001b[0m\u001b[0mchildren\u001b[0m\u001b[0;34m)\u001b[0m \u001b[0;34m>\u001b[0m \u001b[0;36m1\u001b[0m \u001b[0;32melse\u001b[0m \u001b[0mfloat\u001b[0m\u001b[0;34m(\u001b[0m\u001b[0;34m'inf'\u001b[0m\u001b[0;34m)\u001b[0m\u001b[0;34m\u001b[0m\u001b[0m\n\u001b[1;32m     25\u001b[0m         \u001b[0;31m# expand best child, reassign its f value to be returned value\u001b[0m\u001b[0;34m\u001b[0m\u001b[0;34m\u001b[0m\u001b[0m\n\u001b[0;32m---> 26\u001b[0;31m         \u001b[0mresult\u001b[0m\u001b[0;34m,\u001b[0m\u001b[0mbestChild\u001b[0m\u001b[0;34m.\u001b[0m\u001b[0mf\u001b[0m\u001b[0;34m,\u001b[0m\u001b[0maStarCount\u001b[0m\u001b[0;34m=\u001b[0m \u001b[0maStarSearchHelper\u001b[0m\u001b[0;34m(\u001b[0m\u001b[0mbestChild\u001b[0m\u001b[0;34m,\u001b[0m \u001b[0mactionsF\u001b[0m\u001b[0;34m,\u001b[0m \u001b[0mtakeActionF\u001b[0m\u001b[0;34m,\u001b[0m \u001b[0mgoalTestF\u001b[0m\u001b[0;34m,\u001b[0m \u001b[0mhF\u001b[0m\u001b[0;34m,\u001b[0m \u001b[0mmin\u001b[0m\u001b[0;34m(\u001b[0m\u001b[0mfmax\u001b[0m\u001b[0;34m,\u001b[0m\u001b[0malternativef\u001b[0m\u001b[0;34m)\u001b[0m\u001b[0;34m,\u001b[0m \u001b[0maStarCount\u001b[0m\u001b[0;34m)\u001b[0m \u001b[0;31m#Recursively calls A* helper function\u001b[0m\u001b[0;34m\u001b[0m\u001b[0m\n\u001b[0m\u001b[1;32m     27\u001b[0m         \u001b[0;32mif\u001b[0m \u001b[0mresult\u001b[0m \u001b[0;32mis\u001b[0m \u001b[0;32mnot\u001b[0m \u001b[0;34m\"failure\"\u001b[0m\u001b[0;34m:\u001b[0m                                          \u001b[0;31m#Checks for error\u001b[0m\u001b[0;34m\u001b[0m\u001b[0m\n\u001b[1;32m     28\u001b[0m             \u001b[0mresult\u001b[0m\u001b[0;34m.\u001b[0m\u001b[0minsert\u001b[0m\u001b[0;34m(\u001b[0m\u001b[0;36m0\u001b[0m\u001b[0;34m,\u001b[0m\u001b[0mparentNode\u001b[0m\u001b[0;34m.\u001b[0m\u001b[0mstate\u001b[0m\u001b[0;34m)\u001b[0m                                \u001b[0;31m#Adds parentState to path\u001b[0m\u001b[0;34m\u001b[0m\u001b[0m\n",
      "\u001b[0;32m<ipython-input-16-ee7ce5f74630>\u001b[0m in \u001b[0;36maStarSearchHelper\u001b[0;34m(parentNode, actionsF, takeActionF, goalTestF, hF, fmax, aStarCount)\u001b[0m\n\u001b[1;32m     24\u001b[0m         \u001b[0malternativef\u001b[0m \u001b[0;34m=\u001b[0m \u001b[0mchildren\u001b[0m\u001b[0;34m[\u001b[0m\u001b[0;36m1\u001b[0m\u001b[0;34m]\u001b[0m\u001b[0;34m.\u001b[0m\u001b[0mf\u001b[0m \u001b[0;32mif\u001b[0m \u001b[0mlen\u001b[0m\u001b[0;34m(\u001b[0m\u001b[0mchildren\u001b[0m\u001b[0;34m)\u001b[0m \u001b[0;34m>\u001b[0m \u001b[0;36m1\u001b[0m \u001b[0;32melse\u001b[0m \u001b[0mfloat\u001b[0m\u001b[0;34m(\u001b[0m\u001b[0;34m'inf'\u001b[0m\u001b[0;34m)\u001b[0m\u001b[0;34m\u001b[0m\u001b[0m\n\u001b[1;32m     25\u001b[0m         \u001b[0;31m# expand best child, reassign its f value to be returned value\u001b[0m\u001b[0;34m\u001b[0m\u001b[0;34m\u001b[0m\u001b[0m\n\u001b[0;32m---> 26\u001b[0;31m         \u001b[0mresult\u001b[0m\u001b[0;34m,\u001b[0m\u001b[0mbestChild\u001b[0m\u001b[0;34m.\u001b[0m\u001b[0mf\u001b[0m\u001b[0;34m,\u001b[0m\u001b[0maStarCount\u001b[0m\u001b[0;34m=\u001b[0m \u001b[0maStarSearchHelper\u001b[0m\u001b[0;34m(\u001b[0m\u001b[0mbestChild\u001b[0m\u001b[0;34m,\u001b[0m \u001b[0mactionsF\u001b[0m\u001b[0;34m,\u001b[0m \u001b[0mtakeActionF\u001b[0m\u001b[0;34m,\u001b[0m \u001b[0mgoalTestF\u001b[0m\u001b[0;34m,\u001b[0m \u001b[0mhF\u001b[0m\u001b[0;34m,\u001b[0m \u001b[0mmin\u001b[0m\u001b[0;34m(\u001b[0m\u001b[0mfmax\u001b[0m\u001b[0;34m,\u001b[0m\u001b[0malternativef\u001b[0m\u001b[0;34m)\u001b[0m\u001b[0;34m,\u001b[0m \u001b[0maStarCount\u001b[0m\u001b[0;34m)\u001b[0m \u001b[0;31m#Recursively calls A* helper function\u001b[0m\u001b[0;34m\u001b[0m\u001b[0m\n\u001b[0m\u001b[1;32m     27\u001b[0m         \u001b[0;32mif\u001b[0m \u001b[0mresult\u001b[0m \u001b[0;32mis\u001b[0m \u001b[0;32mnot\u001b[0m \u001b[0;34m\"failure\"\u001b[0m\u001b[0;34m:\u001b[0m                                          \u001b[0;31m#Checks for error\u001b[0m\u001b[0;34m\u001b[0m\u001b[0m\n\u001b[1;32m     28\u001b[0m             \u001b[0mresult\u001b[0m\u001b[0;34m.\u001b[0m\u001b[0minsert\u001b[0m\u001b[0;34m(\u001b[0m\u001b[0;36m0\u001b[0m\u001b[0;34m,\u001b[0m\u001b[0mparentNode\u001b[0m\u001b[0;34m.\u001b[0m\u001b[0mstate\u001b[0m\u001b[0;34m)\u001b[0m                                \u001b[0;31m#Adds parentState to path\u001b[0m\u001b[0;34m\u001b[0m\u001b[0m\n",
      "\u001b[0;32m<ipython-input-16-ee7ce5f74630>\u001b[0m in \u001b[0;36maStarSearchHelper\u001b[0;34m(parentNode, actionsF, takeActionF, goalTestF, hF, fmax, aStarCount)\u001b[0m\n\u001b[1;32m     24\u001b[0m         \u001b[0malternativef\u001b[0m \u001b[0;34m=\u001b[0m \u001b[0mchildren\u001b[0m\u001b[0;34m[\u001b[0m\u001b[0;36m1\u001b[0m\u001b[0;34m]\u001b[0m\u001b[0;34m.\u001b[0m\u001b[0mf\u001b[0m \u001b[0;32mif\u001b[0m \u001b[0mlen\u001b[0m\u001b[0;34m(\u001b[0m\u001b[0mchildren\u001b[0m\u001b[0;34m)\u001b[0m \u001b[0;34m>\u001b[0m \u001b[0;36m1\u001b[0m \u001b[0;32melse\u001b[0m \u001b[0mfloat\u001b[0m\u001b[0;34m(\u001b[0m\u001b[0;34m'inf'\u001b[0m\u001b[0;34m)\u001b[0m\u001b[0;34m\u001b[0m\u001b[0m\n\u001b[1;32m     25\u001b[0m         \u001b[0;31m# expand best child, reassign its f value to be returned value\u001b[0m\u001b[0;34m\u001b[0m\u001b[0;34m\u001b[0m\u001b[0m\n\u001b[0;32m---> 26\u001b[0;31m         \u001b[0mresult\u001b[0m\u001b[0;34m,\u001b[0m\u001b[0mbestChild\u001b[0m\u001b[0;34m.\u001b[0m\u001b[0mf\u001b[0m\u001b[0;34m,\u001b[0m\u001b[0maStarCount\u001b[0m\u001b[0;34m=\u001b[0m \u001b[0maStarSearchHelper\u001b[0m\u001b[0;34m(\u001b[0m\u001b[0mbestChild\u001b[0m\u001b[0;34m,\u001b[0m \u001b[0mactionsF\u001b[0m\u001b[0;34m,\u001b[0m \u001b[0mtakeActionF\u001b[0m\u001b[0;34m,\u001b[0m \u001b[0mgoalTestF\u001b[0m\u001b[0;34m,\u001b[0m \u001b[0mhF\u001b[0m\u001b[0;34m,\u001b[0m \u001b[0mmin\u001b[0m\u001b[0;34m(\u001b[0m\u001b[0mfmax\u001b[0m\u001b[0;34m,\u001b[0m\u001b[0malternativef\u001b[0m\u001b[0;34m)\u001b[0m\u001b[0;34m,\u001b[0m \u001b[0maStarCount\u001b[0m\u001b[0;34m)\u001b[0m \u001b[0;31m#Recursively calls A* helper function\u001b[0m\u001b[0;34m\u001b[0m\u001b[0m\n\u001b[0m\u001b[1;32m     27\u001b[0m         \u001b[0;32mif\u001b[0m \u001b[0mresult\u001b[0m \u001b[0;32mis\u001b[0m \u001b[0;32mnot\u001b[0m \u001b[0;34m\"failure\"\u001b[0m\u001b[0;34m:\u001b[0m                                          \u001b[0;31m#Checks for error\u001b[0m\u001b[0;34m\u001b[0m\u001b[0m\n\u001b[1;32m     28\u001b[0m             \u001b[0mresult\u001b[0m\u001b[0;34m.\u001b[0m\u001b[0minsert\u001b[0m\u001b[0;34m(\u001b[0m\u001b[0;36m0\u001b[0m\u001b[0;34m,\u001b[0m\u001b[0mparentNode\u001b[0m\u001b[0;34m.\u001b[0m\u001b[0mstate\u001b[0m\u001b[0;34m)\u001b[0m                                \u001b[0;31m#Adds parentState to path\u001b[0m\u001b[0;34m\u001b[0m\u001b[0m\n",
      "\u001b[0;32m<ipython-input-16-ee7ce5f74630>\u001b[0m in \u001b[0;36maStarSearchHelper\u001b[0;34m(parentNode, actionsF, takeActionF, goalTestF, hF, fmax, aStarCount)\u001b[0m\n\u001b[1;32m     24\u001b[0m         \u001b[0malternativef\u001b[0m \u001b[0;34m=\u001b[0m \u001b[0mchildren\u001b[0m\u001b[0;34m[\u001b[0m\u001b[0;36m1\u001b[0m\u001b[0;34m]\u001b[0m\u001b[0;34m.\u001b[0m\u001b[0mf\u001b[0m \u001b[0;32mif\u001b[0m \u001b[0mlen\u001b[0m\u001b[0;34m(\u001b[0m\u001b[0mchildren\u001b[0m\u001b[0;34m)\u001b[0m \u001b[0;34m>\u001b[0m \u001b[0;36m1\u001b[0m \u001b[0;32melse\u001b[0m \u001b[0mfloat\u001b[0m\u001b[0;34m(\u001b[0m\u001b[0;34m'inf'\u001b[0m\u001b[0;34m)\u001b[0m\u001b[0;34m\u001b[0m\u001b[0m\n\u001b[1;32m     25\u001b[0m         \u001b[0;31m# expand best child, reassign its f value to be returned value\u001b[0m\u001b[0;34m\u001b[0m\u001b[0;34m\u001b[0m\u001b[0m\n\u001b[0;32m---> 26\u001b[0;31m         \u001b[0mresult\u001b[0m\u001b[0;34m,\u001b[0m\u001b[0mbestChild\u001b[0m\u001b[0;34m.\u001b[0m\u001b[0mf\u001b[0m\u001b[0;34m,\u001b[0m\u001b[0maStarCount\u001b[0m\u001b[0;34m=\u001b[0m \u001b[0maStarSearchHelper\u001b[0m\u001b[0;34m(\u001b[0m\u001b[0mbestChild\u001b[0m\u001b[0;34m,\u001b[0m \u001b[0mactionsF\u001b[0m\u001b[0;34m,\u001b[0m \u001b[0mtakeActionF\u001b[0m\u001b[0;34m,\u001b[0m \u001b[0mgoalTestF\u001b[0m\u001b[0;34m,\u001b[0m \u001b[0mhF\u001b[0m\u001b[0;34m,\u001b[0m \u001b[0mmin\u001b[0m\u001b[0;34m(\u001b[0m\u001b[0mfmax\u001b[0m\u001b[0;34m,\u001b[0m\u001b[0malternativef\u001b[0m\u001b[0;34m)\u001b[0m\u001b[0;34m,\u001b[0m \u001b[0maStarCount\u001b[0m\u001b[0;34m)\u001b[0m \u001b[0;31m#Recursively calls A* helper function\u001b[0m\u001b[0;34m\u001b[0m\u001b[0m\n\u001b[0m\u001b[1;32m     27\u001b[0m         \u001b[0;32mif\u001b[0m \u001b[0mresult\u001b[0m \u001b[0;32mis\u001b[0m \u001b[0;32mnot\u001b[0m \u001b[0;34m\"failure\"\u001b[0m\u001b[0;34m:\u001b[0m                                          \u001b[0;31m#Checks for error\u001b[0m\u001b[0;34m\u001b[0m\u001b[0m\n\u001b[1;32m     28\u001b[0m             \u001b[0mresult\u001b[0m\u001b[0;34m.\u001b[0m\u001b[0minsert\u001b[0m\u001b[0;34m(\u001b[0m\u001b[0;36m0\u001b[0m\u001b[0;34m,\u001b[0m\u001b[0mparentNode\u001b[0m\u001b[0;34m.\u001b[0m\u001b[0mstate\u001b[0m\u001b[0;34m)\u001b[0m                                \u001b[0;31m#Adds parentState to path\u001b[0m\u001b[0;34m\u001b[0m\u001b[0m\n",
      "\u001b[0;32m<ipython-input-16-ee7ce5f74630>\u001b[0m in \u001b[0;36maStarSearchHelper\u001b[0;34m(parentNode, actionsF, takeActionF, goalTestF, hF, fmax, aStarCount)\u001b[0m\n\u001b[1;32m      8\u001b[0m     \u001b[0mchildren\u001b[0m \u001b[0;34m=\u001b[0m \u001b[0;34m[\u001b[0m\u001b[0;34m]\u001b[0m                                                            \u001b[0;31m#Initializes list of children nodes\u001b[0m\u001b[0;34m\u001b[0m\u001b[0m\n\u001b[1;32m      9\u001b[0m     \u001b[0;32mfor\u001b[0m \u001b[0maction\u001b[0m \u001b[0;32min\u001b[0m \u001b[0mactions\u001b[0m\u001b[0;34m:\u001b[0m                                                   \u001b[0;31m#Loops through list of actions\u001b[0m\u001b[0;34m\u001b[0m\u001b[0m\n\u001b[0;32m---> 10\u001b[0;31m         \u001b[0;34m(\u001b[0m\u001b[0mchildState\u001b[0m\u001b[0;34m,\u001b[0m\u001b[0mstepCost\u001b[0m\u001b[0;34m)\u001b[0m \u001b[0;34m=\u001b[0m \u001b[0mtakeActionF\u001b[0m\u001b[0;34m(\u001b[0m\u001b[0mparentNode\u001b[0m\u001b[0;34m.\u001b[0m\u001b[0mstate\u001b[0m\u001b[0;34m,\u001b[0m \u001b[0maction\u001b[0m\u001b[0;34m)\u001b[0m        \u001b[0;31m#Gets childState and stepCost from action\u001b[0m\u001b[0;34m\u001b[0m\u001b[0m\n\u001b[0m\u001b[1;32m     11\u001b[0m         \u001b[0mh\u001b[0m \u001b[0;34m=\u001b[0m \u001b[0mhF\u001b[0m\u001b[0;34m(\u001b[0m\u001b[0mchildState\u001b[0m\u001b[0;34m)\u001b[0m                                                   \u001b[0;31m#Gets heuristic cost of childState\u001b[0m\u001b[0;34m\u001b[0m\u001b[0m\n\u001b[1;32m     12\u001b[0m         \u001b[0mg\u001b[0m \u001b[0;34m=\u001b[0m \u001b[0mparentNode\u001b[0m\u001b[0;34m.\u001b[0m\u001b[0mg\u001b[0m \u001b[0;34m+\u001b[0m \u001b[0mstepCost\u001b[0m                                          \u001b[0;31m#Gets parentNode stepCost + childNode stepCost\u001b[0m\u001b[0;34m\u001b[0m\u001b[0m\n",
      "\u001b[0;32m<ipython-input-9-b22a521d20a6>\u001b[0m in \u001b[0;36mtakeActionF_8p\u001b[0;34m(state, step)\u001b[0m\n\u001b[1;32m      1\u001b[0m \u001b[0;32mdef\u001b[0m \u001b[0mtakeActionF_8p\u001b[0m\u001b[0;34m(\u001b[0m\u001b[0mstate\u001b[0m\u001b[0;34m,\u001b[0m \u001b[0mstep\u001b[0m\u001b[0;34m)\u001b[0m\u001b[0;34m:\u001b[0m\u001b[0;34m\u001b[0m\u001b[0m\n\u001b[1;32m      2\u001b[0m     \u001b[0;34m(\u001b[0m\u001b[0mmove\u001b[0m\u001b[0;34m,\u001b[0m \u001b[0mstepCost\u001b[0m\u001b[0;34m)\u001b[0m \u001b[0;34m=\u001b[0m \u001b[0mstep\u001b[0m\u001b[0;34m\u001b[0m\u001b[0m\n\u001b[0;32m----> 3\u001b[0;31m     \u001b[0msucc\u001b[0m \u001b[0;34m=\u001b[0m \u001b[0mcopy\u001b[0m\u001b[0;34m.\u001b[0m\u001b[0mcopy\u001b[0m\u001b[0;34m(\u001b[0m\u001b[0mstate\u001b[0m\u001b[0;34m)\u001b[0m                                    \u001b[0;31m#Copies original state\u001b[0m\u001b[0;34m\u001b[0m\u001b[0m\n\u001b[0m\u001b[1;32m      4\u001b[0m     \u001b[0mind\u001b[0m \u001b[0;34m=\u001b[0m \u001b[0msucc\u001b[0m\u001b[0;34m.\u001b[0m\u001b[0mindex\u001b[0m\u001b[0;34m(\u001b[0m\u001b[0;36m0\u001b[0m\u001b[0;34m)\u001b[0m                                        \u001b[0;31m#Gets index of blank tile\u001b[0m\u001b[0;34m\u001b[0m\u001b[0m\n\u001b[1;32m      5\u001b[0m     \u001b[0;32mif\u001b[0m\u001b[0;34m(\u001b[0m\u001b[0mmove\u001b[0m \u001b[0;34m==\u001b[0m \u001b[0;34m\"left\"\u001b[0m \u001b[0;32mand\u001b[0m \u001b[0;34m(\u001b[0m\u001b[0;34m\"left\"\u001b[0m\u001b[0;34m,\u001b[0m\u001b[0;36m1\u001b[0m\u001b[0;34m)\u001b[0m \u001b[0;32min\u001b[0m \u001b[0mactionsF_8p\u001b[0m\u001b[0;34m(\u001b[0m\u001b[0mstate\u001b[0m\u001b[0;34m)\u001b[0m\u001b[0;34m)\u001b[0m\u001b[0;34m:\u001b[0m        \u001b[0;31m#If move is left\u001b[0m\u001b[0;34m\u001b[0m\u001b[0m\n",
      "\u001b[0;32m/usr/local/anaconda3-4.4.0/lib/python3.6/copy.py\u001b[0m in \u001b[0;36mcopy\u001b[0;34m(x)\u001b[0m\n\u001b[1;32m     70\u001b[0m     \"\"\"\n\u001b[1;32m     71\u001b[0m \u001b[0;34m\u001b[0m\u001b[0m\n\u001b[0;32m---> 72\u001b[0;31m     \u001b[0mcls\u001b[0m \u001b[0;34m=\u001b[0m \u001b[0mtype\u001b[0m\u001b[0;34m(\u001b[0m\u001b[0mx\u001b[0m\u001b[0;34m)\u001b[0m\u001b[0;34m\u001b[0m\u001b[0m\n\u001b[0m\u001b[1;32m     73\u001b[0m \u001b[0;34m\u001b[0m\u001b[0m\n\u001b[1;32m     74\u001b[0m     \u001b[0mcopier\u001b[0m \u001b[0;34m=\u001b[0m \u001b[0m_copy_dispatch\u001b[0m\u001b[0;34m.\u001b[0m\u001b[0mget\u001b[0m\u001b[0;34m(\u001b[0m\u001b[0mcls\u001b[0m\u001b[0;34m)\u001b[0m\u001b[0;34m\u001b[0m\u001b[0m\n",
      "\u001b[0;31mKeyboardInterrupt\u001b[0m: "
     ]
    }
   ],
   "source": [
    "import time\n",
    "from collections import OrderedDict\n",
    "\n",
    "def runExperiment(goalState1, goalState2, goalState3, *args):\n",
    "    startState = [1, 2, 3, 4, 0, 5, 6, 7, 8]\n",
    "    finalStr = {}\n",
    "    for goalState in (goalState1, goalState2, goalState3):\n",
    "        \n",
    "        startTime = time.clock()\n",
    "        idsPath = iterativeDeepeningSearch(startState, goalState, actionsF_8p, takeActionF_8p, 12, True)\n",
    "        idsTime = time.clock() - startTime\n",
    "        idsNodeCount = copy.copy(idsPath[1].getCount())\n",
    "        if(len(args[0]) > 0):\n",
    "            startTime = time.clock()\n",
    "            aStarPathH1 = aStarSearch(startState, actionsF_8p, takeActionF_8p, lambda s: goalTestF_8p(s, goalState), lambda s: args[0][0](s, goalState), True)\n",
    "            aStarPathH1Time = time.clock() - startTime\n",
    "            aStarPathH1Count = copy.copy(aStarPathH1[2].getCount())\n",
    "            \n",
    "        if(len(args[0]) > 1):\n",
    "            startTime = time.clock()\n",
    "            aStarPathH2 = aStarSearch(startState, actionsF_8p, takeActionF_8p, lambda s: goalTestF_8p(s, goalState), lambda s: args[0][1](s, goalState), True)\n",
    "            aStarPathH2Time = time.clock() - startTime\n",
    "            aStarPathH2Count = copy.copy(aStarPathH2[2].getCount())\n",
    "        \n",
    "        if(len(args[0]) > 2):\n",
    "            startTime = time.clock()\n",
    "            aStarPathH3 = aStarSearch(startState, actionsF_8p, takeActionF_8p, lambda s: goalTestF_8p(s, goalState), lambda s: args[0][2](s, goalState), True)\n",
    "            aStarPathH3Time = time.clock() - startTime\n",
    "            aStarPathH3Count = copy.copy(aStarPathH3[2].getCount())\n",
    "\n",
    "        printStr = {(str(goalState), \"Algorithm\"): {\" \": \"IDS\", \"  \": \"A*h1\", \"   \": \"A*h2\", \"    \": \"A*h3\"},\n",
    "                  (str(goalState), 'Depth'): {\" \": \"IDS\", \"  \": \"A*h1\", \"   \": \"A*h2\", \"    \": \"A*h3\"},\n",
    "                  (str(goalState), 'Nodes'): {\" \": \"IDS\", \"  \": \"A*h1\", \"   \": \"A*h2\", \"    \": \"A*h3\"},\n",
    "                  (str(goalState), 'EBF'): {\" \": \"IDS\", \"  \": \"A*h1\", \"   \": \"A*h2\", \"    \": \"A*h3\"},\n",
    "                  (str(goalState), 'Time'): {\" \": \"IDS\", \"  \": \"A*h1\", \"   \": \"A*h2\", \"    \": \"A*h3\"},\n",
    "                  }\n",
    "        for x, y in printStr.items():\n",
    "\n",
    "            for z in y:\n",
    "                if(x[1] == \"Depth\"):\n",
    "                    for w, v in y.items():\n",
    "                        if(v == \"IDS\"):\n",
    "                            y[w] = len(idsPath[0])-1\n",
    "                        if(v == \"A*h1\" and len(args[0]) > 0):\n",
    "                            y[w] = len(aStarPathH1[0])-1\n",
    "                        if(v == \"A*h2\" and len(args[0]) > 1):\n",
    "                            y[w] = len(aStarPathH2[0])-1\n",
    "                        if(v == \"A*h3\" and len(args[0]) > 2):\n",
    "                            y[w] = len(aStarPathH3[0])-1\n",
    "                if(x[1] == \"Nodes\"):\n",
    "                    for w, v in y.items():\n",
    "                        if(v == \"IDS\"):\n",
    "                            y[w] = idsNodeCount\n",
    "                        if(v == \"A*h1\" and len(args[0]) > 0):\n",
    "                            y[w] = aStarPathH1Count\n",
    "                        if(v == \"A*h2\" and len(args[0]) > 1):\n",
    "                            y[w] = aStarPathH2Count\n",
    "                        if(v == \"A*h3\" and len(args[0]) > 2):\n",
    "                            y[w] = aStarPathH3Count\n",
    "                if(x[1] == \"EBF\"):\n",
    "                    for w, v in y.items():\n",
    "                        if(v == \"IDS\"):\n",
    "                            y[w] = ebf(idsNodeCount, len(idsPath[0])-1)\n",
    "                        if(v == \"A*h1\" and len(args[0]) > 0):\n",
    "                            y[w] = ebf(aStarPathH1Count, len(aStarPathH1[0])-1)\n",
    "                        if(v == \"A*h2\" and len(args[0]) > 1):\n",
    "                            y[w] = ebf(aStarPathH2Count, len(aStarPathH2[0])-1)\n",
    "                        if(v == \"A*h3\" and len(args[0]) > 2):\n",
    "                            y[w] = ebf(aStarPathH3Count, len(aStarPathH3[0])-1)\n",
    "                elif(x[1] == \"Time\"):\n",
    "                    for w, v in y.items():\n",
    "                        if(v == \"IDS\"):\n",
    "                            y[w] = idsTime\n",
    "                        if(v == \"A*h1\" and len(args[0]) > 0):\n",
    "                            y[w] = aStarPathH1Time\n",
    "                        if(v == \"A*h2\" and len(args[0]) > 1):\n",
    "                            y[w] = aStarPathH2Time\n",
    "                        if(v == \"A*h3\" and len(args[0]) > 2):\n",
    "                            y[w] = aStarPathH3Time\n",
    "        \n",
    "        finalStr = OrderedDict(list(finalStr.items()) + list(printStr.items())) \n",
    "    s = pd.DataFrame(finalStr)\n",
    "    \n",
    "    return s\n",
    "    \n",
    "    \n",
    "goalState1 = [1, 2, 3, 4, 0, 5, 6, 7, 8]\n",
    "goalState2 = [1, 2, 3, 4, 5, 8, 6, 0, 7]\n",
    "goalState3 = [1, 0, 3, 4, 5, 8, 2, 6, 7]\n",
    "runExperiment(goalState1, goalState2, goalState3, [h1_8p, h2_8p, h3_8p])\n"
   ]
  },
  {
   "cell_type": "code",
   "execution_count": 44,
   "metadata": {},
   "outputs": [
    {
     "ename": "KeyboardInterrupt",
     "evalue": "",
     "output_type": "error",
     "traceback": [
      "\u001b[0;31m---------------------------------------------------------------------------\u001b[0m",
      "\u001b[0;31mKeyboardInterrupt\u001b[0m                         Traceback (most recent call last)",
      "\u001b[0;32m<ipython-input-44-f1473b4dfb7c>\u001b[0m in \u001b[0;36m<module>\u001b[0;34m()\u001b[0m\n\u001b[1;32m      1\u001b[0m \u001b[0mgoalState3\u001b[0m \u001b[0;34m=\u001b[0m \u001b[0;34m[\u001b[0m\u001b[0;36m1\u001b[0m\u001b[0;34m,\u001b[0m \u001b[0;36m2\u001b[0m\u001b[0;34m,\u001b[0m \u001b[0;36m3\u001b[0m\u001b[0;34m,\u001b[0m \u001b[0;36m4\u001b[0m\u001b[0;34m,\u001b[0m \u001b[0;36m0\u001b[0m\u001b[0;34m,\u001b[0m \u001b[0;36m5\u001b[0m\u001b[0;34m,\u001b[0m \u001b[0;36m6\u001b[0m\u001b[0;34m,\u001b[0m \u001b[0;36m8\u001b[0m\u001b[0;34m,\u001b[0m \u001b[0;36m7\u001b[0m\u001b[0;34m]\u001b[0m\u001b[0;34m\u001b[0m\u001b[0m\n\u001b[0;32m----> 2\u001b[0;31m \u001b[0maStarPathH3\u001b[0m \u001b[0;34m=\u001b[0m \u001b[0maStarSearch\u001b[0m\u001b[0;34m(\u001b[0m\u001b[0;34m[\u001b[0m\u001b[0;36m1\u001b[0m\u001b[0;34m,\u001b[0m \u001b[0;36m2\u001b[0m\u001b[0;34m,\u001b[0m \u001b[0;36m3\u001b[0m\u001b[0;34m,\u001b[0m \u001b[0;36m4\u001b[0m\u001b[0;34m,\u001b[0m \u001b[0;36m5\u001b[0m\u001b[0;34m,\u001b[0m \u001b[0;36m7\u001b[0m\u001b[0;34m,\u001b[0m \u001b[0;36m8\u001b[0m\u001b[0;34m,\u001b[0m \u001b[0;36m6\u001b[0m\u001b[0;34m,\u001b[0m \u001b[0;36m0\u001b[0m\u001b[0;34m]\u001b[0m\u001b[0;34m,\u001b[0m \u001b[0mactionsF_8p\u001b[0m\u001b[0;34m,\u001b[0m \u001b[0mtakeActionF_8p\u001b[0m\u001b[0;34m,\u001b[0m \u001b[0;32mlambda\u001b[0m \u001b[0ms\u001b[0m\u001b[0;34m:\u001b[0m \u001b[0mgoalTestF_8p\u001b[0m\u001b[0;34m(\u001b[0m\u001b[0ms\u001b[0m\u001b[0;34m,\u001b[0m \u001b[0mgoalState3\u001b[0m\u001b[0;34m)\u001b[0m\u001b[0;34m,\u001b[0m \u001b[0;32mlambda\u001b[0m \u001b[0ms\u001b[0m\u001b[0;34m:\u001b[0m \u001b[0mh2_8p\u001b[0m\u001b[0;34m(\u001b[0m\u001b[0ms\u001b[0m\u001b[0;34m,\u001b[0m \u001b[0mgoalState3\u001b[0m\u001b[0;34m)\u001b[0m\u001b[0;34m,\u001b[0m \u001b[0;32mTrue\u001b[0m\u001b[0;34m)\u001b[0m\u001b[0;34m\u001b[0m\u001b[0m\n\u001b[0m\u001b[1;32m      3\u001b[0m \u001b[0maStarPathH3\u001b[0m\u001b[0;34m\u001b[0m\u001b[0m\n",
      "\u001b[0;32m<ipython-input-17-7263445ccde4>\u001b[0m in \u001b[0;36maStarSearch\u001b[0;34m(startState, actionsF, takeActionF, goalTestF, hF, countNodes)\u001b[0m\n\u001b[1;32m      6\u001b[0m         \u001b[0;32mreturn\u001b[0m \u001b[0maStarSearchHelper\u001b[0m\u001b[0;34m(\u001b[0m\u001b[0mstartNode\u001b[0m\u001b[0;34m,\u001b[0m \u001b[0mactionsF\u001b[0m\u001b[0;34m,\u001b[0m \u001b[0mtakeActionF\u001b[0m\u001b[0;34m,\u001b[0m \u001b[0mgoalTestF\u001b[0m\u001b[0;34m,\u001b[0m \u001b[0mhF\u001b[0m\u001b[0;34m,\u001b[0m \u001b[0;36m100\u001b[0m\u001b[0;34m,\u001b[0m \u001b[0maStarCount\u001b[0m\u001b[0;34m)\u001b[0m\u001b[0;34m[\u001b[0m\u001b[0;36m0\u001b[0m\u001b[0;34m:\u001b[0m\u001b[0;36m2\u001b[0m\u001b[0;34m]\u001b[0m \u001b[0;31m#Returns path, stepCost\u001b[0m\u001b[0;34m\u001b[0m\u001b[0m\n\u001b[1;32m      7\u001b[0m     \u001b[0;32melse\u001b[0m\u001b[0;34m:\u001b[0m\u001b[0;34m\u001b[0m\u001b[0m\n\u001b[0;32m----> 8\u001b[0;31m         \u001b[0;32mreturn\u001b[0m \u001b[0maStarSearchHelper\u001b[0m\u001b[0;34m(\u001b[0m\u001b[0mstartNode\u001b[0m\u001b[0;34m,\u001b[0m \u001b[0mactionsF\u001b[0m\u001b[0;34m,\u001b[0m \u001b[0mtakeActionF\u001b[0m\u001b[0;34m,\u001b[0m \u001b[0mgoalTestF\u001b[0m\u001b[0;34m,\u001b[0m \u001b[0mhF\u001b[0m\u001b[0;34m,\u001b[0m \u001b[0;36m100\u001b[0m\u001b[0;34m,\u001b[0m \u001b[0maStarCount\u001b[0m\u001b[0;34m)\u001b[0m \u001b[0;31m#Returns path, stepCost, nodeCounter\u001b[0m\u001b[0;34m\u001b[0m\u001b[0m\n\u001b[0m\u001b[1;32m      9\u001b[0m \u001b[0;34m\u001b[0m\u001b[0m\n\u001b[1;32m     10\u001b[0m \u001b[0mstartState\u001b[0m \u001b[0;34m=\u001b[0m \u001b[0;34m[\u001b[0m\u001b[0;36m0\u001b[0m\u001b[0;34m,\u001b[0m \u001b[0;36m1\u001b[0m\u001b[0;34m,\u001b[0m \u001b[0;36m2\u001b[0m\u001b[0;34m,\u001b[0m \u001b[0;36m3\u001b[0m\u001b[0;34m,\u001b[0m \u001b[0;36m4\u001b[0m\u001b[0;34m,\u001b[0m \u001b[0;36m5\u001b[0m\u001b[0;34m,\u001b[0m \u001b[0;36m6\u001b[0m\u001b[0;34m,\u001b[0m \u001b[0;36m7\u001b[0m\u001b[0;34m,\u001b[0m \u001b[0;36m8\u001b[0m\u001b[0;34m]\u001b[0m\u001b[0;34m\u001b[0m\u001b[0m\n",
      "\u001b[0;32m<ipython-input-16-ee7ce5f74630>\u001b[0m in \u001b[0;36maStarSearchHelper\u001b[0;34m(parentNode, actionsF, takeActionF, goalTestF, hF, fmax, aStarCount)\u001b[0m\n\u001b[1;32m     24\u001b[0m         \u001b[0malternativef\u001b[0m \u001b[0;34m=\u001b[0m \u001b[0mchildren\u001b[0m\u001b[0;34m[\u001b[0m\u001b[0;36m1\u001b[0m\u001b[0;34m]\u001b[0m\u001b[0;34m.\u001b[0m\u001b[0mf\u001b[0m \u001b[0;32mif\u001b[0m \u001b[0mlen\u001b[0m\u001b[0;34m(\u001b[0m\u001b[0mchildren\u001b[0m\u001b[0;34m)\u001b[0m \u001b[0;34m>\u001b[0m \u001b[0;36m1\u001b[0m \u001b[0;32melse\u001b[0m \u001b[0mfloat\u001b[0m\u001b[0;34m(\u001b[0m\u001b[0;34m'inf'\u001b[0m\u001b[0;34m)\u001b[0m\u001b[0;34m\u001b[0m\u001b[0m\n\u001b[1;32m     25\u001b[0m         \u001b[0;31m# expand best child, reassign its f value to be returned value\u001b[0m\u001b[0;34m\u001b[0m\u001b[0;34m\u001b[0m\u001b[0m\n\u001b[0;32m---> 26\u001b[0;31m         \u001b[0mresult\u001b[0m\u001b[0;34m,\u001b[0m\u001b[0mbestChild\u001b[0m\u001b[0;34m.\u001b[0m\u001b[0mf\u001b[0m\u001b[0;34m,\u001b[0m\u001b[0maStarCount\u001b[0m\u001b[0;34m=\u001b[0m \u001b[0maStarSearchHelper\u001b[0m\u001b[0;34m(\u001b[0m\u001b[0mbestChild\u001b[0m\u001b[0;34m,\u001b[0m \u001b[0mactionsF\u001b[0m\u001b[0;34m,\u001b[0m \u001b[0mtakeActionF\u001b[0m\u001b[0;34m,\u001b[0m \u001b[0mgoalTestF\u001b[0m\u001b[0;34m,\u001b[0m \u001b[0mhF\u001b[0m\u001b[0;34m,\u001b[0m \u001b[0mmin\u001b[0m\u001b[0;34m(\u001b[0m\u001b[0mfmax\u001b[0m\u001b[0;34m,\u001b[0m\u001b[0malternativef\u001b[0m\u001b[0;34m)\u001b[0m\u001b[0;34m,\u001b[0m \u001b[0maStarCount\u001b[0m\u001b[0;34m)\u001b[0m \u001b[0;31m#Recursively calls A* helper function\u001b[0m\u001b[0;34m\u001b[0m\u001b[0m\n\u001b[0m\u001b[1;32m     27\u001b[0m         \u001b[0;32mif\u001b[0m \u001b[0mresult\u001b[0m \u001b[0;32mis\u001b[0m \u001b[0;32mnot\u001b[0m \u001b[0;34m\"failure\"\u001b[0m\u001b[0;34m:\u001b[0m                                          \u001b[0;31m#Checks for error\u001b[0m\u001b[0;34m\u001b[0m\u001b[0m\n\u001b[1;32m     28\u001b[0m             \u001b[0mresult\u001b[0m\u001b[0;34m.\u001b[0m\u001b[0minsert\u001b[0m\u001b[0;34m(\u001b[0m\u001b[0;36m0\u001b[0m\u001b[0;34m,\u001b[0m\u001b[0mparentNode\u001b[0m\u001b[0;34m.\u001b[0m\u001b[0mstate\u001b[0m\u001b[0;34m)\u001b[0m                                \u001b[0;31m#Adds parentState to path\u001b[0m\u001b[0;34m\u001b[0m\u001b[0m\n",
      "\u001b[0;32m<ipython-input-16-ee7ce5f74630>\u001b[0m in \u001b[0;36maStarSearchHelper\u001b[0;34m(parentNode, actionsF, takeActionF, goalTestF, hF, fmax, aStarCount)\u001b[0m\n\u001b[1;32m     24\u001b[0m         \u001b[0malternativef\u001b[0m \u001b[0;34m=\u001b[0m \u001b[0mchildren\u001b[0m\u001b[0;34m[\u001b[0m\u001b[0;36m1\u001b[0m\u001b[0;34m]\u001b[0m\u001b[0;34m.\u001b[0m\u001b[0mf\u001b[0m \u001b[0;32mif\u001b[0m \u001b[0mlen\u001b[0m\u001b[0;34m(\u001b[0m\u001b[0mchildren\u001b[0m\u001b[0;34m)\u001b[0m \u001b[0;34m>\u001b[0m \u001b[0;36m1\u001b[0m \u001b[0;32melse\u001b[0m \u001b[0mfloat\u001b[0m\u001b[0;34m(\u001b[0m\u001b[0;34m'inf'\u001b[0m\u001b[0;34m)\u001b[0m\u001b[0;34m\u001b[0m\u001b[0m\n\u001b[1;32m     25\u001b[0m         \u001b[0;31m# expand best child, reassign its f value to be returned value\u001b[0m\u001b[0;34m\u001b[0m\u001b[0;34m\u001b[0m\u001b[0m\n\u001b[0;32m---> 26\u001b[0;31m         \u001b[0mresult\u001b[0m\u001b[0;34m,\u001b[0m\u001b[0mbestChild\u001b[0m\u001b[0;34m.\u001b[0m\u001b[0mf\u001b[0m\u001b[0;34m,\u001b[0m\u001b[0maStarCount\u001b[0m\u001b[0;34m=\u001b[0m \u001b[0maStarSearchHelper\u001b[0m\u001b[0;34m(\u001b[0m\u001b[0mbestChild\u001b[0m\u001b[0;34m,\u001b[0m \u001b[0mactionsF\u001b[0m\u001b[0;34m,\u001b[0m \u001b[0mtakeActionF\u001b[0m\u001b[0;34m,\u001b[0m \u001b[0mgoalTestF\u001b[0m\u001b[0;34m,\u001b[0m \u001b[0mhF\u001b[0m\u001b[0;34m,\u001b[0m \u001b[0mmin\u001b[0m\u001b[0;34m(\u001b[0m\u001b[0mfmax\u001b[0m\u001b[0;34m,\u001b[0m\u001b[0malternativef\u001b[0m\u001b[0;34m)\u001b[0m\u001b[0;34m,\u001b[0m \u001b[0maStarCount\u001b[0m\u001b[0;34m)\u001b[0m \u001b[0;31m#Recursively calls A* helper function\u001b[0m\u001b[0;34m\u001b[0m\u001b[0m\n\u001b[0m\u001b[1;32m     27\u001b[0m         \u001b[0;32mif\u001b[0m \u001b[0mresult\u001b[0m \u001b[0;32mis\u001b[0m \u001b[0;32mnot\u001b[0m \u001b[0;34m\"failure\"\u001b[0m\u001b[0;34m:\u001b[0m                                          \u001b[0;31m#Checks for error\u001b[0m\u001b[0;34m\u001b[0m\u001b[0m\n\u001b[1;32m     28\u001b[0m             \u001b[0mresult\u001b[0m\u001b[0;34m.\u001b[0m\u001b[0minsert\u001b[0m\u001b[0;34m(\u001b[0m\u001b[0;36m0\u001b[0m\u001b[0;34m,\u001b[0m\u001b[0mparentNode\u001b[0m\u001b[0;34m.\u001b[0m\u001b[0mstate\u001b[0m\u001b[0;34m)\u001b[0m                                \u001b[0;31m#Adds parentState to path\u001b[0m\u001b[0;34m\u001b[0m\u001b[0m\n",
      "\u001b[0;32m<ipython-input-16-ee7ce5f74630>\u001b[0m in \u001b[0;36maStarSearchHelper\u001b[0;34m(parentNode, actionsF, takeActionF, goalTestF, hF, fmax, aStarCount)\u001b[0m\n\u001b[1;32m     24\u001b[0m         \u001b[0malternativef\u001b[0m \u001b[0;34m=\u001b[0m \u001b[0mchildren\u001b[0m\u001b[0;34m[\u001b[0m\u001b[0;36m1\u001b[0m\u001b[0;34m]\u001b[0m\u001b[0;34m.\u001b[0m\u001b[0mf\u001b[0m \u001b[0;32mif\u001b[0m \u001b[0mlen\u001b[0m\u001b[0;34m(\u001b[0m\u001b[0mchildren\u001b[0m\u001b[0;34m)\u001b[0m \u001b[0;34m>\u001b[0m \u001b[0;36m1\u001b[0m \u001b[0;32melse\u001b[0m \u001b[0mfloat\u001b[0m\u001b[0;34m(\u001b[0m\u001b[0;34m'inf'\u001b[0m\u001b[0;34m)\u001b[0m\u001b[0;34m\u001b[0m\u001b[0m\n\u001b[1;32m     25\u001b[0m         \u001b[0;31m# expand best child, reassign its f value to be returned value\u001b[0m\u001b[0;34m\u001b[0m\u001b[0;34m\u001b[0m\u001b[0m\n\u001b[0;32m---> 26\u001b[0;31m         \u001b[0mresult\u001b[0m\u001b[0;34m,\u001b[0m\u001b[0mbestChild\u001b[0m\u001b[0;34m.\u001b[0m\u001b[0mf\u001b[0m\u001b[0;34m,\u001b[0m\u001b[0maStarCount\u001b[0m\u001b[0;34m=\u001b[0m \u001b[0maStarSearchHelper\u001b[0m\u001b[0;34m(\u001b[0m\u001b[0mbestChild\u001b[0m\u001b[0;34m,\u001b[0m \u001b[0mactionsF\u001b[0m\u001b[0;34m,\u001b[0m \u001b[0mtakeActionF\u001b[0m\u001b[0;34m,\u001b[0m \u001b[0mgoalTestF\u001b[0m\u001b[0;34m,\u001b[0m \u001b[0mhF\u001b[0m\u001b[0;34m,\u001b[0m \u001b[0mmin\u001b[0m\u001b[0;34m(\u001b[0m\u001b[0mfmax\u001b[0m\u001b[0;34m,\u001b[0m\u001b[0malternativef\u001b[0m\u001b[0;34m)\u001b[0m\u001b[0;34m,\u001b[0m \u001b[0maStarCount\u001b[0m\u001b[0;34m)\u001b[0m \u001b[0;31m#Recursively calls A* helper function\u001b[0m\u001b[0;34m\u001b[0m\u001b[0m\n\u001b[0m\u001b[1;32m     27\u001b[0m         \u001b[0;32mif\u001b[0m \u001b[0mresult\u001b[0m \u001b[0;32mis\u001b[0m \u001b[0;32mnot\u001b[0m \u001b[0;34m\"failure\"\u001b[0m\u001b[0;34m:\u001b[0m                                          \u001b[0;31m#Checks for error\u001b[0m\u001b[0;34m\u001b[0m\u001b[0m\n\u001b[1;32m     28\u001b[0m             \u001b[0mresult\u001b[0m\u001b[0;34m.\u001b[0m\u001b[0minsert\u001b[0m\u001b[0;34m(\u001b[0m\u001b[0;36m0\u001b[0m\u001b[0;34m,\u001b[0m\u001b[0mparentNode\u001b[0m\u001b[0;34m.\u001b[0m\u001b[0mstate\u001b[0m\u001b[0;34m)\u001b[0m                                \u001b[0;31m#Adds parentState to path\u001b[0m\u001b[0;34m\u001b[0m\u001b[0m\n",
      "\u001b[0;32m<ipython-input-16-ee7ce5f74630>\u001b[0m in \u001b[0;36maStarSearchHelper\u001b[0;34m(parentNode, actionsF, takeActionF, goalTestF, hF, fmax, aStarCount)\u001b[0m\n\u001b[1;32m     24\u001b[0m         \u001b[0malternativef\u001b[0m \u001b[0;34m=\u001b[0m \u001b[0mchildren\u001b[0m\u001b[0;34m[\u001b[0m\u001b[0;36m1\u001b[0m\u001b[0;34m]\u001b[0m\u001b[0;34m.\u001b[0m\u001b[0mf\u001b[0m \u001b[0;32mif\u001b[0m \u001b[0mlen\u001b[0m\u001b[0;34m(\u001b[0m\u001b[0mchildren\u001b[0m\u001b[0;34m)\u001b[0m \u001b[0;34m>\u001b[0m \u001b[0;36m1\u001b[0m \u001b[0;32melse\u001b[0m \u001b[0mfloat\u001b[0m\u001b[0;34m(\u001b[0m\u001b[0;34m'inf'\u001b[0m\u001b[0;34m)\u001b[0m\u001b[0;34m\u001b[0m\u001b[0m\n\u001b[1;32m     25\u001b[0m         \u001b[0;31m# expand best child, reassign its f value to be returned value\u001b[0m\u001b[0;34m\u001b[0m\u001b[0;34m\u001b[0m\u001b[0m\n\u001b[0;32m---> 26\u001b[0;31m         \u001b[0mresult\u001b[0m\u001b[0;34m,\u001b[0m\u001b[0mbestChild\u001b[0m\u001b[0;34m.\u001b[0m\u001b[0mf\u001b[0m\u001b[0;34m,\u001b[0m\u001b[0maStarCount\u001b[0m\u001b[0;34m=\u001b[0m \u001b[0maStarSearchHelper\u001b[0m\u001b[0;34m(\u001b[0m\u001b[0mbestChild\u001b[0m\u001b[0;34m,\u001b[0m \u001b[0mactionsF\u001b[0m\u001b[0;34m,\u001b[0m \u001b[0mtakeActionF\u001b[0m\u001b[0;34m,\u001b[0m \u001b[0mgoalTestF\u001b[0m\u001b[0;34m,\u001b[0m \u001b[0mhF\u001b[0m\u001b[0;34m,\u001b[0m \u001b[0mmin\u001b[0m\u001b[0;34m(\u001b[0m\u001b[0mfmax\u001b[0m\u001b[0;34m,\u001b[0m\u001b[0malternativef\u001b[0m\u001b[0;34m)\u001b[0m\u001b[0;34m,\u001b[0m \u001b[0maStarCount\u001b[0m\u001b[0;34m)\u001b[0m \u001b[0;31m#Recursively calls A* helper function\u001b[0m\u001b[0;34m\u001b[0m\u001b[0m\n\u001b[0m\u001b[1;32m     27\u001b[0m         \u001b[0;32mif\u001b[0m \u001b[0mresult\u001b[0m \u001b[0;32mis\u001b[0m \u001b[0;32mnot\u001b[0m \u001b[0;34m\"failure\"\u001b[0m\u001b[0;34m:\u001b[0m                                          \u001b[0;31m#Checks for error\u001b[0m\u001b[0;34m\u001b[0m\u001b[0m\n\u001b[1;32m     28\u001b[0m             \u001b[0mresult\u001b[0m\u001b[0;34m.\u001b[0m\u001b[0minsert\u001b[0m\u001b[0;34m(\u001b[0m\u001b[0;36m0\u001b[0m\u001b[0;34m,\u001b[0m\u001b[0mparentNode\u001b[0m\u001b[0;34m.\u001b[0m\u001b[0mstate\u001b[0m\u001b[0;34m)\u001b[0m                                \u001b[0;31m#Adds parentState to path\u001b[0m\u001b[0;34m\u001b[0m\u001b[0m\n",
      "\u001b[0;32m<ipython-input-16-ee7ce5f74630>\u001b[0m in \u001b[0;36maStarSearchHelper\u001b[0;34m(parentNode, actionsF, takeActionF, goalTestF, hF, fmax, aStarCount)\u001b[0m\n\u001b[1;32m     24\u001b[0m         \u001b[0malternativef\u001b[0m \u001b[0;34m=\u001b[0m \u001b[0mchildren\u001b[0m\u001b[0;34m[\u001b[0m\u001b[0;36m1\u001b[0m\u001b[0;34m]\u001b[0m\u001b[0;34m.\u001b[0m\u001b[0mf\u001b[0m \u001b[0;32mif\u001b[0m \u001b[0mlen\u001b[0m\u001b[0;34m(\u001b[0m\u001b[0mchildren\u001b[0m\u001b[0;34m)\u001b[0m \u001b[0;34m>\u001b[0m \u001b[0;36m1\u001b[0m \u001b[0;32melse\u001b[0m \u001b[0mfloat\u001b[0m\u001b[0;34m(\u001b[0m\u001b[0;34m'inf'\u001b[0m\u001b[0;34m)\u001b[0m\u001b[0;34m\u001b[0m\u001b[0m\n\u001b[1;32m     25\u001b[0m         \u001b[0;31m# expand best child, reassign its f value to be returned value\u001b[0m\u001b[0;34m\u001b[0m\u001b[0;34m\u001b[0m\u001b[0m\n\u001b[0;32m---> 26\u001b[0;31m         \u001b[0mresult\u001b[0m\u001b[0;34m,\u001b[0m\u001b[0mbestChild\u001b[0m\u001b[0;34m.\u001b[0m\u001b[0mf\u001b[0m\u001b[0;34m,\u001b[0m\u001b[0maStarCount\u001b[0m\u001b[0;34m=\u001b[0m \u001b[0maStarSearchHelper\u001b[0m\u001b[0;34m(\u001b[0m\u001b[0mbestChild\u001b[0m\u001b[0;34m,\u001b[0m \u001b[0mactionsF\u001b[0m\u001b[0;34m,\u001b[0m \u001b[0mtakeActionF\u001b[0m\u001b[0;34m,\u001b[0m \u001b[0mgoalTestF\u001b[0m\u001b[0;34m,\u001b[0m \u001b[0mhF\u001b[0m\u001b[0;34m,\u001b[0m \u001b[0mmin\u001b[0m\u001b[0;34m(\u001b[0m\u001b[0mfmax\u001b[0m\u001b[0;34m,\u001b[0m\u001b[0malternativef\u001b[0m\u001b[0;34m)\u001b[0m\u001b[0;34m,\u001b[0m \u001b[0maStarCount\u001b[0m\u001b[0;34m)\u001b[0m \u001b[0;31m#Recursively calls A* helper function\u001b[0m\u001b[0;34m\u001b[0m\u001b[0m\n\u001b[0m\u001b[1;32m     27\u001b[0m         \u001b[0;32mif\u001b[0m \u001b[0mresult\u001b[0m \u001b[0;32mis\u001b[0m \u001b[0;32mnot\u001b[0m \u001b[0;34m\"failure\"\u001b[0m\u001b[0;34m:\u001b[0m                                          \u001b[0;31m#Checks for error\u001b[0m\u001b[0;34m\u001b[0m\u001b[0m\n\u001b[1;32m     28\u001b[0m             \u001b[0mresult\u001b[0m\u001b[0;34m.\u001b[0m\u001b[0minsert\u001b[0m\u001b[0;34m(\u001b[0m\u001b[0;36m0\u001b[0m\u001b[0;34m,\u001b[0m\u001b[0mparentNode\u001b[0m\u001b[0;34m.\u001b[0m\u001b[0mstate\u001b[0m\u001b[0;34m)\u001b[0m                                \u001b[0;31m#Adds parentState to path\u001b[0m\u001b[0;34m\u001b[0m\u001b[0m\n",
      "\u001b[0;32m<ipython-input-16-ee7ce5f74630>\u001b[0m in \u001b[0;36maStarSearchHelper\u001b[0;34m(parentNode, actionsF, takeActionF, goalTestF, hF, fmax, aStarCount)\u001b[0m\n\u001b[1;32m     24\u001b[0m         \u001b[0malternativef\u001b[0m \u001b[0;34m=\u001b[0m \u001b[0mchildren\u001b[0m\u001b[0;34m[\u001b[0m\u001b[0;36m1\u001b[0m\u001b[0;34m]\u001b[0m\u001b[0;34m.\u001b[0m\u001b[0mf\u001b[0m \u001b[0;32mif\u001b[0m \u001b[0mlen\u001b[0m\u001b[0;34m(\u001b[0m\u001b[0mchildren\u001b[0m\u001b[0;34m)\u001b[0m \u001b[0;34m>\u001b[0m \u001b[0;36m1\u001b[0m \u001b[0;32melse\u001b[0m \u001b[0mfloat\u001b[0m\u001b[0;34m(\u001b[0m\u001b[0;34m'inf'\u001b[0m\u001b[0;34m)\u001b[0m\u001b[0;34m\u001b[0m\u001b[0m\n\u001b[1;32m     25\u001b[0m         \u001b[0;31m# expand best child, reassign its f value to be returned value\u001b[0m\u001b[0;34m\u001b[0m\u001b[0;34m\u001b[0m\u001b[0m\n\u001b[0;32m---> 26\u001b[0;31m         \u001b[0mresult\u001b[0m\u001b[0;34m,\u001b[0m\u001b[0mbestChild\u001b[0m\u001b[0;34m.\u001b[0m\u001b[0mf\u001b[0m\u001b[0;34m,\u001b[0m\u001b[0maStarCount\u001b[0m\u001b[0;34m=\u001b[0m \u001b[0maStarSearchHelper\u001b[0m\u001b[0;34m(\u001b[0m\u001b[0mbestChild\u001b[0m\u001b[0;34m,\u001b[0m \u001b[0mactionsF\u001b[0m\u001b[0;34m,\u001b[0m \u001b[0mtakeActionF\u001b[0m\u001b[0;34m,\u001b[0m \u001b[0mgoalTestF\u001b[0m\u001b[0;34m,\u001b[0m \u001b[0mhF\u001b[0m\u001b[0;34m,\u001b[0m \u001b[0mmin\u001b[0m\u001b[0;34m(\u001b[0m\u001b[0mfmax\u001b[0m\u001b[0;34m,\u001b[0m\u001b[0malternativef\u001b[0m\u001b[0;34m)\u001b[0m\u001b[0;34m,\u001b[0m \u001b[0maStarCount\u001b[0m\u001b[0;34m)\u001b[0m \u001b[0;31m#Recursively calls A* helper function\u001b[0m\u001b[0;34m\u001b[0m\u001b[0m\n\u001b[0m\u001b[1;32m     27\u001b[0m         \u001b[0;32mif\u001b[0m \u001b[0mresult\u001b[0m \u001b[0;32mis\u001b[0m \u001b[0;32mnot\u001b[0m \u001b[0;34m\"failure\"\u001b[0m\u001b[0;34m:\u001b[0m                                          \u001b[0;31m#Checks for error\u001b[0m\u001b[0;34m\u001b[0m\u001b[0m\n\u001b[1;32m     28\u001b[0m             \u001b[0mresult\u001b[0m\u001b[0;34m.\u001b[0m\u001b[0minsert\u001b[0m\u001b[0;34m(\u001b[0m\u001b[0;36m0\u001b[0m\u001b[0;34m,\u001b[0m\u001b[0mparentNode\u001b[0m\u001b[0;34m.\u001b[0m\u001b[0mstate\u001b[0m\u001b[0;34m)\u001b[0m                                \u001b[0;31m#Adds parentState to path\u001b[0m\u001b[0;34m\u001b[0m\u001b[0m\n",
      "\u001b[0;32m<ipython-input-16-ee7ce5f74630>\u001b[0m in \u001b[0;36maStarSearchHelper\u001b[0;34m(parentNode, actionsF, takeActionF, goalTestF, hF, fmax, aStarCount)\u001b[0m\n\u001b[1;32m     24\u001b[0m         \u001b[0malternativef\u001b[0m \u001b[0;34m=\u001b[0m \u001b[0mchildren\u001b[0m\u001b[0;34m[\u001b[0m\u001b[0;36m1\u001b[0m\u001b[0;34m]\u001b[0m\u001b[0;34m.\u001b[0m\u001b[0mf\u001b[0m \u001b[0;32mif\u001b[0m \u001b[0mlen\u001b[0m\u001b[0;34m(\u001b[0m\u001b[0mchildren\u001b[0m\u001b[0;34m)\u001b[0m \u001b[0;34m>\u001b[0m \u001b[0;36m1\u001b[0m \u001b[0;32melse\u001b[0m \u001b[0mfloat\u001b[0m\u001b[0;34m(\u001b[0m\u001b[0;34m'inf'\u001b[0m\u001b[0;34m)\u001b[0m\u001b[0;34m\u001b[0m\u001b[0m\n\u001b[1;32m     25\u001b[0m         \u001b[0;31m# expand best child, reassign its f value to be returned value\u001b[0m\u001b[0;34m\u001b[0m\u001b[0;34m\u001b[0m\u001b[0m\n\u001b[0;32m---> 26\u001b[0;31m         \u001b[0mresult\u001b[0m\u001b[0;34m,\u001b[0m\u001b[0mbestChild\u001b[0m\u001b[0;34m.\u001b[0m\u001b[0mf\u001b[0m\u001b[0;34m,\u001b[0m\u001b[0maStarCount\u001b[0m\u001b[0;34m=\u001b[0m \u001b[0maStarSearchHelper\u001b[0m\u001b[0;34m(\u001b[0m\u001b[0mbestChild\u001b[0m\u001b[0;34m,\u001b[0m \u001b[0mactionsF\u001b[0m\u001b[0;34m,\u001b[0m \u001b[0mtakeActionF\u001b[0m\u001b[0;34m,\u001b[0m \u001b[0mgoalTestF\u001b[0m\u001b[0;34m,\u001b[0m \u001b[0mhF\u001b[0m\u001b[0;34m,\u001b[0m \u001b[0mmin\u001b[0m\u001b[0;34m(\u001b[0m\u001b[0mfmax\u001b[0m\u001b[0;34m,\u001b[0m\u001b[0malternativef\u001b[0m\u001b[0;34m)\u001b[0m\u001b[0;34m,\u001b[0m \u001b[0maStarCount\u001b[0m\u001b[0;34m)\u001b[0m \u001b[0;31m#Recursively calls A* helper function\u001b[0m\u001b[0;34m\u001b[0m\u001b[0m\n\u001b[0m\u001b[1;32m     27\u001b[0m         \u001b[0;32mif\u001b[0m \u001b[0mresult\u001b[0m \u001b[0;32mis\u001b[0m \u001b[0;32mnot\u001b[0m \u001b[0;34m\"failure\"\u001b[0m\u001b[0;34m:\u001b[0m                                          \u001b[0;31m#Checks for error\u001b[0m\u001b[0;34m\u001b[0m\u001b[0m\n\u001b[1;32m     28\u001b[0m             \u001b[0mresult\u001b[0m\u001b[0;34m.\u001b[0m\u001b[0minsert\u001b[0m\u001b[0;34m(\u001b[0m\u001b[0;36m0\u001b[0m\u001b[0;34m,\u001b[0m\u001b[0mparentNode\u001b[0m\u001b[0;34m.\u001b[0m\u001b[0mstate\u001b[0m\u001b[0;34m)\u001b[0m                                \u001b[0;31m#Adds parentState to path\u001b[0m\u001b[0;34m\u001b[0m\u001b[0m\n",
      "\u001b[0;32m<ipython-input-16-ee7ce5f74630>\u001b[0m in \u001b[0;36maStarSearchHelper\u001b[0;34m(parentNode, actionsF, takeActionF, goalTestF, hF, fmax, aStarCount)\u001b[0m\n\u001b[1;32m     24\u001b[0m         \u001b[0malternativef\u001b[0m \u001b[0;34m=\u001b[0m \u001b[0mchildren\u001b[0m\u001b[0;34m[\u001b[0m\u001b[0;36m1\u001b[0m\u001b[0;34m]\u001b[0m\u001b[0;34m.\u001b[0m\u001b[0mf\u001b[0m \u001b[0;32mif\u001b[0m \u001b[0mlen\u001b[0m\u001b[0;34m(\u001b[0m\u001b[0mchildren\u001b[0m\u001b[0;34m)\u001b[0m \u001b[0;34m>\u001b[0m \u001b[0;36m1\u001b[0m \u001b[0;32melse\u001b[0m \u001b[0mfloat\u001b[0m\u001b[0;34m(\u001b[0m\u001b[0;34m'inf'\u001b[0m\u001b[0;34m)\u001b[0m\u001b[0;34m\u001b[0m\u001b[0m\n\u001b[1;32m     25\u001b[0m         \u001b[0;31m# expand best child, reassign its f value to be returned value\u001b[0m\u001b[0;34m\u001b[0m\u001b[0;34m\u001b[0m\u001b[0m\n\u001b[0;32m---> 26\u001b[0;31m         \u001b[0mresult\u001b[0m\u001b[0;34m,\u001b[0m\u001b[0mbestChild\u001b[0m\u001b[0;34m.\u001b[0m\u001b[0mf\u001b[0m\u001b[0;34m,\u001b[0m\u001b[0maStarCount\u001b[0m\u001b[0;34m=\u001b[0m \u001b[0maStarSearchHelper\u001b[0m\u001b[0;34m(\u001b[0m\u001b[0mbestChild\u001b[0m\u001b[0;34m,\u001b[0m \u001b[0mactionsF\u001b[0m\u001b[0;34m,\u001b[0m \u001b[0mtakeActionF\u001b[0m\u001b[0;34m,\u001b[0m \u001b[0mgoalTestF\u001b[0m\u001b[0;34m,\u001b[0m \u001b[0mhF\u001b[0m\u001b[0;34m,\u001b[0m \u001b[0mmin\u001b[0m\u001b[0;34m(\u001b[0m\u001b[0mfmax\u001b[0m\u001b[0;34m,\u001b[0m\u001b[0malternativef\u001b[0m\u001b[0;34m)\u001b[0m\u001b[0;34m,\u001b[0m \u001b[0maStarCount\u001b[0m\u001b[0;34m)\u001b[0m \u001b[0;31m#Recursively calls A* helper function\u001b[0m\u001b[0;34m\u001b[0m\u001b[0m\n\u001b[0m\u001b[1;32m     27\u001b[0m         \u001b[0;32mif\u001b[0m \u001b[0mresult\u001b[0m \u001b[0;32mis\u001b[0m \u001b[0;32mnot\u001b[0m \u001b[0;34m\"failure\"\u001b[0m\u001b[0;34m:\u001b[0m                                          \u001b[0;31m#Checks for error\u001b[0m\u001b[0;34m\u001b[0m\u001b[0m\n\u001b[1;32m     28\u001b[0m             \u001b[0mresult\u001b[0m\u001b[0;34m.\u001b[0m\u001b[0minsert\u001b[0m\u001b[0;34m(\u001b[0m\u001b[0;36m0\u001b[0m\u001b[0;34m,\u001b[0m\u001b[0mparentNode\u001b[0m\u001b[0;34m.\u001b[0m\u001b[0mstate\u001b[0m\u001b[0;34m)\u001b[0m                                \u001b[0;31m#Adds parentState to path\u001b[0m\u001b[0;34m\u001b[0m\u001b[0m\n",
      "\u001b[0;32m<ipython-input-16-ee7ce5f74630>\u001b[0m in \u001b[0;36maStarSearchHelper\u001b[0;34m(parentNode, actionsF, takeActionF, goalTestF, hF, fmax, aStarCount)\u001b[0m\n\u001b[1;32m     24\u001b[0m         \u001b[0malternativef\u001b[0m \u001b[0;34m=\u001b[0m \u001b[0mchildren\u001b[0m\u001b[0;34m[\u001b[0m\u001b[0;36m1\u001b[0m\u001b[0;34m]\u001b[0m\u001b[0;34m.\u001b[0m\u001b[0mf\u001b[0m \u001b[0;32mif\u001b[0m \u001b[0mlen\u001b[0m\u001b[0;34m(\u001b[0m\u001b[0mchildren\u001b[0m\u001b[0;34m)\u001b[0m \u001b[0;34m>\u001b[0m \u001b[0;36m1\u001b[0m \u001b[0;32melse\u001b[0m \u001b[0mfloat\u001b[0m\u001b[0;34m(\u001b[0m\u001b[0;34m'inf'\u001b[0m\u001b[0;34m)\u001b[0m\u001b[0;34m\u001b[0m\u001b[0m\n\u001b[1;32m     25\u001b[0m         \u001b[0;31m# expand best child, reassign its f value to be returned value\u001b[0m\u001b[0;34m\u001b[0m\u001b[0;34m\u001b[0m\u001b[0m\n\u001b[0;32m---> 26\u001b[0;31m         \u001b[0mresult\u001b[0m\u001b[0;34m,\u001b[0m\u001b[0mbestChild\u001b[0m\u001b[0;34m.\u001b[0m\u001b[0mf\u001b[0m\u001b[0;34m,\u001b[0m\u001b[0maStarCount\u001b[0m\u001b[0;34m=\u001b[0m \u001b[0maStarSearchHelper\u001b[0m\u001b[0;34m(\u001b[0m\u001b[0mbestChild\u001b[0m\u001b[0;34m,\u001b[0m \u001b[0mactionsF\u001b[0m\u001b[0;34m,\u001b[0m \u001b[0mtakeActionF\u001b[0m\u001b[0;34m,\u001b[0m \u001b[0mgoalTestF\u001b[0m\u001b[0;34m,\u001b[0m \u001b[0mhF\u001b[0m\u001b[0;34m,\u001b[0m \u001b[0mmin\u001b[0m\u001b[0;34m(\u001b[0m\u001b[0mfmax\u001b[0m\u001b[0;34m,\u001b[0m\u001b[0malternativef\u001b[0m\u001b[0;34m)\u001b[0m\u001b[0;34m,\u001b[0m \u001b[0maStarCount\u001b[0m\u001b[0;34m)\u001b[0m \u001b[0;31m#Recursively calls A* helper function\u001b[0m\u001b[0;34m\u001b[0m\u001b[0m\n\u001b[0m\u001b[1;32m     27\u001b[0m         \u001b[0;32mif\u001b[0m \u001b[0mresult\u001b[0m \u001b[0;32mis\u001b[0m \u001b[0;32mnot\u001b[0m \u001b[0;34m\"failure\"\u001b[0m\u001b[0;34m:\u001b[0m                                          \u001b[0;31m#Checks for error\u001b[0m\u001b[0;34m\u001b[0m\u001b[0m\n\u001b[1;32m     28\u001b[0m             \u001b[0mresult\u001b[0m\u001b[0;34m.\u001b[0m\u001b[0minsert\u001b[0m\u001b[0;34m(\u001b[0m\u001b[0;36m0\u001b[0m\u001b[0;34m,\u001b[0m\u001b[0mparentNode\u001b[0m\u001b[0;34m.\u001b[0m\u001b[0mstate\u001b[0m\u001b[0;34m)\u001b[0m                                \u001b[0;31m#Adds parentState to path\u001b[0m\u001b[0;34m\u001b[0m\u001b[0m\n",
      "\u001b[0;32m<ipython-input-16-ee7ce5f74630>\u001b[0m in \u001b[0;36maStarSearchHelper\u001b[0;34m(parentNode, actionsF, takeActionF, goalTestF, hF, fmax, aStarCount)\u001b[0m\n\u001b[1;32m     24\u001b[0m         \u001b[0malternativef\u001b[0m \u001b[0;34m=\u001b[0m \u001b[0mchildren\u001b[0m\u001b[0;34m[\u001b[0m\u001b[0;36m1\u001b[0m\u001b[0;34m]\u001b[0m\u001b[0;34m.\u001b[0m\u001b[0mf\u001b[0m \u001b[0;32mif\u001b[0m \u001b[0mlen\u001b[0m\u001b[0;34m(\u001b[0m\u001b[0mchildren\u001b[0m\u001b[0;34m)\u001b[0m \u001b[0;34m>\u001b[0m \u001b[0;36m1\u001b[0m \u001b[0;32melse\u001b[0m \u001b[0mfloat\u001b[0m\u001b[0;34m(\u001b[0m\u001b[0;34m'inf'\u001b[0m\u001b[0;34m)\u001b[0m\u001b[0;34m\u001b[0m\u001b[0m\n\u001b[1;32m     25\u001b[0m         \u001b[0;31m# expand best child, reassign its f value to be returned value\u001b[0m\u001b[0;34m\u001b[0m\u001b[0;34m\u001b[0m\u001b[0m\n\u001b[0;32m---> 26\u001b[0;31m         \u001b[0mresult\u001b[0m\u001b[0;34m,\u001b[0m\u001b[0mbestChild\u001b[0m\u001b[0;34m.\u001b[0m\u001b[0mf\u001b[0m\u001b[0;34m,\u001b[0m\u001b[0maStarCount\u001b[0m\u001b[0;34m=\u001b[0m \u001b[0maStarSearchHelper\u001b[0m\u001b[0;34m(\u001b[0m\u001b[0mbestChild\u001b[0m\u001b[0;34m,\u001b[0m \u001b[0mactionsF\u001b[0m\u001b[0;34m,\u001b[0m \u001b[0mtakeActionF\u001b[0m\u001b[0;34m,\u001b[0m \u001b[0mgoalTestF\u001b[0m\u001b[0;34m,\u001b[0m \u001b[0mhF\u001b[0m\u001b[0;34m,\u001b[0m \u001b[0mmin\u001b[0m\u001b[0;34m(\u001b[0m\u001b[0mfmax\u001b[0m\u001b[0;34m,\u001b[0m\u001b[0malternativef\u001b[0m\u001b[0;34m)\u001b[0m\u001b[0;34m,\u001b[0m \u001b[0maStarCount\u001b[0m\u001b[0;34m)\u001b[0m \u001b[0;31m#Recursively calls A* helper function\u001b[0m\u001b[0;34m\u001b[0m\u001b[0m\n\u001b[0m\u001b[1;32m     27\u001b[0m         \u001b[0;32mif\u001b[0m \u001b[0mresult\u001b[0m \u001b[0;32mis\u001b[0m \u001b[0;32mnot\u001b[0m \u001b[0;34m\"failure\"\u001b[0m\u001b[0;34m:\u001b[0m                                          \u001b[0;31m#Checks for error\u001b[0m\u001b[0;34m\u001b[0m\u001b[0m\n\u001b[1;32m     28\u001b[0m             \u001b[0mresult\u001b[0m\u001b[0;34m.\u001b[0m\u001b[0minsert\u001b[0m\u001b[0;34m(\u001b[0m\u001b[0;36m0\u001b[0m\u001b[0;34m,\u001b[0m\u001b[0mparentNode\u001b[0m\u001b[0;34m.\u001b[0m\u001b[0mstate\u001b[0m\u001b[0;34m)\u001b[0m                                \u001b[0;31m#Adds parentState to path\u001b[0m\u001b[0;34m\u001b[0m\u001b[0m\n",
      "\u001b[0;32m<ipython-input-16-ee7ce5f74630>\u001b[0m in \u001b[0;36maStarSearchHelper\u001b[0;34m(parentNode, actionsF, takeActionF, goalTestF, hF, fmax, aStarCount)\u001b[0m\n\u001b[1;32m     24\u001b[0m         \u001b[0malternativef\u001b[0m \u001b[0;34m=\u001b[0m \u001b[0mchildren\u001b[0m\u001b[0;34m[\u001b[0m\u001b[0;36m1\u001b[0m\u001b[0;34m]\u001b[0m\u001b[0;34m.\u001b[0m\u001b[0mf\u001b[0m \u001b[0;32mif\u001b[0m \u001b[0mlen\u001b[0m\u001b[0;34m(\u001b[0m\u001b[0mchildren\u001b[0m\u001b[0;34m)\u001b[0m \u001b[0;34m>\u001b[0m \u001b[0;36m1\u001b[0m \u001b[0;32melse\u001b[0m \u001b[0mfloat\u001b[0m\u001b[0;34m(\u001b[0m\u001b[0;34m'inf'\u001b[0m\u001b[0;34m)\u001b[0m\u001b[0;34m\u001b[0m\u001b[0m\n\u001b[1;32m     25\u001b[0m         \u001b[0;31m# expand best child, reassign its f value to be returned value\u001b[0m\u001b[0;34m\u001b[0m\u001b[0;34m\u001b[0m\u001b[0m\n\u001b[0;32m---> 26\u001b[0;31m         \u001b[0mresult\u001b[0m\u001b[0;34m,\u001b[0m\u001b[0mbestChild\u001b[0m\u001b[0;34m.\u001b[0m\u001b[0mf\u001b[0m\u001b[0;34m,\u001b[0m\u001b[0maStarCount\u001b[0m\u001b[0;34m=\u001b[0m \u001b[0maStarSearchHelper\u001b[0m\u001b[0;34m(\u001b[0m\u001b[0mbestChild\u001b[0m\u001b[0;34m,\u001b[0m \u001b[0mactionsF\u001b[0m\u001b[0;34m,\u001b[0m \u001b[0mtakeActionF\u001b[0m\u001b[0;34m,\u001b[0m \u001b[0mgoalTestF\u001b[0m\u001b[0;34m,\u001b[0m \u001b[0mhF\u001b[0m\u001b[0;34m,\u001b[0m \u001b[0mmin\u001b[0m\u001b[0;34m(\u001b[0m\u001b[0mfmax\u001b[0m\u001b[0;34m,\u001b[0m\u001b[0malternativef\u001b[0m\u001b[0;34m)\u001b[0m\u001b[0;34m,\u001b[0m \u001b[0maStarCount\u001b[0m\u001b[0;34m)\u001b[0m \u001b[0;31m#Recursively calls A* helper function\u001b[0m\u001b[0;34m\u001b[0m\u001b[0m\n\u001b[0m\u001b[1;32m     27\u001b[0m         \u001b[0;32mif\u001b[0m \u001b[0mresult\u001b[0m \u001b[0;32mis\u001b[0m \u001b[0;32mnot\u001b[0m \u001b[0;34m\"failure\"\u001b[0m\u001b[0;34m:\u001b[0m                                          \u001b[0;31m#Checks for error\u001b[0m\u001b[0;34m\u001b[0m\u001b[0m\n\u001b[1;32m     28\u001b[0m             \u001b[0mresult\u001b[0m\u001b[0;34m.\u001b[0m\u001b[0minsert\u001b[0m\u001b[0;34m(\u001b[0m\u001b[0;36m0\u001b[0m\u001b[0;34m,\u001b[0m\u001b[0mparentNode\u001b[0m\u001b[0;34m.\u001b[0m\u001b[0mstate\u001b[0m\u001b[0;34m)\u001b[0m                                \u001b[0;31m#Adds parentState to path\u001b[0m\u001b[0;34m\u001b[0m\u001b[0m\n",
      "\u001b[0;32m<ipython-input-16-ee7ce5f74630>\u001b[0m in \u001b[0;36maStarSearchHelper\u001b[0;34m(parentNode, actionsF, takeActionF, goalTestF, hF, fmax, aStarCount)\u001b[0m\n\u001b[1;32m     24\u001b[0m         \u001b[0malternativef\u001b[0m \u001b[0;34m=\u001b[0m \u001b[0mchildren\u001b[0m\u001b[0;34m[\u001b[0m\u001b[0;36m1\u001b[0m\u001b[0;34m]\u001b[0m\u001b[0;34m.\u001b[0m\u001b[0mf\u001b[0m \u001b[0;32mif\u001b[0m \u001b[0mlen\u001b[0m\u001b[0;34m(\u001b[0m\u001b[0mchildren\u001b[0m\u001b[0;34m)\u001b[0m \u001b[0;34m>\u001b[0m \u001b[0;36m1\u001b[0m \u001b[0;32melse\u001b[0m \u001b[0mfloat\u001b[0m\u001b[0;34m(\u001b[0m\u001b[0;34m'inf'\u001b[0m\u001b[0;34m)\u001b[0m\u001b[0;34m\u001b[0m\u001b[0m\n\u001b[1;32m     25\u001b[0m         \u001b[0;31m# expand best child, reassign its f value to be returned value\u001b[0m\u001b[0;34m\u001b[0m\u001b[0;34m\u001b[0m\u001b[0m\n\u001b[0;32m---> 26\u001b[0;31m         \u001b[0mresult\u001b[0m\u001b[0;34m,\u001b[0m\u001b[0mbestChild\u001b[0m\u001b[0;34m.\u001b[0m\u001b[0mf\u001b[0m\u001b[0;34m,\u001b[0m\u001b[0maStarCount\u001b[0m\u001b[0;34m=\u001b[0m \u001b[0maStarSearchHelper\u001b[0m\u001b[0;34m(\u001b[0m\u001b[0mbestChild\u001b[0m\u001b[0;34m,\u001b[0m \u001b[0mactionsF\u001b[0m\u001b[0;34m,\u001b[0m \u001b[0mtakeActionF\u001b[0m\u001b[0;34m,\u001b[0m \u001b[0mgoalTestF\u001b[0m\u001b[0;34m,\u001b[0m \u001b[0mhF\u001b[0m\u001b[0;34m,\u001b[0m \u001b[0mmin\u001b[0m\u001b[0;34m(\u001b[0m\u001b[0mfmax\u001b[0m\u001b[0;34m,\u001b[0m\u001b[0malternativef\u001b[0m\u001b[0;34m)\u001b[0m\u001b[0;34m,\u001b[0m \u001b[0maStarCount\u001b[0m\u001b[0;34m)\u001b[0m \u001b[0;31m#Recursively calls A* helper function\u001b[0m\u001b[0;34m\u001b[0m\u001b[0m\n\u001b[0m\u001b[1;32m     27\u001b[0m         \u001b[0;32mif\u001b[0m \u001b[0mresult\u001b[0m \u001b[0;32mis\u001b[0m \u001b[0;32mnot\u001b[0m \u001b[0;34m\"failure\"\u001b[0m\u001b[0;34m:\u001b[0m                                          \u001b[0;31m#Checks for error\u001b[0m\u001b[0;34m\u001b[0m\u001b[0m\n\u001b[1;32m     28\u001b[0m             \u001b[0mresult\u001b[0m\u001b[0;34m.\u001b[0m\u001b[0minsert\u001b[0m\u001b[0;34m(\u001b[0m\u001b[0;36m0\u001b[0m\u001b[0;34m,\u001b[0m\u001b[0mparentNode\u001b[0m\u001b[0;34m.\u001b[0m\u001b[0mstate\u001b[0m\u001b[0;34m)\u001b[0m                                \u001b[0;31m#Adds parentState to path\u001b[0m\u001b[0;34m\u001b[0m\u001b[0m\n",
      "\u001b[0;32m<ipython-input-16-ee7ce5f74630>\u001b[0m in \u001b[0;36maStarSearchHelper\u001b[0;34m(parentNode, actionsF, takeActionF, goalTestF, hF, fmax, aStarCount)\u001b[0m\n\u001b[1;32m     24\u001b[0m         \u001b[0malternativef\u001b[0m \u001b[0;34m=\u001b[0m \u001b[0mchildren\u001b[0m\u001b[0;34m[\u001b[0m\u001b[0;36m1\u001b[0m\u001b[0;34m]\u001b[0m\u001b[0;34m.\u001b[0m\u001b[0mf\u001b[0m \u001b[0;32mif\u001b[0m \u001b[0mlen\u001b[0m\u001b[0;34m(\u001b[0m\u001b[0mchildren\u001b[0m\u001b[0;34m)\u001b[0m \u001b[0;34m>\u001b[0m \u001b[0;36m1\u001b[0m \u001b[0;32melse\u001b[0m \u001b[0mfloat\u001b[0m\u001b[0;34m(\u001b[0m\u001b[0;34m'inf'\u001b[0m\u001b[0;34m)\u001b[0m\u001b[0;34m\u001b[0m\u001b[0m\n\u001b[1;32m     25\u001b[0m         \u001b[0;31m# expand best child, reassign its f value to be returned value\u001b[0m\u001b[0;34m\u001b[0m\u001b[0;34m\u001b[0m\u001b[0m\n\u001b[0;32m---> 26\u001b[0;31m         \u001b[0mresult\u001b[0m\u001b[0;34m,\u001b[0m\u001b[0mbestChild\u001b[0m\u001b[0;34m.\u001b[0m\u001b[0mf\u001b[0m\u001b[0;34m,\u001b[0m\u001b[0maStarCount\u001b[0m\u001b[0;34m=\u001b[0m \u001b[0maStarSearchHelper\u001b[0m\u001b[0;34m(\u001b[0m\u001b[0mbestChild\u001b[0m\u001b[0;34m,\u001b[0m \u001b[0mactionsF\u001b[0m\u001b[0;34m,\u001b[0m \u001b[0mtakeActionF\u001b[0m\u001b[0;34m,\u001b[0m \u001b[0mgoalTestF\u001b[0m\u001b[0;34m,\u001b[0m \u001b[0mhF\u001b[0m\u001b[0;34m,\u001b[0m \u001b[0mmin\u001b[0m\u001b[0;34m(\u001b[0m\u001b[0mfmax\u001b[0m\u001b[0;34m,\u001b[0m\u001b[0malternativef\u001b[0m\u001b[0;34m)\u001b[0m\u001b[0;34m,\u001b[0m \u001b[0maStarCount\u001b[0m\u001b[0;34m)\u001b[0m \u001b[0;31m#Recursively calls A* helper function\u001b[0m\u001b[0;34m\u001b[0m\u001b[0m\n\u001b[0m\u001b[1;32m     27\u001b[0m         \u001b[0;32mif\u001b[0m \u001b[0mresult\u001b[0m \u001b[0;32mis\u001b[0m \u001b[0;32mnot\u001b[0m \u001b[0;34m\"failure\"\u001b[0m\u001b[0;34m:\u001b[0m                                          \u001b[0;31m#Checks for error\u001b[0m\u001b[0;34m\u001b[0m\u001b[0m\n\u001b[1;32m     28\u001b[0m             \u001b[0mresult\u001b[0m\u001b[0;34m.\u001b[0m\u001b[0minsert\u001b[0m\u001b[0;34m(\u001b[0m\u001b[0;36m0\u001b[0m\u001b[0;34m,\u001b[0m\u001b[0mparentNode\u001b[0m\u001b[0;34m.\u001b[0m\u001b[0mstate\u001b[0m\u001b[0;34m)\u001b[0m                                \u001b[0;31m#Adds parentState to path\u001b[0m\u001b[0;34m\u001b[0m\u001b[0m\n",
      "\u001b[0;32m<ipython-input-16-ee7ce5f74630>\u001b[0m in \u001b[0;36maStarSearchHelper\u001b[0;34m(parentNode, actionsF, takeActionF, goalTestF, hF, fmax, aStarCount)\u001b[0m\n\u001b[1;32m     24\u001b[0m         \u001b[0malternativef\u001b[0m \u001b[0;34m=\u001b[0m \u001b[0mchildren\u001b[0m\u001b[0;34m[\u001b[0m\u001b[0;36m1\u001b[0m\u001b[0;34m]\u001b[0m\u001b[0;34m.\u001b[0m\u001b[0mf\u001b[0m \u001b[0;32mif\u001b[0m \u001b[0mlen\u001b[0m\u001b[0;34m(\u001b[0m\u001b[0mchildren\u001b[0m\u001b[0;34m)\u001b[0m \u001b[0;34m>\u001b[0m \u001b[0;36m1\u001b[0m \u001b[0;32melse\u001b[0m \u001b[0mfloat\u001b[0m\u001b[0;34m(\u001b[0m\u001b[0;34m'inf'\u001b[0m\u001b[0;34m)\u001b[0m\u001b[0;34m\u001b[0m\u001b[0m\n\u001b[1;32m     25\u001b[0m         \u001b[0;31m# expand best child, reassign its f value to be returned value\u001b[0m\u001b[0;34m\u001b[0m\u001b[0;34m\u001b[0m\u001b[0m\n\u001b[0;32m---> 26\u001b[0;31m         \u001b[0mresult\u001b[0m\u001b[0;34m,\u001b[0m\u001b[0mbestChild\u001b[0m\u001b[0;34m.\u001b[0m\u001b[0mf\u001b[0m\u001b[0;34m,\u001b[0m\u001b[0maStarCount\u001b[0m\u001b[0;34m=\u001b[0m \u001b[0maStarSearchHelper\u001b[0m\u001b[0;34m(\u001b[0m\u001b[0mbestChild\u001b[0m\u001b[0;34m,\u001b[0m \u001b[0mactionsF\u001b[0m\u001b[0;34m,\u001b[0m \u001b[0mtakeActionF\u001b[0m\u001b[0;34m,\u001b[0m \u001b[0mgoalTestF\u001b[0m\u001b[0;34m,\u001b[0m \u001b[0mhF\u001b[0m\u001b[0;34m,\u001b[0m \u001b[0mmin\u001b[0m\u001b[0;34m(\u001b[0m\u001b[0mfmax\u001b[0m\u001b[0;34m,\u001b[0m\u001b[0malternativef\u001b[0m\u001b[0;34m)\u001b[0m\u001b[0;34m,\u001b[0m \u001b[0maStarCount\u001b[0m\u001b[0;34m)\u001b[0m \u001b[0;31m#Recursively calls A* helper function\u001b[0m\u001b[0;34m\u001b[0m\u001b[0m\n\u001b[0m\u001b[1;32m     27\u001b[0m         \u001b[0;32mif\u001b[0m \u001b[0mresult\u001b[0m \u001b[0;32mis\u001b[0m \u001b[0;32mnot\u001b[0m \u001b[0;34m\"failure\"\u001b[0m\u001b[0;34m:\u001b[0m                                          \u001b[0;31m#Checks for error\u001b[0m\u001b[0;34m\u001b[0m\u001b[0m\n\u001b[1;32m     28\u001b[0m             \u001b[0mresult\u001b[0m\u001b[0;34m.\u001b[0m\u001b[0minsert\u001b[0m\u001b[0;34m(\u001b[0m\u001b[0;36m0\u001b[0m\u001b[0;34m,\u001b[0m\u001b[0mparentNode\u001b[0m\u001b[0;34m.\u001b[0m\u001b[0mstate\u001b[0m\u001b[0;34m)\u001b[0m                                \u001b[0;31m#Adds parentState to path\u001b[0m\u001b[0;34m\u001b[0m\u001b[0m\n",
      "\u001b[0;32m<ipython-input-16-ee7ce5f74630>\u001b[0m in \u001b[0;36maStarSearchHelper\u001b[0;34m(parentNode, actionsF, takeActionF, goalTestF, hF, fmax, aStarCount)\u001b[0m\n\u001b[1;32m     24\u001b[0m         \u001b[0malternativef\u001b[0m \u001b[0;34m=\u001b[0m \u001b[0mchildren\u001b[0m\u001b[0;34m[\u001b[0m\u001b[0;36m1\u001b[0m\u001b[0;34m]\u001b[0m\u001b[0;34m.\u001b[0m\u001b[0mf\u001b[0m \u001b[0;32mif\u001b[0m \u001b[0mlen\u001b[0m\u001b[0;34m(\u001b[0m\u001b[0mchildren\u001b[0m\u001b[0;34m)\u001b[0m \u001b[0;34m>\u001b[0m \u001b[0;36m1\u001b[0m \u001b[0;32melse\u001b[0m \u001b[0mfloat\u001b[0m\u001b[0;34m(\u001b[0m\u001b[0;34m'inf'\u001b[0m\u001b[0;34m)\u001b[0m\u001b[0;34m\u001b[0m\u001b[0m\n\u001b[1;32m     25\u001b[0m         \u001b[0;31m# expand best child, reassign its f value to be returned value\u001b[0m\u001b[0;34m\u001b[0m\u001b[0;34m\u001b[0m\u001b[0m\n\u001b[0;32m---> 26\u001b[0;31m         \u001b[0mresult\u001b[0m\u001b[0;34m,\u001b[0m\u001b[0mbestChild\u001b[0m\u001b[0;34m.\u001b[0m\u001b[0mf\u001b[0m\u001b[0;34m,\u001b[0m\u001b[0maStarCount\u001b[0m\u001b[0;34m=\u001b[0m \u001b[0maStarSearchHelper\u001b[0m\u001b[0;34m(\u001b[0m\u001b[0mbestChild\u001b[0m\u001b[0;34m,\u001b[0m \u001b[0mactionsF\u001b[0m\u001b[0;34m,\u001b[0m \u001b[0mtakeActionF\u001b[0m\u001b[0;34m,\u001b[0m \u001b[0mgoalTestF\u001b[0m\u001b[0;34m,\u001b[0m \u001b[0mhF\u001b[0m\u001b[0;34m,\u001b[0m \u001b[0mmin\u001b[0m\u001b[0;34m(\u001b[0m\u001b[0mfmax\u001b[0m\u001b[0;34m,\u001b[0m\u001b[0malternativef\u001b[0m\u001b[0;34m)\u001b[0m\u001b[0;34m,\u001b[0m \u001b[0maStarCount\u001b[0m\u001b[0;34m)\u001b[0m \u001b[0;31m#Recursively calls A* helper function\u001b[0m\u001b[0;34m\u001b[0m\u001b[0m\n\u001b[0m\u001b[1;32m     27\u001b[0m         \u001b[0;32mif\u001b[0m \u001b[0mresult\u001b[0m \u001b[0;32mis\u001b[0m \u001b[0;32mnot\u001b[0m \u001b[0;34m\"failure\"\u001b[0m\u001b[0;34m:\u001b[0m                                          \u001b[0;31m#Checks for error\u001b[0m\u001b[0;34m\u001b[0m\u001b[0m\n\u001b[1;32m     28\u001b[0m             \u001b[0mresult\u001b[0m\u001b[0;34m.\u001b[0m\u001b[0minsert\u001b[0m\u001b[0;34m(\u001b[0m\u001b[0;36m0\u001b[0m\u001b[0;34m,\u001b[0m\u001b[0mparentNode\u001b[0m\u001b[0;34m.\u001b[0m\u001b[0mstate\u001b[0m\u001b[0;34m)\u001b[0m                                \u001b[0;31m#Adds parentState to path\u001b[0m\u001b[0;34m\u001b[0m\u001b[0m\n",
      "\u001b[0;32m<ipython-input-16-ee7ce5f74630>\u001b[0m in \u001b[0;36maStarSearchHelper\u001b[0;34m(parentNode, actionsF, takeActionF, goalTestF, hF, fmax, aStarCount)\u001b[0m\n\u001b[1;32m      8\u001b[0m     \u001b[0mchildren\u001b[0m \u001b[0;34m=\u001b[0m \u001b[0;34m[\u001b[0m\u001b[0;34m]\u001b[0m                                                            \u001b[0;31m#Initializes list of children nodes\u001b[0m\u001b[0;34m\u001b[0m\u001b[0m\n\u001b[1;32m      9\u001b[0m     \u001b[0;32mfor\u001b[0m \u001b[0maction\u001b[0m \u001b[0;32min\u001b[0m \u001b[0mactions\u001b[0m\u001b[0;34m:\u001b[0m                                                   \u001b[0;31m#Loops through list of actions\u001b[0m\u001b[0;34m\u001b[0m\u001b[0m\n\u001b[0;32m---> 10\u001b[0;31m         \u001b[0;34m(\u001b[0m\u001b[0mchildState\u001b[0m\u001b[0;34m,\u001b[0m\u001b[0mstepCost\u001b[0m\u001b[0;34m)\u001b[0m \u001b[0;34m=\u001b[0m \u001b[0mtakeActionF\u001b[0m\u001b[0;34m(\u001b[0m\u001b[0mparentNode\u001b[0m\u001b[0;34m.\u001b[0m\u001b[0mstate\u001b[0m\u001b[0;34m,\u001b[0m \u001b[0maction\u001b[0m\u001b[0;34m)\u001b[0m        \u001b[0;31m#Gets childState and stepCost from action\u001b[0m\u001b[0;34m\u001b[0m\u001b[0m\n\u001b[0m\u001b[1;32m     11\u001b[0m         \u001b[0mh\u001b[0m \u001b[0;34m=\u001b[0m \u001b[0mhF\u001b[0m\u001b[0;34m(\u001b[0m\u001b[0mchildState\u001b[0m\u001b[0;34m)\u001b[0m                                                   \u001b[0;31m#Gets heuristic cost of childState\u001b[0m\u001b[0;34m\u001b[0m\u001b[0m\n\u001b[1;32m     12\u001b[0m         \u001b[0mg\u001b[0m \u001b[0;34m=\u001b[0m \u001b[0mparentNode\u001b[0m\u001b[0;34m.\u001b[0m\u001b[0mg\u001b[0m \u001b[0;34m+\u001b[0m \u001b[0mstepCost\u001b[0m                                          \u001b[0;31m#Gets parentNode stepCost + childNode stepCost\u001b[0m\u001b[0;34m\u001b[0m\u001b[0m\n",
      "\u001b[0;32m<ipython-input-9-b22a521d20a6>\u001b[0m in \u001b[0;36mtakeActionF_8p\u001b[0;34m(state, step)\u001b[0m\n\u001b[1;32m      9\u001b[0m     \u001b[0;32mif\u001b[0m\u001b[0;34m(\u001b[0m\u001b[0mmove\u001b[0m \u001b[0;34m==\u001b[0m \u001b[0;34m\"up\"\u001b[0m \u001b[0;32mand\u001b[0m \u001b[0;34m(\u001b[0m\u001b[0;34m\"up\"\u001b[0m\u001b[0;34m,\u001b[0m\u001b[0;36m1\u001b[0m\u001b[0;34m)\u001b[0m \u001b[0;32min\u001b[0m \u001b[0mactionsF_8p\u001b[0m\u001b[0;34m(\u001b[0m\u001b[0mstate\u001b[0m\u001b[0;34m)\u001b[0m\u001b[0;34m)\u001b[0m\u001b[0;34m:\u001b[0m            \u001b[0;31m#If move is up\u001b[0m\u001b[0;34m\u001b[0m\u001b[0m\n\u001b[1;32m     10\u001b[0m         \u001b[0msucc\u001b[0m\u001b[0;34m[\u001b[0m\u001b[0mind\u001b[0m\u001b[0;34m]\u001b[0m\u001b[0;34m,\u001b[0m \u001b[0msucc\u001b[0m\u001b[0;34m[\u001b[0m\u001b[0mind\u001b[0m \u001b[0;34m-\u001b[0m \u001b[0;36m3\u001b[0m\u001b[0;34m]\u001b[0m \u001b[0;34m=\u001b[0m \u001b[0msucc\u001b[0m\u001b[0;34m[\u001b[0m\u001b[0mind\u001b[0m \u001b[0;34m-\u001b[0m \u001b[0;36m3\u001b[0m\u001b[0;34m]\u001b[0m\u001b[0;34m,\u001b[0m \u001b[0msucc\u001b[0m\u001b[0;34m[\u001b[0m\u001b[0mind\u001b[0m\u001b[0;34m]\u001b[0m    \u001b[0;31m#Swaps blank tile and above tile\u001b[0m\u001b[0;34m\u001b[0m\u001b[0m\n\u001b[0;32m---> 11\u001b[0;31m     \u001b[0;32mif\u001b[0m\u001b[0;34m(\u001b[0m\u001b[0mmove\u001b[0m \u001b[0;34m==\u001b[0m \u001b[0;34m\"down\"\u001b[0m \u001b[0;32mand\u001b[0m \u001b[0;34m(\u001b[0m\u001b[0;34m\"down\"\u001b[0m\u001b[0;34m,\u001b[0m\u001b[0;36m1\u001b[0m\u001b[0;34m)\u001b[0m \u001b[0;32min\u001b[0m \u001b[0mactionsF_8p\u001b[0m\u001b[0;34m(\u001b[0m\u001b[0mstate\u001b[0m\u001b[0;34m)\u001b[0m\u001b[0;34m)\u001b[0m\u001b[0;34m:\u001b[0m        \u001b[0;31m#If move is down\u001b[0m\u001b[0;34m\u001b[0m\u001b[0m\n\u001b[0m\u001b[1;32m     12\u001b[0m         \u001b[0msucc\u001b[0m\u001b[0;34m[\u001b[0m\u001b[0mind\u001b[0m\u001b[0;34m]\u001b[0m\u001b[0;34m,\u001b[0m \u001b[0msucc\u001b[0m\u001b[0;34m[\u001b[0m\u001b[0mind\u001b[0m \u001b[0;34m+\u001b[0m \u001b[0;36m3\u001b[0m\u001b[0;34m]\u001b[0m \u001b[0;34m=\u001b[0m \u001b[0msucc\u001b[0m\u001b[0;34m[\u001b[0m\u001b[0mind\u001b[0m \u001b[0;34m+\u001b[0m \u001b[0;36m3\u001b[0m\u001b[0;34m]\u001b[0m\u001b[0;34m,\u001b[0m \u001b[0msucc\u001b[0m\u001b[0;34m[\u001b[0m\u001b[0mind\u001b[0m\u001b[0;34m]\u001b[0m    \u001b[0;31m#Swaps blank tile and lower tile\u001b[0m\u001b[0;34m\u001b[0m\u001b[0m\n\u001b[1;32m     13\u001b[0m \u001b[0;34m\u001b[0m\u001b[0m\n",
      "\u001b[0;32m<ipython-input-8-a1012f99fad1>\u001b[0m in \u001b[0;36mactionsF_8p\u001b[0;34m(state)\u001b[0m\n\u001b[1;32m      1\u001b[0m \u001b[0;32mdef\u001b[0m \u001b[0mactionsF_8p\u001b[0m\u001b[0;34m(\u001b[0m\u001b[0mstate\u001b[0m\u001b[0;34m)\u001b[0m\u001b[0;34m:\u001b[0m\u001b[0;34m\u001b[0m\u001b[0m\n\u001b[1;32m      2\u001b[0m     \u001b[0mactions\u001b[0m \u001b[0;34m=\u001b[0m \u001b[0;34m[\u001b[0m\u001b[0;34m]\u001b[0m                                 \u001b[0;31m#Initialize list of possible actions\u001b[0m\u001b[0;34m\u001b[0m\u001b[0m\n\u001b[0;32m----> 3\u001b[0;31m     \u001b[0mx\u001b[0m\u001b[0;34m,\u001b[0m \u001b[0my\u001b[0m \u001b[0;34m=\u001b[0m \u001b[0mfindBlank_8p\u001b[0m\u001b[0;34m(\u001b[0m\u001b[0mstate\u001b[0m\u001b[0;34m)\u001b[0m                   \u001b[0;31m#Finds x, y coordinates of blank tile\u001b[0m\u001b[0;34m\u001b[0m\u001b[0m\n\u001b[0m\u001b[1;32m      4\u001b[0m \u001b[0;34m\u001b[0m\u001b[0m\n\u001b[1;32m      5\u001b[0m     \u001b[0;32mif\u001b[0m\u001b[0;34m(\u001b[0m\u001b[0my\u001b[0m \u001b[0;34m!=\u001b[0m \u001b[0;36m0\u001b[0m\u001b[0;34m)\u001b[0m\u001b[0;34m:\u001b[0m \u001b[0mactions\u001b[0m\u001b[0;34m.\u001b[0m\u001b[0mappend\u001b[0m\u001b[0;34m(\u001b[0m\u001b[0;34m(\u001b[0m\u001b[0;34m\"left\"\u001b[0m\u001b[0;34m,\u001b[0m \u001b[0;36m1\u001b[0m\u001b[0;34m)\u001b[0m\u001b[0;34m)\u001b[0m      \u001b[0;31m#Checks if tile can move left, right, up, or down based on\u001b[0m\u001b[0;34m\u001b[0m\u001b[0m\n",
      "\u001b[0;32m<ipython-input-7-452ba975c4de>\u001b[0m in \u001b[0;36mfindBlank_8p\u001b[0;34m(state)\u001b[0m\n\u001b[1;32m      1\u001b[0m \u001b[0;32mdef\u001b[0m \u001b[0mfindBlank_8p\u001b[0m\u001b[0;34m(\u001b[0m\u001b[0mstate\u001b[0m\u001b[0;34m)\u001b[0m\u001b[0;34m:\u001b[0m\u001b[0;34m\u001b[0m\u001b[0m\n\u001b[0;32m----> 2\u001b[0;31m     \u001b[0;32mreturn\u001b[0m \u001b[0mfindTile_8p\u001b[0m\u001b[0;34m(\u001b[0m\u001b[0mstate\u001b[0m\u001b[0;34m,\u001b[0m \u001b[0;36m0\u001b[0m\u001b[0;34m)\u001b[0m         \u001b[0;31m#Calls find tile function with input of state and 0 which is blank tile\u001b[0m\u001b[0;34m\u001b[0m\u001b[0m\n\u001b[0m\u001b[1;32m      3\u001b[0m \u001b[0;34m\u001b[0m\u001b[0m\n\u001b[1;32m      4\u001b[0m \u001b[0mstartState\u001b[0m \u001b[0;34m=\u001b[0m \u001b[0;34m[\u001b[0m\u001b[0;36m1\u001b[0m\u001b[0;34m,\u001b[0m \u001b[0;36m2\u001b[0m\u001b[0;34m,\u001b[0m \u001b[0;36m3\u001b[0m\u001b[0;34m,\u001b[0m \u001b[0;36m4\u001b[0m\u001b[0;34m,\u001b[0m \u001b[0;36m5\u001b[0m\u001b[0;34m,\u001b[0m \u001b[0;36m0\u001b[0m\u001b[0;34m,\u001b[0m \u001b[0;36m6\u001b[0m\u001b[0;34m,\u001b[0m \u001b[0;36m7\u001b[0m\u001b[0;34m,\u001b[0m \u001b[0;36m8\u001b[0m\u001b[0;34m]\u001b[0m \u001b[0;31m#Example problem\u001b[0m\u001b[0;34m\u001b[0m\u001b[0m\n\u001b[1;32m      5\u001b[0m \u001b[0mprintState_8p\u001b[0m\u001b[0;34m(\u001b[0m\u001b[0mstartState\u001b[0m\u001b[0;34m)\u001b[0m\u001b[0;34m\u001b[0m\u001b[0m\n",
      "\u001b[0;32m<ipython-input-6-d6c5f302d6c3>\u001b[0m in \u001b[0;36mfindTile_8p\u001b[0;34m(state, tile)\u001b[0m\n\u001b[1;32m      1\u001b[0m \u001b[0;32mdef\u001b[0m \u001b[0mfindTile_8p\u001b[0m\u001b[0;34m(\u001b[0m\u001b[0mstate\u001b[0m\u001b[0;34m,\u001b[0m \u001b[0mtile\u001b[0m\u001b[0;34m)\u001b[0m\u001b[0;34m:\u001b[0m\u001b[0;34m\u001b[0m\u001b[0m\n\u001b[0;32m----> 2\u001b[0;31m     \u001b[0;32mfor\u001b[0m \u001b[0mind\u001b[0m\u001b[0;34m,\u001b[0m \u001b[0mval\u001b[0m \u001b[0;32min\u001b[0m \u001b[0menumerate\u001b[0m\u001b[0;34m(\u001b[0m\u001b[0mstate\u001b[0m\u001b[0;34m)\u001b[0m\u001b[0;34m:\u001b[0m    \u001b[0;31m#Loops through array\u001b[0m\u001b[0;34m\u001b[0m\u001b[0m\n\u001b[0m\u001b[1;32m      3\u001b[0m         \u001b[0;32mif\u001b[0m \u001b[0mval\u001b[0m \u001b[0;34m==\u001b[0m \u001b[0mtile\u001b[0m\u001b[0;34m:\u001b[0m                  \u001b[0;31m#When tile is found\u001b[0m\u001b[0;34m\u001b[0m\u001b[0m\n\u001b[1;32m      4\u001b[0m             \u001b[0mx\u001b[0m \u001b[0;34m=\u001b[0m \u001b[0mint\u001b[0m\u001b[0;34m(\u001b[0m\u001b[0mind\u001b[0m\u001b[0;34m/\u001b[0m\u001b[0;36m3\u001b[0m\u001b[0;34m)\u001b[0m               \u001b[0;31m#Set x-coordinate to row of 3x3\u001b[0m\u001b[0;34m\u001b[0m\u001b[0m\n\u001b[1;32m      5\u001b[0m             \u001b[0my\u001b[0m \u001b[0;34m=\u001b[0m \u001b[0mind\u001b[0m\u001b[0;34m%\u001b[0m\u001b[0;36m3\u001b[0m                    \u001b[0;31m#Set y-coordinate to column of 3x3\u001b[0m\u001b[0;34m\u001b[0m\u001b[0m\n",
      "\u001b[0;31mKeyboardInterrupt\u001b[0m: "
     ]
    }
   ],
   "source": [
    "goalState3 = [1, 2, 3, 4, 0, 5, 6, 8, 7]\n",
    "aStarPathH3 = aStarSearch([1, 2, 3, 4, 5, 7, 8, 6, 0], actionsF_8p, takeActionF_8p, lambda s: goalTestF_8p(s, goalState3), lambda s: h2_8p(s, goalState3), True)\n",
    "aStarPathH3"
   ]
  },
  {
   "cell_type": "code",
   "execution_count": null,
   "metadata": {
    "collapsed": true
   },
   "outputs": [],
   "source": [
    "%run -i A3grader.py\n",
    "\n",
    "\n",
    "\n",
    "\n",
    "\n"
   ]
  },
  {
   "cell_type": "code",
   "execution_count": null,
   "metadata": {
    "collapsed": true
   },
   "outputs": [],
   "source": []
  }
 ],
 "metadata": {
  "kernelspec": {
   "display_name": "Python 3",
   "language": "python",
   "name": "python3"
  },
  "language_info": {
   "codemirror_mode": {
    "name": "ipython",
    "version": 3
   },
   "file_extension": ".py",
   "mimetype": "text/x-python",
   "name": "python",
   "nbconvert_exporter": "python",
   "pygments_lexer": "ipython3",
   "version": "3.6.3"
  }
 },
 "nbformat": 4,
 "nbformat_minor": 2
}
