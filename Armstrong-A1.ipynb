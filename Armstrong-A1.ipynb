{
 "cells": [
  {
   "cell_type": "markdown",
   "metadata": {},
   "source": [
    "Successors example given from notes."
   ]
  },
  {
   "cell_type": "code",
   "execution_count": 46,
   "metadata": {},
   "outputs": [
    {
     "data": {
      "text/plain": [
       "{'a': ['b'],\n",
       " 'b': ['c', 'd'],\n",
       " 'c': ['e'],\n",
       " 'd': ['f', 'i'],\n",
       " 'e': ['g', 'h', 'i']}"
      ]
     },
     "execution_count": 46,
     "metadata": {},
     "output_type": "execute_result"
    }
   ],
   "source": [
    "successors =  {'a': ['b'], 'b': ['c', 'd'], 'c': ['e'], 'd': ['f', 'i'], 'e': ['g', 'h', 'i']}\n",
    "successors"
   ]
  },
  {
   "cell_type": "markdown",
   "metadata": {},
   "source": [
    "Successor function given from notes."
   ]
  },
  {
   "cell_type": "code",
   "execution_count": 47,
   "metadata": {},
   "outputs": [
    {
     "data": {
      "text/plain": [
       "['g', 'h', 'i']"
      ]
     },
     "execution_count": 47,
     "metadata": {},
     "output_type": "execute_result"
    }
   ],
   "source": [
    "import copy\n",
    "\n",
    "def successorsf(state):\n",
    "    return copy.copy(successors.get(state, []))\n",
    "\n",
    "successorsf('e')"
   ]
  },
  {
   "cell_type": "markdown",
   "metadata": {},
   "source": [
    "Grid successor function given from notes."
   ]
  },
  {
   "cell_type": "code",
   "execution_count": 48,
   "metadata": {},
   "outputs": [
    {
     "data": {
      "text/plain": [
       "[(0, 0), (0, 1), (1, 0), (1, 1)]"
      ]
     },
     "execution_count": 48,
     "metadata": {},
     "output_type": "execute_result"
    }
   ],
   "source": [
    "def gridSuccessors(state):\n",
    "    row, col = state\n",
    "    # succs will be list of tuples () rather than list of lists [] because state must\n",
    "    # be an immutable type to serve as a key in dictionary of expanded nodes\n",
    "    succs = []\n",
    "    for r in [-1, 0, 1]:   #check each row\n",
    "        for c in [-1, 0, 1]:  # check in each col\n",
    "            newr = row + r\n",
    "            newc = col + c\n",
    "            if 0 <= newr <= 9 and 0 <= newc <= 9:  \n",
    "                succs.append( (newr, newc) )\n",
    "    return succs\n",
    "\n",
    "gridSuccessors([0,0])"
   ]
  },
  {
   "cell_type": "markdown",
   "metadata": {},
   "source": [
    "Camel successor function\n",
    "\n",
    "Input: tuple containing at least one 'L' and at least one 'R' and at least one ' '. Example ('R', 'R', 'R', 'R', ' ', 'L', 'L', 'L', 'L')\n",
    "\n",
    "Output: returns array of tuples. The array is length m where m is the number of ' ' times 2. The tuples are the input where the ' ' and the nearest right 'L' have been swapped and where the ' ' and the nearest left 'R' have been swapped. Example ('R', 'R', 'R', 'R', 'L', ' ', 'L', 'L', 'L'), ('R', 'R', 'R', ' ', 'R', 'L', 'L', 'L', 'L')\n",
    "\n",
    "Exceptions: Using any characters other then ' ', 'R', 'L'. Not having any 'L' right of the ' '. Not having any 'R' left of the ' '.\n",
    "\n",
    "Description: The Camel Successor function returns the possible states: the ' ' is swapped with the nearest right 'L' and the ' ' is swapped with the nearest left 'R'.\n",
    "\n",
    "Observations: The function works even if you have more than one ' '. \n",
    "\n",
    "Difficulties: I was a little confused in the beggining by how to implement the structure especially using tuples and being new to python."
   ]
  },
  {
   "cell_type": "code",
   "execution_count": 49,
   "metadata": {},
   "outputs": [
    {
     "name": "stdout",
     "output_type": "stream",
     "text": [
      "('R', 'R', 'R', ' ', 'R', 'L', 'L', 'L', 'L')\n",
      "Breadth-first solution: ( 25 steps)\n",
      "('R', 'R', 'R', 'R', ' ', 'L', 'L', 'L', 'L')\n",
      "('R', 'R', 'R', ' ', 'R', 'L', 'L', 'L', 'L')\n",
      "('R', 'R', ' ', 'R', 'R', 'L', 'L', 'L', 'L')\n",
      "('R', ' ', 'R', 'R', 'R', 'L', 'L', 'L', 'L')\n",
      "(' ', 'R', 'R', 'R', 'R', 'L', 'L', 'L', 'L')\n",
      "('L', 'R', 'R', 'R', 'R', ' ', 'L', 'L', 'L')\n",
      "('L', 'R', 'R', 'R', ' ', 'R', 'L', 'L', 'L')\n",
      "('L', 'R', 'R', ' ', 'R', 'R', 'L', 'L', 'L')\n",
      "('L', 'R', ' ', 'R', 'R', 'R', 'L', 'L', 'L')\n",
      "('L', ' ', 'R', 'R', 'R', 'R', 'L', 'L', 'L')\n",
      "('L', 'L', 'R', 'R', 'R', 'R', ' ', 'L', 'L')\n",
      "('L', 'L', 'R', 'R', 'R', ' ', 'R', 'L', 'L')\n",
      "('L', 'L', 'R', 'R', ' ', 'R', 'R', 'L', 'L')\n",
      "('L', 'L', 'R', ' ', 'R', 'R', 'R', 'L', 'L')\n",
      "('L', 'L', ' ', 'R', 'R', 'R', 'R', 'L', 'L')\n",
      "('L', 'L', 'L', 'R', 'R', 'R', 'R', ' ', 'L')\n",
      "('L', 'L', 'L', 'R', 'R', 'R', ' ', 'R', 'L')\n",
      "('L', 'L', 'L', 'R', 'R', ' ', 'R', 'R', 'L')\n",
      "('L', 'L', 'L', 'R', ' ', 'R', 'R', 'R', 'L')\n",
      "('L', 'L', 'L', ' ', 'R', 'R', 'R', 'R', 'L')\n",
      "('L', 'L', 'L', 'L', 'R', 'R', 'R', 'R', ' ')\n",
      "('L', 'L', 'L', 'L', 'R', 'R', 'R', ' ', 'R')\n",
      "('L', 'L', 'L', 'L', 'R', 'R', ' ', 'R', 'R')\n",
      "('L', 'L', 'L', 'L', 'R', ' ', 'R', 'R', 'R')\n",
      "('L', 'L', 'L', 'L', ' ', 'R', 'R', 'R', 'R')\n",
      "Depth-first solution: ( 25 steps)\n",
      "('R', 'R', 'R', 'R', ' ', 'L', 'L', 'L', 'L')\n",
      "('R', 'R', 'R', ' ', 'R', 'L', 'L', 'L', 'L')\n",
      "('R', 'R', ' ', 'R', 'R', 'L', 'L', 'L', 'L')\n",
      "('R', ' ', 'R', 'R', 'R', 'L', 'L', 'L', 'L')\n",
      "(' ', 'R', 'R', 'R', 'R', 'L', 'L', 'L', 'L')\n",
      "('L', 'R', 'R', 'R', 'R', ' ', 'L', 'L', 'L')\n",
      "('L', 'R', 'R', 'R', ' ', 'R', 'L', 'L', 'L')\n",
      "('L', 'R', 'R', ' ', 'R', 'R', 'L', 'L', 'L')\n",
      "('L', 'R', ' ', 'R', 'R', 'R', 'L', 'L', 'L')\n",
      "('L', ' ', 'R', 'R', 'R', 'R', 'L', 'L', 'L')\n",
      "('L', 'L', 'R', 'R', 'R', 'R', ' ', 'L', 'L')\n",
      "('L', 'L', 'R', 'R', 'R', ' ', 'R', 'L', 'L')\n",
      "('L', 'L', 'R', 'R', ' ', 'R', 'R', 'L', 'L')\n",
      "('L', 'L', 'R', ' ', 'R', 'R', 'R', 'L', 'L')\n",
      "('L', 'L', ' ', 'R', 'R', 'R', 'R', 'L', 'L')\n",
      "('L', 'L', 'L', 'R', 'R', 'R', 'R', ' ', 'L')\n",
      "('L', 'L', 'L', 'R', 'R', 'R', ' ', 'R', 'L')\n",
      "('L', 'L', 'L', 'R', 'R', ' ', 'R', 'R', 'L')\n",
      "('L', 'L', 'L', 'R', ' ', 'R', 'R', 'R', 'L')\n",
      "('L', 'L', 'L', ' ', 'R', 'R', 'R', 'R', 'L')\n",
      "('L', 'L', 'L', 'L', 'R', 'R', 'R', 'R', ' ')\n",
      "('L', 'L', 'L', 'L', 'R', 'R', 'R', ' ', 'R')\n",
      "('L', 'L', 'L', 'L', 'R', 'R', ' ', 'R', 'R')\n",
      "('L', 'L', 'L', 'L', 'R', ' ', 'R', 'R', 'R')\n",
      "('L', 'L', 'L', 'L', ' ', 'R', 'R', 'R', 'R')\n"
     ]
    }
   ],
   "source": [
    "def camelSuccessorsf(state):\n",
    "    succs = []                                                                                #Empty array is created\n",
    "    for i, v in enumerate(state):                                                             #Loops through tuple input\n",
    "        if v == ' ':                                                                          #Finds ' ' in tuple\n",
    "            for i2, v2 in enumerate(state[i+1:]):                                             #Finds nearest 'L' right of ' '\n",
    "                if v2 == 'L':\n",
    "                    left = state[:i] + ('L',) + state[i+1:i2+i+1] + (' ',) + state[i2+i+2:]   #Swaps 'L' and ' '\n",
    "                    succs.append(left)                                                        #Adds new tuple to array\n",
    "                    break\n",
    "            temp = state[::-1]                                                                #Reverses tuple input\n",
    "            k = len(state)-1-i                                                                #Repeats same process as above\n",
    "            for i3, v3 in enumerate(temp[k+1:]):                                              #except with 'R' instead of 'L'\n",
    "                if v3 == 'R':\n",
    "                    right = temp[:k] + ('R',) + temp[k+1:i3+k+1] + (' ',) + temp[i3+k+2:]\n",
    "                    succs.insert(0, (right[::-1]))                                               \n",
    "                    break\n",
    "        \n",
    "    return succs                                                                              #Returns list of tuple children\n",
    "\n",
    "camelStartState = ('R', 'R', 'R', 'R', ' ', 'L', 'L', 'L', 'L')\n",
    "camelGoalState = ('L', 'L', 'L', 'L', ' ', 'R', 'R', 'R', 'R')\n",
    "camelSuccessorsf(camelStartState)\n",
    "\n",
    "children = camelSuccessorsf(camelStartState)\n",
    "print(children[0])\n",
    "camelSuccessorsf(children[0])\n",
    "\n",
    "bfs = breadthFirstSearch(camelStartState, camelGoalState, camelSuccessorsf)\n",
    "print('Breadth-first solution: (', len(bfs), 'steps)')\n",
    "for s in bfs:\n",
    "    print(s)\n",
    "\n",
    "dfs = depthFirstSearch(camelStartState, camelGoalState, camelSuccessorsf)\n",
    "print('Depth-first solution: (', len(dfs), 'steps)')\n",
    "for s in dfs:\n",
    "    print(s)"
   ]
  },
  {
   "cell_type": "markdown",
   "metadata": {},
   "source": [
    "UninformedSearch Function can be either Breadth First Search or Depth First Search Algorithm\n",
    "\n",
    "Input: startState is the initial state.<br>\n",
    "goalState is the end state. Must be reachable from successors function or will return could not find message.<br>\n",
    "successorf is the function that will return the children of parent state.<br>\n",
    "breadthFirst is a boolean if breadth first search is wanted set to true if depth first search is wanted set to false.<br>\n",
    "\n",
    "Output: will return list of keys that start with startState and then a path to the goalState.\n",
    "\n",
    "Exceptions: There is no path from startState to goalState. The startState and goalState can't be inputted into successorsf.\n",
    "\n",
    "Description: Takes a startState and searches through graph structure until it finds the goalState using bfs or dfs. \n",
    "\n",
    "Observations: Using an array to keep track of visited nodes and checking array before adding children to unexpanded is an alternative method to removing children. BFS finding an optimal path was very convenient, compared to DFS where some of the solution paths returned were confusing and hard to retrace. I liked how concise coding in python could be. \n",
    "\n",
    "Difficulties: Being new to python I had some trouble understanding the data structures dictionary, tuple, etc. I ran in to a lot of inifinite loops while testing code."
   ]
  },
  {
   "cell_type": "code",
   "execution_count": 50,
   "metadata": {},
   "outputs": [
    {
     "name": "stdout",
     "output_type": "stream",
     "text": [
      "\n",
      "======================= Code Execution =======================\n",
      "\n",
      "Extracting python code from notebook named 'Armstrong-A1.ipynb' and storing in notebookcode.py\n",
      "Removing all statements that are not function or class defs or import statements.\n",
      "Searching this graph:\n",
      " {'a': ['b'], 'b': ['c', 'd'], 'c': ['e'], 'd': ['f', 'i'], 'e': ['g', 'h', 'i']}\n",
      "\n",
      "Looking for path from a to b.\n",
      "  Calling breadthFirstSearch(a, b, successorsf)\n",
      "      and depthFirstSearch(a, b, successorsf)\n",
      "10/10 points. Your breadthFirstSearch found correct solution path of ['a', 'b']\n",
      "10/10 points. Your depthFirstSearch found correct solution path of ['a', 'b']\n",
      "\n",
      "Looking for path from a to i.\n",
      "  Calling breadthFirstSearch(a, i, successorsf)\n",
      "      and depthFirstSearch(a, i, successorsf)\n",
      "20/20 points. Your breadthFirstSearch found correct solution path of ['a', 'b', 'd', 'i']\n",
      "20/20 points. Your depthFirstSearch found correct solution path of ['a', 'b', 'c', 'e', 'i']\n",
      "\n",
      "Looking for non-existant path from a to denver.\n",
      "  Calling breadthFirstSearch(a, denver, successorsf)\n",
      "      and depthFirstSearch(a, denver, successorsf)\n",
      "10/10 points. Your breadthFirstSearch found correct solution path of Goal not found\n",
      "10/10 points. Your depthFirstSearch found correct solution path of Goal not found\n",
      "\n",
      "sarmst Execution Grade is 80/80\n",
      "\n",
      "======================= Description of Code and Results =======================\n",
      "\n",
      "Up to 20 more points will be given based on the qualty of your descriptions of the method and the results.\n"
     ]
    }
   ],
   "source": [
    "def uninformedSearch(startState, goalState, successorsf, breadthFirst):\n",
    "    expanded = {}                                                           #Initialize expanded to be an empty dictionary\n",
    "    unExpanded = {startState:None}                                          #Initialize unExpanded to be a list containing the pair (startState, None)\n",
    "    if startState == goalState: return print(\"[\" + str(startState) + \"]\")   #If startState is the goalState, return the list containing just startState\n",
    "    removedChildren = {}                                                    #Array to hold removed children instead of modifying data structure\n",
    "    index = 0 if breadthFirst else -1                                       #Index will take either the first value from unExpanded\n",
    "                                                                            #if breadthFirst is true or the last value if false\n",
    "    while unExpanded != {}:                                                 #Repeat the following steps while unExpanded is not empty:\n",
    "        \n",
    "        key, value = list(unExpanded.items())[index]                        #Pop from the end/beginning of unExpanded a (state, parent) pair.\n",
    "        unExpanded.pop(key)\n",
    "        removedChildren[key] = True                                         #Add popped key to removedChildren list   \n",
    "\n",
    "        for i in reversed(sorted(successorsf(key))):                        #Generate the children of state using the successorsf function.\n",
    "            if removedChildren.get(i, False) != True: unExpanded[i] = key   #Check if removed children are present and if not add to unExpanded\n",
    "        \n",
    "        expanded[key] = value                                               #Add state: parent to the expanded dictionary\n",
    "        \n",
    "        if key == goalState:                                                #If the goal has been found (in python, goalState is in children):\n",
    "            path = [startState]                                                       #Initialize the solution list\n",
    "            \n",
    "            while key != startState:                                        #While parent exists:\n",
    "                path.insert(1, key)                                         #Insert key to the front of the solution path.\n",
    "                key = expanded[key]                                         #Set key to the parent of key.                                \n",
    "                \n",
    "            return path                                                     #Return the solution path.\n",
    "            \n",
    "    else: return 'Goal not found'                                           #If all paths have been searched and goalState not found\n",
    "        \n",
    "def breadthFirstSearch(startState, goalState, successorsf):                 #Breadth First Search  \n",
    "    return uninformedSearch(startState, goalState, successorsf, True)\n",
    "    \n",
    "def depthFirstSearch(startState, goalState, successorsf):                   #Depth First Search \n",
    "    return uninformedSearch(startState, goalState, successorsf, False)\n",
    "    \n",
    "# breadthFirstSearch('a', 'i', successorsf)\n",
    "# depthFirstSearch('a', 'i', successorsf)\n",
    "# breadthFirstSearch((0, 0), (9, 9), gridSuccessors)\n",
    "# depthFirstSearch((0, 0), (9, 9), gridSuccessors)\n",
    "# breadthFirstSearch(camelStartState, camelGoalState, camelSuccessorsf)\n",
    "# depthFirstSearch(camelStartState, camelGoalState, camelSuccessorsf)\n",
    "\n",
    "%run -i A1grader.py\n"
   ]
  },
  {
   "cell_type": "code",
   "execution_count": null,
   "metadata": {
    "collapsed": true
   },
   "outputs": [],
   "source": []
  }
 ],
 "metadata": {
  "kernelspec": {
   "display_name": "Python 3",
   "language": "python",
   "name": "python3"
  },
  "language_info": {
   "codemirror_mode": {
    "name": "ipython",
    "version": 3
   },
   "file_extension": ".py",
   "mimetype": "text/x-python",
   "name": "python",
   "nbconvert_exporter": "python",
   "pygments_lexer": "ipython3",
   "version": "3.6.3"
  }
 },
 "nbformat": 4,
 "nbformat_minor": 2
}
